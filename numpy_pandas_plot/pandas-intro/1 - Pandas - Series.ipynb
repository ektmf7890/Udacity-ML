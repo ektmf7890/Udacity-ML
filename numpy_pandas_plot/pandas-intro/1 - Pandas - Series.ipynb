{
 "cells": [
  {
   "cell_type": "markdown",
   "source": [
    "![rmotr](https://user-images.githubusercontent.com/7065401/52071918-bda15380-2562-11e9-828c-7f95297e4a82.png)\n",
    "<hr style=\"margin-bottom: 40px;\">\n",
    "\n",
    "<img src=\"https://user-images.githubusercontent.com/7065401/75165824-badf4680-5701-11ea-9c5b-5475b0a33abf.png\"\n",
    "    style=\"width:300px; float: right; margin: 0 40px 40px 40px;\"></img>\n",
    "\n",
    "# Pandas - Series\n"
   ],
   "metadata": {}
  },
  {
   "cell_type": "markdown",
   "source": [
    "![purple-divider](https://user-images.githubusercontent.com/7065401/52071927-c1cd7100-2562-11e9-908a-dde91ba14e59.png)\n",
    "\n",
    "## Hands on! "
   ],
   "metadata": {}
  },
  {
   "cell_type": "code",
   "execution_count": 1,
   "source": [
    "import pandas as pd\n",
    "import numpy as np"
   ],
   "outputs": [],
   "metadata": {}
  },
  {
   "cell_type": "markdown",
   "source": [
    "## Pandas Series\n",
    "\n",
    "We'll start analyzing \"[The Group of Seven](https://en.wikipedia.org/wiki/Group_of_Seven)\". Which is a political formed by Canada, France, Germany, Italy, Japan, the United Kingdom and the United States. We'll start by analyzing population, and for that, we'll use a `pandas.Series` object."
   ],
   "metadata": {}
  },
  {
   "cell_type": "code",
   "execution_count": 2,
   "source": [
    "# In millions\n",
    "g7_pop = pd.Series([35.467, 63.951, 80.940, 60.665, 127.061, 64.511, 318.523])"
   ],
   "outputs": [],
   "metadata": {}
  },
  {
   "cell_type": "code",
   "execution_count": 4,
   "source": [
    "g7_pop"
   ],
   "outputs": [
    {
     "output_type": "execute_result",
     "data": {
      "text/plain": [
       "0     35.467\n",
       "1     63.951\n",
       "2     80.940\n",
       "3     60.665\n",
       "4    127.061\n",
       "5     64.511\n",
       "6    318.523\n",
       "dtype: float64"
      ]
     },
     "metadata": {},
     "execution_count": 4
    }
   ],
   "metadata": {
    "scrolled": true
   }
  },
  {
   "cell_type": "markdown",
   "source": [
    "Someone might not know we're representing population in millions of inhabitants. Series can have a `name`, to better document the purpose of the Series:"
   ],
   "metadata": {}
  },
  {
   "cell_type": "code",
   "execution_count": 5,
   "source": [
    "g7_pop.name = 'G7 Population in millions'"
   ],
   "outputs": [],
   "metadata": {}
  },
  {
   "cell_type": "code",
   "execution_count": 6,
   "source": [
    "g7_pop"
   ],
   "outputs": [
    {
     "output_type": "execute_result",
     "data": {
      "text/plain": [
       "0     35.467\n",
       "1     63.951\n",
       "2     80.940\n",
       "3     60.665\n",
       "4    127.061\n",
       "5     64.511\n",
       "6    318.523\n",
       "Name: G7 Population in millions, dtype: float64"
      ]
     },
     "metadata": {},
     "execution_count": 6
    }
   ],
   "metadata": {}
  },
  {
   "cell_type": "markdown",
   "source": [
    "Series are pretty similar to numpy arrays:"
   ],
   "metadata": {}
  },
  {
   "cell_type": "code",
   "execution_count": 7,
   "source": [
    "g7_pop.dtype"
   ],
   "outputs": [
    {
     "output_type": "execute_result",
     "data": {
      "text/plain": [
       "dtype('float64')"
      ]
     },
     "metadata": {},
     "execution_count": 7
    }
   ],
   "metadata": {}
  },
  {
   "cell_type": "code",
   "execution_count": 8,
   "source": [
    "g7_pop.values"
   ],
   "outputs": [
    {
     "output_type": "execute_result",
     "data": {
      "text/plain": [
       "array([ 35.467,  63.951,  80.94 ,  60.665, 127.061,  64.511, 318.523])"
      ]
     },
     "metadata": {},
     "execution_count": 8
    }
   ],
   "metadata": {}
  },
  {
   "cell_type": "markdown",
   "source": [
    "They're actually backed by numpy arrays:"
   ],
   "metadata": {}
  },
  {
   "cell_type": "code",
   "execution_count": 9,
   "source": [
    "type(g7_pop.values)"
   ],
   "outputs": [
    {
     "output_type": "execute_result",
     "data": {
      "text/plain": [
       "numpy.ndarray"
      ]
     },
     "metadata": {},
     "execution_count": 9
    }
   ],
   "metadata": {}
  },
  {
   "cell_type": "markdown",
   "source": [
    "And they _look_ like simple Python lists or Numpy Arrays. But they're actually more similar to Python `dict`s.\n",
    "\n",
    "A Series has an `index`, that's similar to the automatic index assigned to Python's lists:"
   ],
   "metadata": {}
  },
  {
   "cell_type": "code",
   "execution_count": 10,
   "source": [
    "g7_pop"
   ],
   "outputs": [
    {
     "output_type": "execute_result",
     "data": {
      "text/plain": [
       "0     35.467\n",
       "1     63.951\n",
       "2     80.940\n",
       "3     60.665\n",
       "4    127.061\n",
       "5     64.511\n",
       "6    318.523\n",
       "Name: G7 Population in millions, dtype: float64"
      ]
     },
     "metadata": {},
     "execution_count": 10
    }
   ],
   "metadata": {}
  },
  {
   "cell_type": "code",
   "execution_count": 11,
   "source": [
    "g7_pop[0]"
   ],
   "outputs": [
    {
     "output_type": "execute_result",
     "data": {
      "text/plain": [
       "35.467"
      ]
     },
     "metadata": {},
     "execution_count": 11
    }
   ],
   "metadata": {}
  },
  {
   "cell_type": "code",
   "execution_count": 12,
   "source": [
    "g7_pop[1]"
   ],
   "outputs": [
    {
     "output_type": "execute_result",
     "data": {
      "text/plain": [
       "63.951"
      ]
     },
     "metadata": {},
     "execution_count": 12
    }
   ],
   "metadata": {}
  },
  {
   "cell_type": "code",
   "execution_count": 13,
   "source": [
    "g7_pop.index"
   ],
   "outputs": [
    {
     "output_type": "execute_result",
     "data": {
      "text/plain": [
       "RangeIndex(start=0, stop=7, step=1)"
      ]
     },
     "metadata": {},
     "execution_count": 13
    }
   ],
   "metadata": {}
  },
  {
   "cell_type": "code",
   "execution_count": 14,
   "source": [
    "l = ['a', 'b', 'c']"
   ],
   "outputs": [],
   "metadata": {}
  },
  {
   "cell_type": "markdown",
   "source": [
    "But, in contrast to lists, we can explicitly define the index:"
   ],
   "metadata": {}
  },
  {
   "cell_type": "code",
   "execution_count": 15,
   "source": [
    "g7_pop.index = [\n",
    "    'Canada',\n",
    "    'France',\n",
    "    'Germany',\n",
    "    'Italy',\n",
    "    'Japan',\n",
    "    'United Kingdom',\n",
    "    'United States',\n",
    "]"
   ],
   "outputs": [],
   "metadata": {}
  },
  {
   "cell_type": "code",
   "execution_count": 20,
   "source": [
    "g7_pop.iloc[0]\n",
    "g7_pop[0]"
   ],
   "outputs": [
    {
     "output_type": "execute_result",
     "data": {
      "text/plain": [
       "35.467"
      ]
     },
     "metadata": {},
     "execution_count": 20
    }
   ],
   "metadata": {}
  },
  {
   "cell_type": "markdown",
   "source": [
    "Compare it with the [following table](https://docs.google.com/spreadsheets/d/1IlorV2-Oh9Da1JAZ7weVw86PQrQydSMp-ydVMH135iI/edit?usp=sharing): \n",
    "\n",
    "<img width=\"350\" src=\"https://user-images.githubusercontent.com/872296/38149656-b5ce9816-3431-11e8-88e4-195756e25355.png\" />\n",
    "\n",
    "We can say that Series look like \"ordered dictionaries\". We can actually create Series out of dictionaries:"
   ],
   "metadata": {}
  },
  {
   "cell_type": "code",
   "execution_count": 21,
   "source": [
    "pd.Series({\n",
    "    'Canada': 35.467,\n",
    "    'France': 63.951,\n",
    "    'Germany': 80.94,\n",
    "    'Italy': 60.665,\n",
    "    'Japan': 127.061,\n",
    "    'United Kingdom': 64.511,\n",
    "    'United States': 318.523\n",
    "}, name='G7 Population in millions')"
   ],
   "outputs": [
    {
     "output_type": "execute_result",
     "data": {
      "text/plain": [
       "Canada             35.467\n",
       "France             63.951\n",
       "Germany            80.940\n",
       "Italy              60.665\n",
       "Japan             127.061\n",
       "United Kingdom     64.511\n",
       "United States     318.523\n",
       "Name: G7 Population in millions, dtype: float64"
      ]
     },
     "metadata": {},
     "execution_count": 21
    }
   ],
   "metadata": {
    "scrolled": true
   }
  },
  {
   "cell_type": "code",
   "execution_count": 22,
   "source": [
    "pd.Series(\n",
    "    [35.467, 63.951, 80.94, 60.665, 127.061, 64.511, 318.523],\n",
    "    index=['Canada', 'France', 'Germany', 'Italy', 'Japan', 'United Kingdom',\n",
    "       'United States'],\n",
    "    name='G7 Population in millions')"
   ],
   "outputs": [
    {
     "output_type": "execute_result",
     "data": {
      "text/plain": [
       "Canada             35.467\n",
       "France             63.951\n",
       "Germany            80.940\n",
       "Italy              60.665\n",
       "Japan             127.061\n",
       "United Kingdom     64.511\n",
       "United States     318.523\n",
       "Name: G7 Population in millions, dtype: float64"
      ]
     },
     "metadata": {},
     "execution_count": 22
    }
   ],
   "metadata": {}
  },
  {
   "cell_type": "markdown",
   "source": [
    "You can also create Series out of other series, specifying indexes:"
   ],
   "metadata": {}
  },
  {
   "cell_type": "code",
   "execution_count": 23,
   "source": [
    "pd.Series(g7_pop, index=['France', 'Germany', 'Italy', 'Spain'])"
   ],
   "outputs": [
    {
     "output_type": "execute_result",
     "data": {
      "text/plain": [
       "France     63.951\n",
       "Germany    80.940\n",
       "Italy      60.665\n",
       "Spain         NaN\n",
       "Name: G7 Population in millions, dtype: float64"
      ]
     },
     "metadata": {},
     "execution_count": 23
    }
   ],
   "metadata": {}
  },
  {
   "cell_type": "markdown",
   "source": [
    "![green-divider](https://user-images.githubusercontent.com/7065401/52071924-c003ad80-2562-11e9-8297-1c6595f8a7ff.png)\n",
    "\n",
    "## Indexing\n",
    "\n",
    "Indexing works similarly to lists and dictionaries, you use the **index** of the element you're looking for:"
   ],
   "metadata": {}
  },
  {
   "cell_type": "code",
   "execution_count": 24,
   "source": [
    "g7_pop"
   ],
   "outputs": [
    {
     "output_type": "execute_result",
     "data": {
      "text/plain": [
       "Canada             35.467\n",
       "France             63.951\n",
       "Germany            80.940\n",
       "Italy              60.665\n",
       "Japan             127.061\n",
       "United Kingdom     64.511\n",
       "United States     318.523\n",
       "Name: G7 Population in millions, dtype: float64"
      ]
     },
     "metadata": {},
     "execution_count": 24
    }
   ],
   "metadata": {}
  },
  {
   "cell_type": "code",
   "execution_count": 25,
   "source": [
    "g7_pop['Canada']"
   ],
   "outputs": [
    {
     "output_type": "execute_result",
     "data": {
      "text/plain": [
       "35.467"
      ]
     },
     "metadata": {},
     "execution_count": 25
    }
   ],
   "metadata": {}
  },
  {
   "cell_type": "code",
   "execution_count": 26,
   "source": [
    "g7_pop['Japan']"
   ],
   "outputs": [
    {
     "output_type": "execute_result",
     "data": {
      "text/plain": [
       "127.061"
      ]
     },
     "metadata": {},
     "execution_count": 26
    }
   ],
   "metadata": {}
  },
  {
   "cell_type": "markdown",
   "source": [
    "Numeric positions can also be used, with the `iloc` attribute:"
   ],
   "metadata": {}
  },
  {
   "cell_type": "code",
   "execution_count": 27,
   "source": [
    "g7_pop.iloc[0]"
   ],
   "outputs": [
    {
     "output_type": "execute_result",
     "data": {
      "text/plain": [
       "35.467"
      ]
     },
     "metadata": {},
     "execution_count": 27
    }
   ],
   "metadata": {}
  },
  {
   "cell_type": "code",
   "execution_count": 28,
   "source": [
    "g7_pop.iloc[-1]"
   ],
   "outputs": [
    {
     "output_type": "execute_result",
     "data": {
      "text/plain": [
       "318.523"
      ]
     },
     "metadata": {},
     "execution_count": 28
    }
   ],
   "metadata": {
    "scrolled": true
   }
  },
  {
   "cell_type": "markdown",
   "source": [
    "Selecting multiple elements at once:"
   ],
   "metadata": {}
  },
  {
   "cell_type": "code",
   "execution_count": 34,
   "source": [
    "print(g7_pop[['Italy', 'France']])\n",
    "print(type(g7_pop[['Italy', 'France']]))"
   ],
   "outputs": [
    {
     "output_type": "stream",
     "name": "stdout",
     "text": [
      "Italy     60.665\n",
      "France    63.951\n",
      "Name: G7 Population in millions, dtype: float64\n",
      "<class 'pandas.core.series.Series'>\n"
     ]
    }
   ],
   "metadata": {
    "scrolled": true
   }
  },
  {
   "cell_type": "markdown",
   "source": [
    "_(The result is another Series)_"
   ],
   "metadata": {}
  },
  {
   "cell_type": "code",
   "execution_count": 35,
   "source": [
    "g7_pop.iloc[[0, 1]]"
   ],
   "outputs": [
    {
     "output_type": "execute_result",
     "data": {
      "text/plain": [
       "Canada    35.467\n",
       "France    63.951\n",
       "Name: G7 Population in millions, dtype: float64"
      ]
     },
     "metadata": {},
     "execution_count": 35
    }
   ],
   "metadata": {
    "scrolled": true
   }
  },
  {
   "cell_type": "markdown",
   "source": [
    "Slicing also works, but **important**, in Pandas, the upper limit is also included:"
   ],
   "metadata": {}
  },
  {
   "cell_type": "code",
   "execution_count": 36,
   "source": [
    "g7_pop['Canada': 'Italy']"
   ],
   "outputs": [
    {
     "output_type": "execute_result",
     "data": {
      "text/plain": [
       "Canada     35.467\n",
       "France     63.951\n",
       "Germany    80.940\n",
       "Italy      60.665\n",
       "Name: G7 Population in millions, dtype: float64"
      ]
     },
     "metadata": {},
     "execution_count": 36
    }
   ],
   "metadata": {}
  },
  {
   "cell_type": "markdown",
   "source": [
    "![green-divider](https://user-images.githubusercontent.com/7065401/52071924-c003ad80-2562-11e9-8297-1c6595f8a7ff.png)\n",
    "\n",
    "## Conditional selection (boolean arrays)\n",
    "\n",
    "The same boolean array techniques we saw applied to numpy arrays can be used for Pandas `Series`:"
   ],
   "metadata": {}
  },
  {
   "cell_type": "code",
   "execution_count": 37,
   "source": [
    "g7_pop"
   ],
   "outputs": [
    {
     "output_type": "execute_result",
     "data": {
      "text/plain": [
       "Canada             35.467\n",
       "France             63.951\n",
       "Germany            80.940\n",
       "Italy              60.665\n",
       "Japan             127.061\n",
       "United Kingdom     64.511\n",
       "United States     318.523\n",
       "Name: G7 Population in millions, dtype: float64"
      ]
     },
     "metadata": {},
     "execution_count": 37
    }
   ],
   "metadata": {}
  },
  {
   "cell_type": "code",
   "execution_count": 38,
   "source": [
    "g7_pop > 70"
   ],
   "outputs": [
    {
     "output_type": "execute_result",
     "data": {
      "text/plain": [
       "Canada            False\n",
       "France            False\n",
       "Germany            True\n",
       "Italy             False\n",
       "Japan              True\n",
       "United Kingdom    False\n",
       "United States      True\n",
       "Name: G7 Population in millions, dtype: bool"
      ]
     },
     "metadata": {},
     "execution_count": 38
    }
   ],
   "metadata": {}
  },
  {
   "cell_type": "code",
   "execution_count": 39,
   "source": [
    "g7_pop[g7_pop > 70]"
   ],
   "outputs": [
    {
     "output_type": "execute_result",
     "data": {
      "text/plain": [
       "Germany           80.940\n",
       "Japan            127.061\n",
       "United States    318.523\n",
       "Name: G7 Population in millions, dtype: float64"
      ]
     },
     "metadata": {},
     "execution_count": 39
    }
   ],
   "metadata": {}
  },
  {
   "cell_type": "code",
   "execution_count": 40,
   "source": [
    "g7_pop.mean()"
   ],
   "outputs": [
    {
     "output_type": "execute_result",
     "data": {
      "text/plain": [
       "107.30257142857144"
      ]
     },
     "metadata": {},
     "execution_count": 40
    }
   ],
   "metadata": {}
  },
  {
   "cell_type": "code",
   "execution_count": 41,
   "source": [
    "g7_pop[g7_pop > g7_pop.mean()]"
   ],
   "outputs": [
    {
     "output_type": "execute_result",
     "data": {
      "text/plain": [
       "Japan            127.061\n",
       "United States    318.523\n",
       "Name: G7 Population in millions, dtype: float64"
      ]
     },
     "metadata": {},
     "execution_count": 41
    }
   ],
   "metadata": {}
  },
  {
   "cell_type": "code",
   "execution_count": 42,
   "source": [
    "g7_pop.std()"
   ],
   "outputs": [
    {
     "output_type": "execute_result",
     "data": {
      "text/plain": [
       "97.24996987121581"
      ]
     },
     "metadata": {},
     "execution_count": 42
    }
   ],
   "metadata": {}
  },
  {
   "cell_type": "code",
   "execution_count": null,
   "source": [
    "~ not\n",
    "| or\n",
    "& and"
   ],
   "outputs": [],
   "metadata": {}
  },
  {
   "cell_type": "code",
   "execution_count": null,
   "source": [
    "g7_pop[(g7_pop > g7_pop.mean() - g7_pop.std() / 2) | (g7_pop > g7_pop.mean() + g7_pop.std() / 2)]"
   ],
   "outputs": [],
   "metadata": {
    "scrolled": true
   }
  },
  {
   "cell_type": "markdown",
   "source": [
    "![green-divider](https://user-images.githubusercontent.com/7065401/52071924-c003ad80-2562-11e9-8297-1c6595f8a7ff.png)\n",
    "\n",
    "## Operations and methods\n",
    "Series also support vectorized operations and aggregation functions as Numpy:"
   ],
   "metadata": {}
  },
  {
   "cell_type": "code",
   "execution_count": 43,
   "source": [
    "g7_pop"
   ],
   "outputs": [
    {
     "output_type": "execute_result",
     "data": {
      "text/plain": [
       "Canada             35.467\n",
       "France             63.951\n",
       "Germany            80.940\n",
       "Italy              60.665\n",
       "Japan             127.061\n",
       "United Kingdom     64.511\n",
       "United States     318.523\n",
       "Name: G7 Population in millions, dtype: float64"
      ]
     },
     "metadata": {},
     "execution_count": 43
    }
   ],
   "metadata": {}
  },
  {
   "cell_type": "code",
   "execution_count": 44,
   "source": [
    "g7_pop * 1_000_000"
   ],
   "outputs": [
    {
     "output_type": "execute_result",
     "data": {
      "text/plain": [
       "Canada             35467000.0\n",
       "France             63951000.0\n",
       "Germany            80940000.0\n",
       "Italy              60665000.0\n",
       "Japan             127061000.0\n",
       "United Kingdom     64511000.0\n",
       "United States     318523000.0\n",
       "Name: G7 Population in millions, dtype: float64"
      ]
     },
     "metadata": {},
     "execution_count": 44
    }
   ],
   "metadata": {}
  },
  {
   "cell_type": "code",
   "execution_count": 45,
   "source": [
    "g7_pop.mean()"
   ],
   "outputs": [
    {
     "output_type": "execute_result",
     "data": {
      "text/plain": [
       "107.30257142857144"
      ]
     },
     "metadata": {},
     "execution_count": 45
    }
   ],
   "metadata": {}
  },
  {
   "cell_type": "code",
   "execution_count": 46,
   "source": [
    "np.log(g7_pop)"
   ],
   "outputs": [
    {
     "output_type": "execute_result",
     "data": {
      "text/plain": [
       "Canada            3.568603\n",
       "France            4.158117\n",
       "Germany           4.393708\n",
       "Italy             4.105367\n",
       "Japan             4.844667\n",
       "United Kingdom    4.166836\n",
       "United States     5.763695\n",
       "Name: G7 Population in millions, dtype: float64"
      ]
     },
     "metadata": {},
     "execution_count": 46
    }
   ],
   "metadata": {
    "scrolled": true
   }
  },
  {
   "cell_type": "code",
   "execution_count": 47,
   "source": [
    "g7_pop['France': 'Italy'].mean()"
   ],
   "outputs": [
    {
     "output_type": "execute_result",
     "data": {
      "text/plain": [
       "68.51866666666666"
      ]
     },
     "metadata": {},
     "execution_count": 47
    }
   ],
   "metadata": {}
  },
  {
   "cell_type": "markdown",
   "source": [
    "![green-divider](https://user-images.githubusercontent.com/7065401/52071924-c003ad80-2562-11e9-8297-1c6595f8a7ff.png)\n",
    "\n",
    "## Boolean arrays\n",
    "(Work in the same way as numpy)"
   ],
   "metadata": {}
  },
  {
   "cell_type": "code",
   "execution_count": 48,
   "source": [
    "g7_pop"
   ],
   "outputs": [
    {
     "output_type": "execute_result",
     "data": {
      "text/plain": [
       "Canada             35.467\n",
       "France             63.951\n",
       "Germany            80.940\n",
       "Italy              60.665\n",
       "Japan             127.061\n",
       "United Kingdom     64.511\n",
       "United States     318.523\n",
       "Name: G7 Population in millions, dtype: float64"
      ]
     },
     "metadata": {},
     "execution_count": 48
    }
   ],
   "metadata": {}
  },
  {
   "cell_type": "code",
   "execution_count": 49,
   "source": [
    "g7_pop > 80"
   ],
   "outputs": [
    {
     "output_type": "execute_result",
     "data": {
      "text/plain": [
       "Canada            False\n",
       "France            False\n",
       "Germany            True\n",
       "Italy             False\n",
       "Japan              True\n",
       "United Kingdom    False\n",
       "United States      True\n",
       "Name: G7 Population in millions, dtype: bool"
      ]
     },
     "metadata": {},
     "execution_count": 49
    }
   ],
   "metadata": {}
  },
  {
   "cell_type": "code",
   "execution_count": 50,
   "source": [
    "g7_pop[g7_pop > 80]"
   ],
   "outputs": [
    {
     "output_type": "execute_result",
     "data": {
      "text/plain": [
       "Germany           80.940\n",
       "Japan            127.061\n",
       "United States    318.523\n",
       "Name: G7 Population in millions, dtype: float64"
      ]
     },
     "metadata": {},
     "execution_count": 50
    }
   ],
   "metadata": {
    "scrolled": true
   }
  },
  {
   "cell_type": "code",
   "execution_count": 51,
   "source": [
    "g7_pop[(g7_pop > 80) | (g7_pop < 40)]"
   ],
   "outputs": [
    {
     "output_type": "execute_result",
     "data": {
      "text/plain": [
       "Canada            35.467\n",
       "Germany           80.940\n",
       "Japan            127.061\n",
       "United States    318.523\n",
       "Name: G7 Population in millions, dtype: float64"
      ]
     },
     "metadata": {},
     "execution_count": 51
    }
   ],
   "metadata": {
    "scrolled": true
   }
  },
  {
   "cell_type": "code",
   "execution_count": 43,
   "source": [
    "g7_pop[(g7_pop > 80) & (g7_pop < 200)]"
   ],
   "outputs": [
    {
     "output_type": "execute_result",
     "data": {
      "text/plain": [
       "Germany     80.940\n",
       "Japan      127.061\n",
       "Name: G7 Population in millions, dtype: float64"
      ]
     },
     "metadata": {},
     "execution_count": 43
    }
   ],
   "metadata": {
    "scrolled": true
   }
  },
  {
   "cell_type": "markdown",
   "source": [
    "![green-divider](https://user-images.githubusercontent.com/7065401/52071924-c003ad80-2562-11e9-8297-1c6595f8a7ff.png)\n",
    "\n",
    "## Modifying series\n"
   ],
   "metadata": {}
  },
  {
   "cell_type": "code",
   "execution_count": 44,
   "source": [
    "g7_pop['Canada'] = 40.5"
   ],
   "outputs": [],
   "metadata": {}
  },
  {
   "cell_type": "code",
   "execution_count": 45,
   "source": [
    "g7_pop"
   ],
   "outputs": [
    {
     "output_type": "execute_result",
     "data": {
      "text/plain": [
       "Canada             40.500\n",
       "France             63.951\n",
       "Germany            80.940\n",
       "Italy              60.665\n",
       "Japan             127.061\n",
       "United Kingdom     64.511\n",
       "United States     318.523\n",
       "Name: G7 Population in millions, dtype: float64"
      ]
     },
     "metadata": {},
     "execution_count": 45
    }
   ],
   "metadata": {}
  },
  {
   "cell_type": "code",
   "execution_count": 46,
   "source": [
    "g7_pop.iloc[-1] = 500"
   ],
   "outputs": [],
   "metadata": {}
  },
  {
   "cell_type": "code",
   "execution_count": 47,
   "source": [
    "g7_pop"
   ],
   "outputs": [
    {
     "output_type": "execute_result",
     "data": {
      "text/plain": [
       "Canada             40.500\n",
       "France             63.951\n",
       "Germany            80.940\n",
       "Italy              60.665\n",
       "Japan             127.061\n",
       "United Kingdom     64.511\n",
       "United States     500.000\n",
       "Name: G7 Population in millions, dtype: float64"
      ]
     },
     "metadata": {},
     "execution_count": 47
    }
   ],
   "metadata": {}
  },
  {
   "cell_type": "code",
   "execution_count": 48,
   "source": [
    "g7_pop[g7_pop < 70]"
   ],
   "outputs": [
    {
     "output_type": "execute_result",
     "data": {
      "text/plain": [
       "Canada            40.500\n",
       "France            63.951\n",
       "Italy             60.665\n",
       "United Kingdom    64.511\n",
       "Name: G7 Population in millions, dtype: float64"
      ]
     },
     "metadata": {},
     "execution_count": 48
    }
   ],
   "metadata": {}
  },
  {
   "cell_type": "code",
   "execution_count": 49,
   "source": [
    "g7_pop[g7_pop < 70] = 99.99"
   ],
   "outputs": [],
   "metadata": {}
  },
  {
   "cell_type": "code",
   "execution_count": 50,
   "source": [
    "g7_pop"
   ],
   "outputs": [
    {
     "output_type": "execute_result",
     "data": {
      "text/plain": [
       "Canada             99.990\n",
       "France             99.990\n",
       "Germany            80.940\n",
       "Italy              99.990\n",
       "Japan             127.061\n",
       "United Kingdom     99.990\n",
       "United States     500.000\n",
       "Name: G7 Population in millions, dtype: float64"
      ]
     },
     "metadata": {},
     "execution_count": 50
    }
   ],
   "metadata": {
    "scrolled": true
   }
  },
  {
   "cell_type": "markdown",
   "source": [
    "![purple-divider](https://user-images.githubusercontent.com/7065401/52071927-c1cd7100-2562-11e9-908a-dde91ba14e59.png)\n"
   ],
   "metadata": {}
  }
 ],
 "metadata": {
  "kernelspec": {
   "name": "python3",
   "display_name": "Python 3.6.9 64-bit ('udacity_ml': venv)"
  },
  "language_info": {
   "codemirror_mode": {
    "name": "ipython",
    "version": 3
   },
   "file_extension": ".py",
   "mimetype": "text/x-python",
   "name": "python",
   "nbconvert_exporter": "python",
   "pygments_lexer": "ipython3",
   "version": "3.6.9"
  },
  "interpreter": {
   "hash": "a14c8b56d5eece52e19a167c087b3472da437c9ced85b63f60e4cf748c6dee14"
  }
 },
 "nbformat": 4,
 "nbformat_minor": 4
}