{
 "cells": [
  {
   "cell_type": "markdown",
   "source": [
    "![rmotr](https://user-images.githubusercontent.com/7065401/52071918-bda15380-2562-11e9-828c-7f95297e4a82.png)\n",
    "<hr style=\"margin-bottom: 40px;\">\n",
    "\n",
    "<img src=\"https://user-images.githubusercontent.com/7065401/39118381-910eb0c2-46e9-11e8-81f1-a5b897401c23.jpeg\"\n",
    "    style=\"width:300px; float: right; margin: 0 40px 40px 40px;\"></img>\n",
    "\n",
    "# Numpy: Numeric computing library\n",
    "\n",
    "NumPy (Numerical Python) is one of the core packages for numerical computing in Python. Pandas, Matplotlib, Statmodels and many other Scientific libraries rely on NumPy.\n",
    "\n",
    "NumPy major contributions are:\n",
    "\n",
    "* Efficient numeric computation with C primitives\n",
    "* Efficient collections with vectorized operations\n",
    "* An integrated and natural Linear Algebra API\n",
    "* A C API for connecting NumPy with libraries written in C, C++, or FORTRAN.\n",
    "\n",
    "Let's develop on efficiency. In Python, **everything is an object**, which means that even simple ints are also objects, with all the required machinery to make object work. We call them \"Boxed Ints\". In contrast, NumPy uses primitive numeric types (floats, ints) which makes storing and computation efficient."
   ],
   "metadata": {}
  },
  {
   "cell_type": "markdown",
   "source": [
    "<img src=\"https://docs.google.com/drawings/d/e/2PACX-1vTkDtKYMUVdpfVb3TTpr_8rrVtpal2dOknUUEOu85wJ1RitzHHf5nsJqz1O0SnTt8BwgJjxXMYXyIqs/pub?w=726&h=396\" />\n"
   ],
   "metadata": {}
  },
  {
   "cell_type": "markdown",
   "source": [
    "![purple-divider](https://user-images.githubusercontent.com/7065401/52071927-c1cd7100-2562-11e9-908a-dde91ba14e59.png)\n",
    "\n",
    "## Hands on! "
   ],
   "metadata": {}
  },
  {
   "cell_type": "code",
   "execution_count": 2,
   "source": [
    "import sys\n",
    "import numpy as np"
   ],
   "outputs": [],
   "metadata": {}
  },
  {
   "cell_type": "markdown",
   "source": [
    "## Basic Numpy Arrays"
   ],
   "metadata": {}
  },
  {
   "cell_type": "code",
   "execution_count": 4,
   "source": [
    "print(sys.getsizeof(np.array([1, 2, 3, 4])))\n",
    "print(sys.getsizeof([1, 2, 3, 4]))"
   ],
   "outputs": [
    {
     "output_type": "stream",
     "name": "stdout",
     "text": [
      "128\n",
      "96\n"
     ]
    }
   ],
   "metadata": {}
  },
  {
   "cell_type": "code",
   "execution_count": 5,
   "source": [
    "a = np.array([1, 2, 3, 4])\n",
    "sys.getsizeof(a)"
   ],
   "outputs": [
    {
     "output_type": "execute_result",
     "data": {
      "text/plain": [
       "128"
      ]
     },
     "metadata": {},
     "execution_count": 5
    }
   ],
   "metadata": {}
  },
  {
   "cell_type": "code",
   "execution_count": 7,
   "source": [
    "b = np.array([0, .5, 1, 1.5, 2])"
   ],
   "outputs": [],
   "metadata": {}
  },
  {
   "cell_type": "code",
   "execution_count": 7,
   "source": [
    "a[0], a[1]"
   ],
   "outputs": [
    {
     "output_type": "execute_result",
     "data": {
      "text/plain": [
       "(1, 2)"
      ]
     },
     "metadata": {},
     "execution_count": 7
    }
   ],
   "metadata": {}
  },
  {
   "cell_type": "code",
   "execution_count": 8,
   "source": [
    "a[0:]"
   ],
   "outputs": [
    {
     "output_type": "execute_result",
     "data": {
      "text/plain": [
       "array([1, 2, 3, 4])"
      ]
     },
     "metadata": {},
     "execution_count": 8
    }
   ],
   "metadata": {}
  },
  {
   "cell_type": "code",
   "execution_count": 9,
   "source": [
    "a[1:3]"
   ],
   "outputs": [
    {
     "output_type": "execute_result",
     "data": {
      "text/plain": [
       "array([2, 3])"
      ]
     },
     "metadata": {},
     "execution_count": 9
    }
   ],
   "metadata": {}
  },
  {
   "cell_type": "code",
   "execution_count": 10,
   "source": [
    "a[1:-1]"
   ],
   "outputs": [
    {
     "output_type": "execute_result",
     "data": {
      "text/plain": [
       "array([2, 3])"
      ]
     },
     "metadata": {},
     "execution_count": 10
    }
   ],
   "metadata": {
    "scrolled": true
   }
  },
  {
   "cell_type": "code",
   "execution_count": 13,
   "source": [
    "a[::2]"
   ],
   "outputs": [
    {
     "output_type": "execute_result",
     "data": {
      "text/plain": [
       "array([1, 3])"
      ]
     },
     "metadata": {},
     "execution_count": 13
    }
   ],
   "metadata": {}
  },
  {
   "cell_type": "code",
   "execution_count": 14,
   "source": [
    "b"
   ],
   "outputs": [
    {
     "output_type": "execute_result",
     "data": {
      "text/plain": [
       "array([0. , 0.5, 1. , 1.5, 2. ])"
      ]
     },
     "metadata": {},
     "execution_count": 14
    }
   ],
   "metadata": {}
  },
  {
   "cell_type": "code",
   "execution_count": 15,
   "source": [
    "b[0], b[2], b[-1]"
   ],
   "outputs": [
    {
     "output_type": "execute_result",
     "data": {
      "text/plain": [
       "(0.0, 1.0, 2.0)"
      ]
     },
     "metadata": {},
     "execution_count": 15
    }
   ],
   "metadata": {
    "scrolled": true
   }
  },
  {
   "cell_type": "code",
   "execution_count": 16,
   "source": [
    "b[[0, 2, -1]]"
   ],
   "outputs": [
    {
     "output_type": "execute_result",
     "data": {
      "text/plain": [
       "array([0., 1., 2.])"
      ]
     },
     "metadata": {},
     "execution_count": 16
    }
   ],
   "metadata": {}
  },
  {
   "cell_type": "code",
   "execution_count": 24,
   "source": [
    "c = np.array([\n",
    "    [1, 2, 3],\n",
    "    [4, 5, 6]\n",
    "])\n",
    "\n",
    "c[[0], [1]]"
   ],
   "outputs": [
    {
     "output_type": "execute_result",
     "data": {
      "text/plain": [
       "array([2])"
      ]
     },
     "metadata": {},
     "execution_count": 24
    }
   ],
   "metadata": {}
  },
  {
   "cell_type": "markdown",
   "source": [
    "![green-divider](https://user-images.githubusercontent.com/7065401/52071924-c003ad80-2562-11e9-8297-1c6595f8a7ff.png)\n",
    "\n",
    "## Array Types"
   ],
   "metadata": {}
  },
  {
   "cell_type": "code",
   "execution_count": 3,
   "source": [
    "a = np.array([1,2,3,4], dtype=np.int8)"
   ],
   "outputs": [],
   "metadata": {}
  },
  {
   "cell_type": "code",
   "execution_count": 4,
   "source": [
    "a.dtype"
   ],
   "outputs": [
    {
     "output_type": "execute_result",
     "data": {
      "text/plain": [
       "dtype('int8')"
      ]
     },
     "metadata": {},
     "execution_count": 4
    }
   ],
   "metadata": {}
  },
  {
   "cell_type": "code",
   "execution_count": 5,
   "source": [
    "sys.getsizeof(a[0])"
   ],
   "outputs": [
    {
     "output_type": "execute_result",
     "data": {
      "text/plain": [
       "25"
      ]
     },
     "metadata": {},
     "execution_count": 5
    }
   ],
   "metadata": {}
  },
  {
   "cell_type": "code",
   "execution_count": 8,
   "source": [
    "b"
   ],
   "outputs": [
    {
     "output_type": "execute_result",
     "data": {
      "text/plain": [
       "array([0. , 0.5, 1. , 1.5, 2. ])"
      ]
     },
     "metadata": {},
     "execution_count": 8
    }
   ],
   "metadata": {}
  },
  {
   "cell_type": "code",
   "execution_count": 9,
   "source": [
    "b.dtype"
   ],
   "outputs": [
    {
     "output_type": "execute_result",
     "data": {
      "text/plain": [
       "dtype('float64')"
      ]
     },
     "metadata": {},
     "execution_count": 9
    }
   ],
   "metadata": {}
  },
  {
   "cell_type": "code",
   "execution_count": 10,
   "source": [
    "np.array([1, 2, 3, 4], dtype=np.float)"
   ],
   "outputs": [
    {
     "output_type": "execute_result",
     "data": {
      "text/plain": [
       "array([1., 2., 3., 4.])"
      ]
     },
     "metadata": {},
     "execution_count": 10
    }
   ],
   "metadata": {
    "scrolled": true
   }
  },
  {
   "cell_type": "code",
   "execution_count": 11,
   "source": [
    "np.array([1, 2, 3, 4], dtype=np.int8)"
   ],
   "outputs": [
    {
     "output_type": "execute_result",
     "data": {
      "text/plain": [
       "array([1, 2, 3, 4], dtype=int8)"
      ]
     },
     "metadata": {},
     "execution_count": 11
    }
   ],
   "metadata": {
    "scrolled": true
   }
  },
  {
   "cell_type": "code",
   "execution_count": 13,
   "source": [
    "c = np.array(['a', 'b', 'c'])"
   ],
   "outputs": [],
   "metadata": {}
  },
  {
   "cell_type": "code",
   "execution_count": 14,
   "source": [
    "c.dtype"
   ],
   "outputs": [
    {
     "output_type": "execute_result",
     "data": {
      "text/plain": [
       "dtype('<U1')"
      ]
     },
     "metadata": {},
     "execution_count": 14
    }
   ],
   "metadata": {}
  },
  {
   "cell_type": "code",
   "execution_count": 15,
   "source": [
    "d = np.array([{'a': 1}, sys])"
   ],
   "outputs": [],
   "metadata": {}
  },
  {
   "cell_type": "code",
   "execution_count": 16,
   "source": [
    "d.dtype"
   ],
   "outputs": [
    {
     "output_type": "execute_result",
     "data": {
      "text/plain": [
       "dtype('O')"
      ]
     },
     "metadata": {},
     "execution_count": 16
    }
   ],
   "metadata": {}
  },
  {
   "cell_type": "markdown",
   "source": [
    "![green-divider](https://user-images.githubusercontent.com/7065401/52071924-c003ad80-2562-11e9-8297-1c6595f8a7ff.png)\n",
    "\n",
    "## Dimensions and shapes"
   ],
   "metadata": {}
  },
  {
   "cell_type": "code",
   "execution_count": 17,
   "source": [
    "A = np.array([\n",
    "    [1, 2, 3],\n",
    "    [4, 5, 6]\n",
    "])"
   ],
   "outputs": [],
   "metadata": {}
  },
  {
   "cell_type": "code",
   "execution_count": null,
   "source": [],
   "outputs": [],
   "metadata": {}
  },
  {
   "cell_type": "code",
   "execution_count": 21,
   "source": [
    "A.shape"
   ],
   "outputs": [
    {
     "output_type": "execute_result",
     "data": {
      "text/plain": [
       "(2, 3)"
      ]
     },
     "metadata": {},
     "execution_count": 21
    }
   ],
   "metadata": {}
  },
  {
   "cell_type": "code",
   "execution_count": 22,
   "source": [
    "A.ndim"
   ],
   "outputs": [
    {
     "output_type": "execute_result",
     "data": {
      "text/plain": [
       "2"
      ]
     },
     "metadata": {},
     "execution_count": 22
    }
   ],
   "metadata": {}
  },
  {
   "cell_type": "code",
   "execution_count": 23,
   "source": [
    "A.size"
   ],
   "outputs": [
    {
     "output_type": "execute_result",
     "data": {
      "text/plain": [
       "6"
      ]
     },
     "metadata": {},
     "execution_count": 23
    }
   ],
   "metadata": {}
  },
  {
   "cell_type": "code",
   "execution_count": 43,
   "source": [
    "B = np.array([\n",
    "    [\n",
    "        [12, 11, 10],\n",
    "        [9, 8, 7],\n",
    "    ],\n",
    "    [\n",
    "        [6, 5, 4],\n",
    "        [3, 2, 1]\n",
    "    ]\n",
    "])"
   ],
   "outputs": [],
   "metadata": {}
  },
  {
   "cell_type": "code",
   "execution_count": 44,
   "source": [
    "B"
   ],
   "outputs": [
    {
     "output_type": "execute_result",
     "data": {
      "text/plain": [
       "array([[[12, 11, 10],\n",
       "        [ 9,  8,  7]],\n",
       "\n",
       "       [[ 6,  5,  4],\n",
       "        [ 3,  2,  1]]])"
      ]
     },
     "metadata": {},
     "execution_count": 44
    }
   ],
   "metadata": {}
  },
  {
   "cell_type": "code",
   "execution_count": 45,
   "source": [
    "B.shape"
   ],
   "outputs": [
    {
     "output_type": "execute_result",
     "data": {
      "text/plain": [
       "(2, 2, 3)"
      ]
     },
     "metadata": {},
     "execution_count": 45
    }
   ],
   "metadata": {}
  },
  {
   "cell_type": "code",
   "execution_count": 46,
   "source": [
    "B.ndim"
   ],
   "outputs": [
    {
     "output_type": "execute_result",
     "data": {
      "text/plain": [
       "3"
      ]
     },
     "metadata": {},
     "execution_count": 46
    }
   ],
   "metadata": {}
  },
  {
   "cell_type": "code",
   "execution_count": 47,
   "source": [
    "B.size"
   ],
   "outputs": [
    {
     "output_type": "execute_result",
     "data": {
      "text/plain": [
       "12"
      ]
     },
     "metadata": {},
     "execution_count": 47
    }
   ],
   "metadata": {}
  },
  {
   "cell_type": "markdown",
   "source": [
    "If the shape isn't consistent, it'll just fall back to regular Python objects:"
   ],
   "metadata": {}
  },
  {
   "cell_type": "code",
   "execution_count": 48,
   "source": [
    "C = np.array([\n",
    "    [\n",
    "        [12, 11, 10],\n",
    "        [9, 8, 7],\n",
    "    ],\n",
    "    [\n",
    "        [6, 5, 4]\n",
    "    ]\n",
    "])"
   ],
   "outputs": [
    {
     "output_type": "stream",
     "name": "stderr",
     "text": [
      "/home/dayoung/dev/udacity_ml/lib/python3.6/site-packages/ipykernel_launcher.py:7: VisibleDeprecationWarning: Creating an ndarray from ragged nested sequences (which is a list-or-tuple of lists-or-tuples-or ndarrays with different lengths or shapes) is deprecated. If you meant to do this, you must specify 'dtype=object' when creating the ndarray\n",
      "  import sys\n"
     ]
    }
   ],
   "metadata": {}
  },
  {
   "cell_type": "code",
   "execution_count": 49,
   "source": [
    "C.dtype"
   ],
   "outputs": [
    {
     "output_type": "execute_result",
     "data": {
      "text/plain": [
       "dtype('O')"
      ]
     },
     "metadata": {},
     "execution_count": 49
    }
   ],
   "metadata": {}
  },
  {
   "cell_type": "code",
   "execution_count": 50,
   "source": [
    "C.shape"
   ],
   "outputs": [
    {
     "output_type": "execute_result",
     "data": {
      "text/plain": [
       "(2,)"
      ]
     },
     "metadata": {},
     "execution_count": 50
    }
   ],
   "metadata": {}
  },
  {
   "cell_type": "code",
   "execution_count": 51,
   "source": [
    "C.size"
   ],
   "outputs": [
    {
     "output_type": "execute_result",
     "data": {
      "text/plain": [
       "2"
      ]
     },
     "metadata": {},
     "execution_count": 51
    }
   ],
   "metadata": {}
  },
  {
   "cell_type": "code",
   "execution_count": 52,
   "source": [
    "type(C[0])"
   ],
   "outputs": [
    {
     "output_type": "execute_result",
     "data": {
      "text/plain": [
       "list"
      ]
     },
     "metadata": {},
     "execution_count": 52
    }
   ],
   "metadata": {}
  },
  {
   "cell_type": "markdown",
   "source": [
    "![green-divider](https://user-images.githubusercontent.com/7065401/52071924-c003ad80-2562-11e9-8297-1c6595f8a7ff.png)\n",
    "\n",
    "## Indexing and Slicing of Matrices"
   ],
   "metadata": {}
  },
  {
   "cell_type": "code",
   "execution_count": 27,
   "source": [
    "import numpy as np\n",
    "# Square matrix\n",
    "A = np.array([\n",
    "#.   0. 1. 2\n",
    "    [1, 2, 3], # 0\n",
    "    [4, 5, 6], # 1\n",
    "    [7, 8, 9]  # 2\n",
    "])"
   ],
   "outputs": [
    {
     "output_type": "execute_result",
     "data": {
      "text/plain": [
       "4"
      ]
     },
     "metadata": {},
     "execution_count": 27
    }
   ],
   "metadata": {}
  },
  {
   "cell_type": "code",
   "execution_count": 3,
   "source": [
    "A[1]"
   ],
   "outputs": [
    {
     "output_type": "execute_result",
     "data": {
      "text/plain": [
       "array([4, 5, 6])"
      ]
     },
     "metadata": {},
     "execution_count": 3
    }
   ],
   "metadata": {}
  },
  {
   "cell_type": "code",
   "execution_count": 4,
   "source": [
    "A[1][0]"
   ],
   "outputs": [
    {
     "output_type": "execute_result",
     "data": {
      "text/plain": [
       "4"
      ]
     },
     "metadata": {},
     "execution_count": 4
    }
   ],
   "metadata": {}
  },
  {
   "cell_type": "code",
   "execution_count": 6,
   "source": [
    "# A[d1, d2, d3, d4]\n",
    "A[1, 0]"
   ],
   "outputs": [
    {
     "output_type": "execute_result",
     "data": {
      "text/plain": [
       "4"
      ]
     },
     "metadata": {},
     "execution_count": 6
    }
   ],
   "metadata": {}
  },
  {
   "cell_type": "code",
   "execution_count": 7,
   "source": [
    "A[1, 0]"
   ],
   "outputs": [
    {
     "output_type": "execute_result",
     "data": {
      "text/plain": [
       "4"
      ]
     },
     "metadata": {},
     "execution_count": 7
    }
   ],
   "metadata": {}
  },
  {
   "cell_type": "code",
   "execution_count": 8,
   "source": [
    "A[0:2]"
   ],
   "outputs": [
    {
     "output_type": "execute_result",
     "data": {
      "text/plain": [
       "array([[1, 2, 3],\n",
       "       [4, 5, 6]])"
      ]
     },
     "metadata": {},
     "execution_count": 8
    }
   ],
   "metadata": {
    "scrolled": true
   }
  },
  {
   "cell_type": "code",
   "execution_count": 9,
   "source": [
    "A[:, :2]"
   ],
   "outputs": [
    {
     "output_type": "execute_result",
     "data": {
      "text/plain": [
       "array([[1, 2],\n",
       "       [4, 5],\n",
       "       [7, 8]])"
      ]
     },
     "metadata": {},
     "execution_count": 9
    }
   ],
   "metadata": {}
  },
  {
   "cell_type": "code",
   "execution_count": 10,
   "source": [
    "A[:2, :2]"
   ],
   "outputs": [
    {
     "output_type": "execute_result",
     "data": {
      "text/plain": [
       "array([[1, 2],\n",
       "       [4, 5]])"
      ]
     },
     "metadata": {},
     "execution_count": 10
    }
   ],
   "metadata": {}
  },
  {
   "cell_type": "code",
   "execution_count": 26,
   "source": [
    "# A[0][-1:]\n",
    "A[0, -1:]"
   ],
   "outputs": [
    {
     "output_type": "execute_result",
     "data": {
      "text/plain": [
       "array([3])"
      ]
     },
     "metadata": {},
     "execution_count": 26
    }
   ],
   "metadata": {}
  },
  {
   "cell_type": "code",
   "execution_count": 12,
   "source": [
    "A"
   ],
   "outputs": [
    {
     "output_type": "execute_result",
     "data": {
      "text/plain": [
       "array([[1, 2, 3],\n",
       "       [4, 5, 6],\n",
       "       [7, 8, 9]])"
      ]
     },
     "metadata": {},
     "execution_count": 12
    }
   ],
   "metadata": {}
  },
  {
   "cell_type": "code",
   "execution_count": 22,
   "source": [
    "A[1, :]\n",
    "A[1][:]"
   ],
   "outputs": [
    {
     "output_type": "execute_result",
     "data": {
      "text/plain": [
       "array([4, 5, 6])"
      ]
     },
     "metadata": {},
     "execution_count": 22
    }
   ],
   "metadata": {}
  },
  {
   "cell_type": "code",
   "execution_count": 28,
   "source": [
    "A[1] = np.array([10, 10, 10])"
   ],
   "outputs": [],
   "metadata": {}
  },
  {
   "cell_type": "code",
   "execution_count": 29,
   "source": [
    "A"
   ],
   "outputs": [
    {
     "output_type": "execute_result",
     "data": {
      "text/plain": [
       "array([[ 1,  2,  3],\n",
       "       [10, 10, 10],\n",
       "       [ 7,  8,  9]])"
      ]
     },
     "metadata": {},
     "execution_count": 29
    }
   ],
   "metadata": {}
  },
  {
   "cell_type": "code",
   "execution_count": 30,
   "source": [
    "A[2] = 99"
   ],
   "outputs": [],
   "metadata": {}
  },
  {
   "cell_type": "code",
   "execution_count": 31,
   "source": [
    "A"
   ],
   "outputs": [
    {
     "output_type": "execute_result",
     "data": {
      "text/plain": [
       "array([[ 1,  2,  3],\n",
       "       [10, 10, 10],\n",
       "       [99, 99, 99]])"
      ]
     },
     "metadata": {},
     "execution_count": 31
    }
   ],
   "metadata": {}
  },
  {
   "cell_type": "markdown",
   "source": [
    "![green-divider](https://user-images.githubusercontent.com/7065401/52071924-c003ad80-2562-11e9-8297-1c6595f8a7ff.png)\n",
    "\n",
    "## Summary statistics"
   ],
   "metadata": {}
  },
  {
   "cell_type": "code",
   "execution_count": 32,
   "source": [
    "a = np.array([1, 2, 3, 4])"
   ],
   "outputs": [],
   "metadata": {}
  },
  {
   "cell_type": "code",
   "execution_count": 33,
   "source": [
    "a.sum()"
   ],
   "outputs": [
    {
     "output_type": "execute_result",
     "data": {
      "text/plain": [
       "10"
      ]
     },
     "metadata": {},
     "execution_count": 33
    }
   ],
   "metadata": {}
  },
  {
   "cell_type": "code",
   "execution_count": 34,
   "source": [
    "a.mean()"
   ],
   "outputs": [
    {
     "output_type": "execute_result",
     "data": {
      "text/plain": [
       "2.5"
      ]
     },
     "metadata": {},
     "execution_count": 34
    }
   ],
   "metadata": {}
  },
  {
   "cell_type": "code",
   "execution_count": 35,
   "source": [
    "a.std()"
   ],
   "outputs": [
    {
     "output_type": "execute_result",
     "data": {
      "text/plain": [
       "1.118033988749895"
      ]
     },
     "metadata": {},
     "execution_count": 35
    }
   ],
   "metadata": {}
  },
  {
   "cell_type": "code",
   "execution_count": 36,
   "source": [
    "a.var()"
   ],
   "outputs": [
    {
     "output_type": "execute_result",
     "data": {
      "text/plain": [
       "1.25"
      ]
     },
     "metadata": {},
     "execution_count": 36
    }
   ],
   "metadata": {}
  },
  {
   "cell_type": "code",
   "execution_count": 43,
   "source": [
    "A = np.array([\n",
    "    [1, 2, 3],\n",
    "    [4, 5, 6]\n",
    "])"
   ],
   "outputs": [],
   "metadata": {}
  },
  {
   "cell_type": "code",
   "execution_count": 44,
   "source": [
    "A.sum()"
   ],
   "outputs": [
    {
     "output_type": "execute_result",
     "data": {
      "text/plain": [
       "21"
      ]
     },
     "metadata": {},
     "execution_count": 44
    }
   ],
   "metadata": {}
  },
  {
   "cell_type": "code",
   "execution_count": 45,
   "source": [
    "A.mean()"
   ],
   "outputs": [
    {
     "output_type": "execute_result",
     "data": {
      "text/plain": [
       "3.5"
      ]
     },
     "metadata": {},
     "execution_count": 45
    }
   ],
   "metadata": {}
  },
  {
   "cell_type": "code",
   "execution_count": 46,
   "source": [
    "A.std()"
   ],
   "outputs": [
    {
     "output_type": "execute_result",
     "data": {
      "text/plain": [
       "1.707825127659933"
      ]
     },
     "metadata": {},
     "execution_count": 46
    }
   ],
   "metadata": {}
  },
  {
   "cell_type": "code",
   "execution_count": 47,
   "source": [
    "A.sum(axis=0)"
   ],
   "outputs": [
    {
     "output_type": "execute_result",
     "data": {
      "text/plain": [
       "array([5, 7, 9])"
      ]
     },
     "metadata": {},
     "execution_count": 47
    }
   ],
   "metadata": {}
  },
  {
   "cell_type": "code",
   "execution_count": 48,
   "source": [
    "A.sum(axis=1)"
   ],
   "outputs": [
    {
     "output_type": "execute_result",
     "data": {
      "text/plain": [
       "array([ 6, 15])"
      ]
     },
     "metadata": {},
     "execution_count": 48
    }
   ],
   "metadata": {}
  },
  {
   "cell_type": "code",
   "execution_count": 49,
   "source": [
    "A.mean(axis=0)"
   ],
   "outputs": [
    {
     "output_type": "execute_result",
     "data": {
      "text/plain": [
       "array([2.5, 3.5, 4.5])"
      ]
     },
     "metadata": {},
     "execution_count": 49
    }
   ],
   "metadata": {
    "scrolled": true
   }
  },
  {
   "cell_type": "code",
   "execution_count": 50,
   "source": [
    "A.mean(axis=1)"
   ],
   "outputs": [
    {
     "output_type": "execute_result",
     "data": {
      "text/plain": [
       "array([2., 5.])"
      ]
     },
     "metadata": {},
     "execution_count": 50
    }
   ],
   "metadata": {}
  },
  {
   "cell_type": "code",
   "execution_count": 51,
   "source": [
    "A.std(axis=0)"
   ],
   "outputs": [
    {
     "output_type": "execute_result",
     "data": {
      "text/plain": [
       "array([1.5, 1.5, 1.5])"
      ]
     },
     "metadata": {},
     "execution_count": 51
    }
   ],
   "metadata": {}
  },
  {
   "cell_type": "code",
   "execution_count": 54,
   "source": [
    "A.std(axis=1)"
   ],
   "outputs": [
    {
     "output_type": "execute_result",
     "data": {
      "text/plain": [
       "array([0.81649658, 0.81649658])"
      ]
     },
     "metadata": {},
     "execution_count": 54
    }
   ],
   "metadata": {
    "scrolled": true
   }
  },
  {
   "cell_type": "code",
   "execution_count": 65,
   "source": [
    "arr = np.arange(0, 32)\n",
    "arr = arr.reshape([4, 2, 4])\n",
    "arr"
   ],
   "outputs": [
    {
     "output_type": "execute_result",
     "data": {
      "text/plain": [
       "array([[[ 0,  1,  2,  3],\n",
       "        [ 4,  5,  6,  7]],\n",
       "\n",
       "       [[ 8,  9, 10, 11],\n",
       "        [12, 13, 14, 15]],\n",
       "\n",
       "       [[16, 17, 18, 19],\n",
       "        [20, 21, 22, 23]],\n",
       "\n",
       "       [[24, 25, 26, 27],\n",
       "        [28, 29, 30, 31]]])"
      ]
     },
     "metadata": {},
     "execution_count": 65
    }
   ],
   "metadata": {}
  },
  {
   "cell_type": "code",
   "execution_count": 68,
   "source": [
    "arr.sum(axis=0) "
   ],
   "outputs": [
    {
     "output_type": "execute_result",
     "data": {
      "text/plain": [
       "array([[48, 52, 56, 60],\n",
       "       [64, 68, 72, 76]])"
      ]
     },
     "metadata": {},
     "execution_count": 68
    }
   ],
   "metadata": {}
  },
  {
   "cell_type": "code",
   "execution_count": null,
   "source": [
    "arr.sum(axis=1)"
   ],
   "outputs": [],
   "metadata": {}
  },
  {
   "cell_type": "code",
   "execution_count": 70,
   "source": [
    "nums = np.array([4, 6])\n",
    "print(np.expand_dims(nums, axis=0))\n",
    "print(np.expand_dims(nums, axis=1))"
   ],
   "outputs": [
    {
     "output_type": "stream",
     "name": "stdout",
     "text": [
      "[[4 6]]\n",
      "[[4]\n",
      " [6]]\n"
     ]
    }
   ],
   "metadata": {}
  },
  {
   "cell_type": "code",
   "execution_count": 72,
   "source": [
    "nums = np.array([\n",
    "    [\n",
    "        [1, 2]\n",
    "    ],\n",
    "    [\n",
    "        [3, 4]\n",
    "    ]\n",
    "])\n",
    "nums"
   ],
   "outputs": [
    {
     "output_type": "execute_result",
     "data": {
      "text/plain": [
       "array([[[1, 2]],\n",
       "\n",
       "       [[3, 4]]])"
      ]
     },
     "metadata": {},
     "execution_count": 72
    }
   ],
   "metadata": {}
  },
  {
   "cell_type": "code",
   "execution_count": 78,
   "source": [
    "np.expand_dims(nums, axis=0).shape"
   ],
   "outputs": [
    {
     "output_type": "execute_result",
     "data": {
      "text/plain": [
       "(1, 2, 1, 2)"
      ]
     },
     "metadata": {},
     "execution_count": 78
    }
   ],
   "metadata": {}
  },
  {
   "cell_type": "markdown",
   "source": [
    "And [many more](https://docs.scipy.org/doc/numpy-1.13.0/reference/arrays.ndarray.html#array-methods)..."
   ],
   "metadata": {}
  },
  {
   "cell_type": "markdown",
   "source": [
    "![green-divider](https://user-images.githubusercontent.com/7065401/52071924-c003ad80-2562-11e9-8297-1c6595f8a7ff.png)\n",
    "\n",
    "## Broadcasting and Vectorized operations"
   ],
   "metadata": {}
  },
  {
   "cell_type": "code",
   "execution_count": 88,
   "source": [
    "a = np.arange(1, 6)"
   ],
   "outputs": [],
   "metadata": {}
  },
  {
   "cell_type": "code",
   "execution_count": 90,
   "source": [
    "a"
   ],
   "outputs": [
    {
     "output_type": "execute_result",
     "data": {
      "text/plain": [
       "array([1, 2, 3, 4, 5])"
      ]
     },
     "metadata": {},
     "execution_count": 90
    }
   ],
   "metadata": {}
  },
  {
   "cell_type": "code",
   "execution_count": 91,
   "source": [
    "a + 10"
   ],
   "outputs": [
    {
     "output_type": "execute_result",
     "data": {
      "text/plain": [
       "array([11, 12, 13, 14, 15])"
      ]
     },
     "metadata": {},
     "execution_count": 91
    }
   ],
   "metadata": {}
  },
  {
   "cell_type": "code",
   "execution_count": 92,
   "source": [
    "a * 10"
   ],
   "outputs": [
    {
     "output_type": "execute_result",
     "data": {
      "text/plain": [
       "array([10, 20, 30, 40, 50])"
      ]
     },
     "metadata": {},
     "execution_count": 92
    }
   ],
   "metadata": {}
  },
  {
   "cell_type": "code",
   "execution_count": 93,
   "source": [
    "a"
   ],
   "outputs": [
    {
     "output_type": "execute_result",
     "data": {
      "text/plain": [
       "array([1, 2, 3, 4, 5])"
      ]
     },
     "metadata": {},
     "execution_count": 93
    }
   ],
   "metadata": {}
  },
  {
   "cell_type": "code",
   "execution_count": 94,
   "source": [
    "a += 100"
   ],
   "outputs": [],
   "metadata": {}
  },
  {
   "cell_type": "code",
   "execution_count": null,
   "source": [],
   "outputs": [],
   "metadata": {}
  },
  {
   "cell_type": "code",
   "execution_count": 95,
   "source": [
    "a"
   ],
   "outputs": [
    {
     "output_type": "execute_result",
     "data": {
      "text/plain": [
       "array([101, 102, 103, 104, 105])"
      ]
     },
     "metadata": {},
     "execution_count": 95
    }
   ],
   "metadata": {}
  },
  {
   "cell_type": "code",
   "execution_count": 96,
   "source": [
    "l = [0, 1, 2, 3]"
   ],
   "outputs": [],
   "metadata": {}
  },
  {
   "cell_type": "code",
   "execution_count": 97,
   "source": [
    "[i * 10 for i in l]"
   ],
   "outputs": [
    {
     "output_type": "execute_result",
     "data": {
      "text/plain": [
       "[0, 10, 20, 30]"
      ]
     },
     "metadata": {},
     "execution_count": 97
    }
   ],
   "metadata": {}
  },
  {
   "cell_type": "code",
   "execution_count": 98,
   "source": [
    "a = np.arange(4)"
   ],
   "outputs": [],
   "metadata": {}
  },
  {
   "cell_type": "code",
   "execution_count": 99,
   "source": [
    "a"
   ],
   "outputs": [
    {
     "output_type": "execute_result",
     "data": {
      "text/plain": [
       "array([0, 1, 2, 3])"
      ]
     },
     "metadata": {},
     "execution_count": 99
    }
   ],
   "metadata": {}
  },
  {
   "cell_type": "code",
   "execution_count": 100,
   "source": [
    "b = np.array([10, 10, 10, 10])"
   ],
   "outputs": [],
   "metadata": {}
  },
  {
   "cell_type": "code",
   "execution_count": 101,
   "source": [
    "b"
   ],
   "outputs": [
    {
     "output_type": "execute_result",
     "data": {
      "text/plain": [
       "array([10, 10, 10, 10])"
      ]
     },
     "metadata": {},
     "execution_count": 101
    }
   ],
   "metadata": {}
  },
  {
   "cell_type": "code",
   "execution_count": 104,
   "source": [
    "# a, b needs to have the same dimensions\n",
    "a + b"
   ],
   "outputs": [
    {
     "output_type": "execute_result",
     "data": {
      "text/plain": [
       "array([10, 11, 12, 13])"
      ]
     },
     "metadata": {},
     "execution_count": 104
    }
   ],
   "metadata": {}
  },
  {
   "cell_type": "code",
   "execution_count": 105,
   "source": [
    "a * b"
   ],
   "outputs": [
    {
     "output_type": "execute_result",
     "data": {
      "text/plain": [
       "array([ 0, 10, 20, 30])"
      ]
     },
     "metadata": {},
     "execution_count": 105
    }
   ],
   "metadata": {}
  },
  {
   "cell_type": "markdown",
   "source": [
    "![green-divider](https://user-images.githubusercontent.com/7065401/52071924-c003ad80-2562-11e9-8297-1c6595f8a7ff.png)\n",
    "\n",
    "## Boolean arrays\n",
    "_(Also called masks)_"
   ],
   "metadata": {}
  },
  {
   "cell_type": "code",
   "execution_count": 116,
   "source": [
    "a = np.arange(4)"
   ],
   "outputs": [],
   "metadata": {}
  },
  {
   "cell_type": "code",
   "execution_count": 117,
   "source": [
    "a"
   ],
   "outputs": [
    {
     "output_type": "execute_result",
     "data": {
      "text/plain": [
       "array([0, 1, 2, 3])"
      ]
     },
     "metadata": {},
     "execution_count": 117
    }
   ],
   "metadata": {}
  },
  {
   "cell_type": "code",
   "execution_count": 118,
   "source": [
    "a[0], a[-1]"
   ],
   "outputs": [
    {
     "output_type": "execute_result",
     "data": {
      "text/plain": [
       "(0, 3)"
      ]
     },
     "metadata": {},
     "execution_count": 118
    }
   ],
   "metadata": {}
  },
  {
   "cell_type": "code",
   "execution_count": 119,
   "source": [
    "a[[0, -1]]"
   ],
   "outputs": [
    {
     "output_type": "execute_result",
     "data": {
      "text/plain": [
       "array([0, 3])"
      ]
     },
     "metadata": {},
     "execution_count": 119
    }
   ],
   "metadata": {}
  },
  {
   "cell_type": "code",
   "execution_count": 120,
   "source": [
    "a[[True, False, False, True]]"
   ],
   "outputs": [
    {
     "output_type": "execute_result",
     "data": {
      "text/plain": [
       "array([0, 3])"
      ]
     },
     "metadata": {},
     "execution_count": 120
    }
   ],
   "metadata": {}
  },
  {
   "cell_type": "code",
   "execution_count": 122,
   "source": [
    "a"
   ],
   "outputs": [
    {
     "output_type": "execute_result",
     "data": {
      "text/plain": [
       "array([0, 1, 2, 3])"
      ]
     },
     "metadata": {},
     "execution_count": 122
    }
   ],
   "metadata": {}
  },
  {
   "cell_type": "code",
   "execution_count": 123,
   "source": [
    "a >= 2"
   ],
   "outputs": [
    {
     "output_type": "execute_result",
     "data": {
      "text/plain": [
       "array([False, False,  True,  True])"
      ]
     },
     "metadata": {},
     "execution_count": 123
    }
   ],
   "metadata": {}
  },
  {
   "cell_type": "code",
   "execution_count": 124,
   "source": [
    "a[a >= 2]"
   ],
   "outputs": [
    {
     "output_type": "execute_result",
     "data": {
      "text/plain": [
       "array([2, 3])"
      ]
     },
     "metadata": {},
     "execution_count": 124
    }
   ],
   "metadata": {}
  },
  {
   "cell_type": "code",
   "execution_count": 125,
   "source": [
    "a.mean()"
   ],
   "outputs": [
    {
     "output_type": "execute_result",
     "data": {
      "text/plain": [
       "1.5"
      ]
     },
     "metadata": {},
     "execution_count": 125
    }
   ],
   "metadata": {}
  },
  {
   "cell_type": "code",
   "execution_count": 126,
   "source": [
    "a[a > a.mean()]"
   ],
   "outputs": [
    {
     "output_type": "execute_result",
     "data": {
      "text/plain": [
       "array([2, 3])"
      ]
     },
     "metadata": {},
     "execution_count": 126
    }
   ],
   "metadata": {
    "scrolled": true
   }
  },
  {
   "cell_type": "code",
   "execution_count": 127,
   "source": [
    "a[~(a > a.mean())]"
   ],
   "outputs": [
    {
     "output_type": "execute_result",
     "data": {
      "text/plain": [
       "array([0, 1])"
      ]
     },
     "metadata": {},
     "execution_count": 127
    }
   ],
   "metadata": {}
  },
  {
   "cell_type": "code",
   "execution_count": 128,
   "source": [
    "a[(a == 0) | (a == 1)]"
   ],
   "outputs": [
    {
     "output_type": "execute_result",
     "data": {
      "text/plain": [
       "array([0, 1])"
      ]
     },
     "metadata": {},
     "execution_count": 128
    }
   ],
   "metadata": {}
  },
  {
   "cell_type": "code",
   "execution_count": 129,
   "source": [
    "a[(a <= 2) & (a % 2 == 0)]"
   ],
   "outputs": [
    {
     "output_type": "execute_result",
     "data": {
      "text/plain": [
       "array([0, 2])"
      ]
     },
     "metadata": {},
     "execution_count": 129
    }
   ],
   "metadata": {}
  },
  {
   "cell_type": "code",
   "execution_count": 131,
   "source": [
    "A = np.random.randint(100, size=(3, 3))"
   ],
   "outputs": [],
   "metadata": {}
  },
  {
   "cell_type": "code",
   "execution_count": 132,
   "source": [
    "A"
   ],
   "outputs": [
    {
     "output_type": "execute_result",
     "data": {
      "text/plain": [
       "array([[79, 55,  4],\n",
       "       [39,  9, 72],\n",
       "       [62,  5,  9]])"
      ]
     },
     "metadata": {},
     "execution_count": 132
    }
   ],
   "metadata": {}
  },
  {
   "cell_type": "code",
   "execution_count": 133,
   "source": [
    "A[np.array([\n",
    "    [True, False, True],\n",
    "    [False, True, False],\n",
    "    [True, False, True]\n",
    "])]"
   ],
   "outputs": [
    {
     "output_type": "execute_result",
     "data": {
      "text/plain": [
       "array([79,  4,  9, 62,  9])"
      ]
     },
     "metadata": {},
     "execution_count": 133
    }
   ],
   "metadata": {}
  },
  {
   "cell_type": "code",
   "execution_count": 134,
   "source": [
    "A > 30"
   ],
   "outputs": [
    {
     "output_type": "execute_result",
     "data": {
      "text/plain": [
       "array([[ True,  True, False],\n",
       "       [ True, False,  True],\n",
       "       [ True, False, False]])"
      ]
     },
     "metadata": {},
     "execution_count": 134
    }
   ],
   "metadata": {}
  },
  {
   "cell_type": "code",
   "execution_count": 135,
   "source": [
    "A[A > 30]"
   ],
   "outputs": [
    {
     "output_type": "execute_result",
     "data": {
      "text/plain": [
       "array([79, 55, 39, 72, 62])"
      ]
     },
     "metadata": {},
     "execution_count": 135
    }
   ],
   "metadata": {}
  },
  {
   "cell_type": "code",
   "execution_count": 153,
   "source": [
    "A[:, [True, False, True]]"
   ],
   "outputs": [
    {
     "output_type": "execute_result",
     "data": {
      "text/plain": [
       "array([[79,  4],\n",
       "       [39, 72],\n",
       "       [62,  9]])"
      ]
     },
     "metadata": {},
     "execution_count": 153
    }
   ],
   "metadata": {}
  },
  {
   "cell_type": "markdown",
   "source": [
    "![green-divider](https://user-images.githubusercontent.com/7065401/52071924-c003ad80-2562-11e9-8297-1c6595f8a7ff.png)\n",
    "\n",
    "## Linear Algebra"
   ],
   "metadata": {}
  },
  {
   "cell_type": "code",
   "execution_count": 154,
   "source": [
    "A = np.array([\n",
    "    [1, 2, 3],\n",
    "    [4, 5, 6],\n",
    "    [7, 8, 9]\n",
    "])"
   ],
   "outputs": [],
   "metadata": {}
  },
  {
   "cell_type": "code",
   "execution_count": 155,
   "source": [
    "B = np.array([\n",
    "    [6, 5],\n",
    "    [4, 3],\n",
    "    [2, 1]\n",
    "])"
   ],
   "outputs": [],
   "metadata": {}
  },
  {
   "cell_type": "code",
   "execution_count": 157,
   "source": [
    "A.dot(B)"
   ],
   "outputs": [
    {
     "output_type": "execute_result",
     "data": {
      "text/plain": [
       "array([[20, 14],\n",
       "       [56, 41],\n",
       "       [92, 68]])"
      ]
     },
     "metadata": {},
     "execution_count": 157
    }
   ],
   "metadata": {}
  },
  {
   "cell_type": "code",
   "execution_count": 158,
   "source": [
    "A @ B"
   ],
   "outputs": [
    {
     "output_type": "execute_result",
     "data": {
      "text/plain": [
       "array([[20, 14],\n",
       "       [56, 41],\n",
       "       [92, 68]])"
      ]
     },
     "metadata": {},
     "execution_count": 158
    }
   ],
   "metadata": {}
  },
  {
   "cell_type": "code",
   "execution_count": 159,
   "source": [
    "B.T"
   ],
   "outputs": [
    {
     "output_type": "execute_result",
     "data": {
      "text/plain": [
       "array([[6, 4, 2],\n",
       "       [5, 3, 1]])"
      ]
     },
     "metadata": {},
     "execution_count": 159
    }
   ],
   "metadata": {}
  },
  {
   "cell_type": "code",
   "execution_count": 160,
   "source": [
    "A"
   ],
   "outputs": [
    {
     "output_type": "execute_result",
     "data": {
      "text/plain": [
       "array([[1, 2, 3],\n",
       "       [4, 5, 6],\n",
       "       [7, 8, 9]])"
      ]
     },
     "metadata": {},
     "execution_count": 160
    }
   ],
   "metadata": {}
  },
  {
   "cell_type": "code",
   "execution_count": 161,
   "source": [
    "B.T @ A"
   ],
   "outputs": [
    {
     "output_type": "execute_result",
     "data": {
      "text/plain": [
       "array([[36, 48, 60],\n",
       "       [24, 33, 42]])"
      ]
     },
     "metadata": {},
     "execution_count": 161
    }
   ],
   "metadata": {
    "scrolled": true
   }
  },
  {
   "cell_type": "markdown",
   "source": [
    "![green-divider](https://user-images.githubusercontent.com/7065401/52071924-c003ad80-2562-11e9-8297-1c6595f8a7ff.png)\n",
    "\n",
    "## Size of objects in Memory"
   ],
   "metadata": {}
  },
  {
   "cell_type": "markdown",
   "source": [
    "### Int, floats"
   ],
   "metadata": {}
  },
  {
   "cell_type": "code",
   "execution_count": 162,
   "source": [
    "# An integer in Python is > 24bytes\n",
    "sys.getsizeof(1)"
   ],
   "outputs": [
    {
     "output_type": "execute_result",
     "data": {
      "text/plain": [
       "28"
      ]
     },
     "metadata": {},
     "execution_count": 162
    }
   ],
   "metadata": {}
  },
  {
   "cell_type": "code",
   "execution_count": 163,
   "source": [
    "# Longs are even larger\n",
    "sys.getsizeof(10**100)"
   ],
   "outputs": [
    {
     "output_type": "execute_result",
     "data": {
      "text/plain": [
       "72"
      ]
     },
     "metadata": {},
     "execution_count": 163
    }
   ],
   "metadata": {
    "scrolled": true
   }
  },
  {
   "cell_type": "code",
   "execution_count": 164,
   "source": [
    "# Numpy size is much smaller\n",
    "np.dtype(int).itemsize"
   ],
   "outputs": [
    {
     "output_type": "execute_result",
     "data": {
      "text/plain": [
       "8"
      ]
     },
     "metadata": {},
     "execution_count": 164
    }
   ],
   "metadata": {
    "scrolled": true
   }
  },
  {
   "cell_type": "code",
   "execution_count": 165,
   "source": [
    "# Numpy size is much smaller\n",
    "np.dtype(np.int8).itemsize"
   ],
   "outputs": [
    {
     "output_type": "execute_result",
     "data": {
      "text/plain": [
       "1"
      ]
     },
     "metadata": {},
     "execution_count": 165
    }
   ],
   "metadata": {
    "scrolled": true
   }
  },
  {
   "cell_type": "code",
   "execution_count": 166,
   "source": [
    "np.dtype(float).itemsize"
   ],
   "outputs": [
    {
     "output_type": "execute_result",
     "data": {
      "text/plain": [
       "8"
      ]
     },
     "metadata": {},
     "execution_count": 166
    }
   ],
   "metadata": {
    "scrolled": true
   }
  },
  {
   "cell_type": "markdown",
   "source": [
    "### Lists are even larger"
   ],
   "metadata": {}
  },
  {
   "cell_type": "code",
   "execution_count": 167,
   "source": [
    "# A one-element list\n",
    "sys.getsizeof([1])"
   ],
   "outputs": [
    {
     "output_type": "execute_result",
     "data": {
      "text/plain": [
       "72"
      ]
     },
     "metadata": {},
     "execution_count": 167
    }
   ],
   "metadata": {}
  },
  {
   "cell_type": "code",
   "execution_count": 169,
   "source": [
    "# An array of one element in numpy\n",
    "np.array([1]).nbytes"
   ],
   "outputs": [
    {
     "output_type": "execute_result",
     "data": {
      "text/plain": [
       "8"
      ]
     },
     "metadata": {},
     "execution_count": 169
    }
   ],
   "metadata": {
    "scrolled": true
   }
  },
  {
   "cell_type": "markdown",
   "source": [
    "### And performance is also important"
   ],
   "metadata": {}
  },
  {
   "cell_type": "code",
   "execution_count": 170,
   "source": [
    "l = list(range(100000))"
   ],
   "outputs": [],
   "metadata": {}
  },
  {
   "cell_type": "code",
   "execution_count": 171,
   "source": [
    "a = np.arange(100000)"
   ],
   "outputs": [],
   "metadata": {}
  },
  {
   "cell_type": "code",
   "execution_count": 172,
   "source": [
    "%time np.sum(a ** 2)"
   ],
   "outputs": [
    {
     "output_type": "stream",
     "name": "stdout",
     "text": [
      "CPU times: user 0 ns, sys: 1.84 ms, total: 1.84 ms\n",
      "Wall time: 1.07 ms\n"
     ]
    },
    {
     "output_type": "execute_result",
     "data": {
      "text/plain": [
       "333328333350000"
      ]
     },
     "metadata": {},
     "execution_count": 172
    }
   ],
   "metadata": {
    "scrolled": true
   }
  },
  {
   "cell_type": "code",
   "execution_count": 173,
   "source": [
    "%time sum([x ** 2 for x in l])"
   ],
   "outputs": [
    {
     "output_type": "stream",
     "name": "stdout",
     "text": [
      "CPU times: user 22 ms, sys: 0 ns, total: 22 ms\n",
      "Wall time: 20.8 ms\n"
     ]
    },
    {
     "output_type": "execute_result",
     "data": {
      "text/plain": [
       "333328333350000"
      ]
     },
     "metadata": {},
     "execution_count": 173
    }
   ],
   "metadata": {
    "scrolled": true
   }
  },
  {
   "cell_type": "code",
   "execution_count": null,
   "source": [],
   "outputs": [],
   "metadata": {}
  },
  {
   "cell_type": "markdown",
   "source": [
    "![green-divider](https://user-images.githubusercontent.com/7065401/52071924-c003ad80-2562-11e9-8297-1c6595f8a7ff.png)\n",
    "\n",
    "## Useful Numpy functions"
   ],
   "metadata": {}
  },
  {
   "cell_type": "markdown",
   "source": [
    "### `random` "
   ],
   "metadata": {}
  },
  {
   "cell_type": "code",
   "execution_count": 174,
   "source": [
    "np.random.random(size=2)"
   ],
   "outputs": [
    {
     "output_type": "execute_result",
     "data": {
      "text/plain": [
       "array([0.92293118, 0.28355989])"
      ]
     },
     "metadata": {},
     "execution_count": 174
    }
   ],
   "metadata": {}
  },
  {
   "cell_type": "code",
   "execution_count": 175,
   "source": [
    "np.random.normal(size=2)"
   ],
   "outputs": [
    {
     "output_type": "execute_result",
     "data": {
      "text/plain": [
       "array([ 0.43385809, -0.57878486])"
      ]
     },
     "metadata": {},
     "execution_count": 175
    }
   ],
   "metadata": {}
  },
  {
   "cell_type": "code",
   "execution_count": 176,
   "source": [
    "np.random.rand(2, 4) # [0, 1) 분포에서 추출"
   ],
   "outputs": [
    {
     "output_type": "execute_result",
     "data": {
      "text/plain": [
       "array([[0.42135141, 0.83849966, 0.46617159, 0.75046524],\n",
       "       [0.0147572 , 0.8934914 , 0.8770967 , 0.66165761]])"
      ]
     },
     "metadata": {},
     "execution_count": 176
    }
   ],
   "metadata": {}
  },
  {
   "cell_type": "code",
   "execution_count": 198,
   "source": [
    "import matplotlib.pyplot as plt\n",
    "%matplotlib inline\n",
    "\n",
    "np.random.seed(0)\n",
    "\n",
    "plt.style.use('default')\n",
    "plt.rcParams['figure.figsize'] = (6, 3)\n",
    "plt.rcParams['font.size'] = 12\n",
    "\n",
    "a = np.random.rand(1000)\n",
    "b = np.random.rand(10000)\n",
    "c = np.random.rand(100000)\n",
    "\n",
    "plt.hist(a, bins=100, density=True, alpha=0.5, histtype='step', label='n=1000')\n",
    "plt.hist(b, bins=100, density=True, alpha=0.75, histtype='step', label='n=10000')\n",
    "plt.hist(c, bins=100, density=True, alpha=1.0, histtype='step', label='n=100000')\n",
    "\n",
    "plt.ylim(0, 2.5)\n",
    "\n",
    "plt.legend()\n",
    "plt.show()"
   ],
   "outputs": [
    {
     "output_type": "display_data",
     "data": {
      "text/plain": [
       "<Figure size 600x300 with 1 Axes>"
      ],
      "image/svg+xml": "<?xml version=\"1.0\" encoding=\"utf-8\" standalone=\"no\"?>\n<!DOCTYPE svg PUBLIC \"-//W3C//DTD SVG 1.1//EN\"\n  \"http://www.w3.org/Graphics/SVG/1.1/DTD/svg11.dtd\">\n<!-- Created with matplotlib (https://matplotlib.org/) -->\n<svg height=\"203.892813pt\" version=\"1.1\" viewBox=\"0 0 375.28375 203.892813\" width=\"375.28375pt\" xmlns=\"http://www.w3.org/2000/svg\" xmlns:xlink=\"http://www.w3.org/1999/xlink\">\n <metadata>\n  <rdf:RDF xmlns:cc=\"http://creativecommons.org/ns#\" xmlns:dc=\"http://purl.org/dc/elements/1.1/\" xmlns:rdf=\"http://www.w3.org/1999/02/22-rdf-syntax-ns#\">\n   <cc:Work>\n    <dc:type rdf:resource=\"http://purl.org/dc/dcmitype/StillImage\"/>\n    <dc:date>2021-09-03T12:40:06.096693</dc:date>\n    <dc:format>image/svg+xml</dc:format>\n    <dc:creator>\n     <cc:Agent>\n      <dc:title>Matplotlib v3.3.4, https://matplotlib.org/</dc:title>\n     </cc:Agent>\n    </dc:creator>\n   </cc:Work>\n  </rdf:RDF>\n </metadata>\n <defs>\n  <style type=\"text/css\">*{stroke-linecap:butt;stroke-linejoin:round;}</style>\n </defs>\n <g id=\"figure_1\">\n  <g id=\"patch_1\">\n   <path d=\"M 0 203.892813 \nL 375.28375 203.892813 \nL 375.28375 0 \nL 0 0 \nz\n\" style=\"fill:#ffffff;\"/>\n  </g>\n  <g id=\"axes_1\">\n   <g id=\"patch_2\">\n    <path d=\"M 33.28375 178.079063 \nL 368.08375 178.079063 \nL 368.08375 11.759062 \nL 33.28375 11.759062 \nz\n\" style=\"fill:#ffffff;\"/>\n   </g>\n   <g id=\"matplotlib.axis_1\">\n    <g id=\"xtick_1\">\n     <g id=\"line2d_1\">\n      <defs>\n       <path d=\"M 0 0 \nL 0 3.5 \n\" id=\"mb9f9677634\" style=\"stroke:#000000;stroke-width:0.8;\"/>\n      </defs>\n      <g>\n       <use style=\"stroke:#000000;stroke-width:0.8;\" x=\"48.500924\" xlink:href=\"#mb9f9677634\" y=\"178.079063\"/>\n      </g>\n     </g>\n     <g id=\"text_1\">\n      <!-- 0.0 -->\n      <g transform=\"translate(38.959049 194.197188)scale(0.12 -0.12)\">\n       <defs>\n        <path d=\"M 31.78125 66.40625 \nQ 24.171875 66.40625 20.328125 58.90625 \nQ 16.5 51.421875 16.5 36.375 \nQ 16.5 21.390625 20.328125 13.890625 \nQ 24.171875 6.390625 31.78125 6.390625 \nQ 39.453125 6.390625 43.28125 13.890625 \nQ 47.125 21.390625 47.125 36.375 \nQ 47.125 51.421875 43.28125 58.90625 \nQ 39.453125 66.40625 31.78125 66.40625 \nz\nM 31.78125 74.21875 \nQ 44.046875 74.21875 50.515625 64.515625 \nQ 56.984375 54.828125 56.984375 36.375 \nQ 56.984375 17.96875 50.515625 8.265625 \nQ 44.046875 -1.421875 31.78125 -1.421875 \nQ 19.53125 -1.421875 13.0625 8.265625 \nQ 6.59375 17.96875 6.59375 36.375 \nQ 6.59375 54.828125 13.0625 64.515625 \nQ 19.53125 74.21875 31.78125 74.21875 \nz\n\" id=\"DejaVuSans-48\"/>\n        <path d=\"M 10.6875 12.40625 \nL 21 12.40625 \nL 21 0 \nL 10.6875 0 \nz\n\" id=\"DejaVuSans-46\"/>\n       </defs>\n       <use xlink:href=\"#DejaVuSans-48\"/>\n       <use x=\"63.623047\" xlink:href=\"#DejaVuSans-46\"/>\n       <use x=\"95.410156\" xlink:href=\"#DejaVuSans-48\"/>\n      </g>\n     </g>\n    </g>\n    <g id=\"xtick_2\">\n     <g id=\"line2d_2\">\n      <g>\n       <use style=\"stroke:#000000;stroke-width:0.8;\" x=\"109.375195\" xlink:href=\"#mb9f9677634\" y=\"178.079063\"/>\n      </g>\n     </g>\n     <g id=\"text_2\">\n      <!-- 0.2 -->\n      <g transform=\"translate(99.83332 194.197188)scale(0.12 -0.12)\">\n       <defs>\n        <path d=\"M 19.1875 8.296875 \nL 53.609375 8.296875 \nL 53.609375 0 \nL 7.328125 0 \nL 7.328125 8.296875 \nQ 12.9375 14.109375 22.625 23.890625 \nQ 32.328125 33.6875 34.8125 36.53125 \nQ 39.546875 41.84375 41.421875 45.53125 \nQ 43.3125 49.21875 43.3125 52.78125 \nQ 43.3125 58.59375 39.234375 62.25 \nQ 35.15625 65.921875 28.609375 65.921875 \nQ 23.96875 65.921875 18.8125 64.3125 \nQ 13.671875 62.703125 7.8125 59.421875 \nL 7.8125 69.390625 \nQ 13.765625 71.78125 18.9375 73 \nQ 24.125 74.21875 28.421875 74.21875 \nQ 39.75 74.21875 46.484375 68.546875 \nQ 53.21875 62.890625 53.21875 53.421875 \nQ 53.21875 48.921875 51.53125 44.890625 \nQ 49.859375 40.875 45.40625 35.40625 \nQ 44.1875 33.984375 37.640625 27.21875 \nQ 31.109375 20.453125 19.1875 8.296875 \nz\n\" id=\"DejaVuSans-50\"/>\n       </defs>\n       <use xlink:href=\"#DejaVuSans-48\"/>\n       <use x=\"63.623047\" xlink:href=\"#DejaVuSans-46\"/>\n       <use x=\"95.410156\" xlink:href=\"#DejaVuSans-50\"/>\n      </g>\n     </g>\n    </g>\n    <g id=\"xtick_3\">\n     <g id=\"line2d_3\">\n      <g>\n       <use style=\"stroke:#000000;stroke-width:0.8;\" x=\"170.249466\" xlink:href=\"#mb9f9677634\" y=\"178.079063\"/>\n      </g>\n     </g>\n     <g id=\"text_3\">\n      <!-- 0.4 -->\n      <g transform=\"translate(160.707591 194.197188)scale(0.12 -0.12)\">\n       <defs>\n        <path d=\"M 37.796875 64.3125 \nL 12.890625 25.390625 \nL 37.796875 25.390625 \nz\nM 35.203125 72.90625 \nL 47.609375 72.90625 \nL 47.609375 25.390625 \nL 58.015625 25.390625 \nL 58.015625 17.1875 \nL 47.609375 17.1875 \nL 47.609375 0 \nL 37.796875 0 \nL 37.796875 17.1875 \nL 4.890625 17.1875 \nL 4.890625 26.703125 \nz\n\" id=\"DejaVuSans-52\"/>\n       </defs>\n       <use xlink:href=\"#DejaVuSans-48\"/>\n       <use x=\"63.623047\" xlink:href=\"#DejaVuSans-46\"/>\n       <use x=\"95.410156\" xlink:href=\"#DejaVuSans-52\"/>\n      </g>\n     </g>\n    </g>\n    <g id=\"xtick_4\">\n     <g id=\"line2d_4\">\n      <g>\n       <use style=\"stroke:#000000;stroke-width:0.8;\" x=\"231.123737\" xlink:href=\"#mb9f9677634\" y=\"178.079063\"/>\n      </g>\n     </g>\n     <g id=\"text_4\">\n      <!-- 0.6 -->\n      <g transform=\"translate(221.581862 194.197188)scale(0.12 -0.12)\">\n       <defs>\n        <path d=\"M 33.015625 40.375 \nQ 26.375 40.375 22.484375 35.828125 \nQ 18.609375 31.296875 18.609375 23.390625 \nQ 18.609375 15.53125 22.484375 10.953125 \nQ 26.375 6.390625 33.015625 6.390625 \nQ 39.65625 6.390625 43.53125 10.953125 \nQ 47.40625 15.53125 47.40625 23.390625 \nQ 47.40625 31.296875 43.53125 35.828125 \nQ 39.65625 40.375 33.015625 40.375 \nz\nM 52.59375 71.296875 \nL 52.59375 62.3125 \nQ 48.875 64.0625 45.09375 64.984375 \nQ 41.3125 65.921875 37.59375 65.921875 \nQ 27.828125 65.921875 22.671875 59.328125 \nQ 17.53125 52.734375 16.796875 39.40625 \nQ 19.671875 43.65625 24.015625 45.921875 \nQ 28.375 48.1875 33.59375 48.1875 \nQ 44.578125 48.1875 50.953125 41.515625 \nQ 57.328125 34.859375 57.328125 23.390625 \nQ 57.328125 12.15625 50.6875 5.359375 \nQ 44.046875 -1.421875 33.015625 -1.421875 \nQ 20.359375 -1.421875 13.671875 8.265625 \nQ 6.984375 17.96875 6.984375 36.375 \nQ 6.984375 53.65625 15.1875 63.9375 \nQ 23.390625 74.21875 37.203125 74.21875 \nQ 40.921875 74.21875 44.703125 73.484375 \nQ 48.484375 72.75 52.59375 71.296875 \nz\n\" id=\"DejaVuSans-54\"/>\n       </defs>\n       <use xlink:href=\"#DejaVuSans-48\"/>\n       <use x=\"63.623047\" xlink:href=\"#DejaVuSans-46\"/>\n       <use x=\"95.410156\" xlink:href=\"#DejaVuSans-54\"/>\n      </g>\n     </g>\n    </g>\n    <g id=\"xtick_5\">\n     <g id=\"line2d_5\">\n      <g>\n       <use style=\"stroke:#000000;stroke-width:0.8;\" x=\"291.998008\" xlink:href=\"#mb9f9677634\" y=\"178.079063\"/>\n      </g>\n     </g>\n     <g id=\"text_5\">\n      <!-- 0.8 -->\n      <g transform=\"translate(282.456133 194.197188)scale(0.12 -0.12)\">\n       <defs>\n        <path d=\"M 31.78125 34.625 \nQ 24.75 34.625 20.71875 30.859375 \nQ 16.703125 27.09375 16.703125 20.515625 \nQ 16.703125 13.921875 20.71875 10.15625 \nQ 24.75 6.390625 31.78125 6.390625 \nQ 38.8125 6.390625 42.859375 10.171875 \nQ 46.921875 13.96875 46.921875 20.515625 \nQ 46.921875 27.09375 42.890625 30.859375 \nQ 38.875 34.625 31.78125 34.625 \nz\nM 21.921875 38.8125 \nQ 15.578125 40.375 12.03125 44.71875 \nQ 8.5 49.078125 8.5 55.328125 \nQ 8.5 64.0625 14.71875 69.140625 \nQ 20.953125 74.21875 31.78125 74.21875 \nQ 42.671875 74.21875 48.875 69.140625 \nQ 55.078125 64.0625 55.078125 55.328125 \nQ 55.078125 49.078125 51.53125 44.71875 \nQ 48 40.375 41.703125 38.8125 \nQ 48.828125 37.15625 52.796875 32.3125 \nQ 56.78125 27.484375 56.78125 20.515625 \nQ 56.78125 9.90625 50.3125 4.234375 \nQ 43.84375 -1.421875 31.78125 -1.421875 \nQ 19.734375 -1.421875 13.25 4.234375 \nQ 6.78125 9.90625 6.78125 20.515625 \nQ 6.78125 27.484375 10.78125 32.3125 \nQ 14.796875 37.15625 21.921875 38.8125 \nz\nM 18.3125 54.390625 \nQ 18.3125 48.734375 21.84375 45.5625 \nQ 25.390625 42.390625 31.78125 42.390625 \nQ 38.140625 42.390625 41.71875 45.5625 \nQ 45.3125 48.734375 45.3125 54.390625 \nQ 45.3125 60.0625 41.71875 63.234375 \nQ 38.140625 66.40625 31.78125 66.40625 \nQ 25.390625 66.40625 21.84375 63.234375 \nQ 18.3125 60.0625 18.3125 54.390625 \nz\n\" id=\"DejaVuSans-56\"/>\n       </defs>\n       <use xlink:href=\"#DejaVuSans-48\"/>\n       <use x=\"63.623047\" xlink:href=\"#DejaVuSans-46\"/>\n       <use x=\"95.410156\" xlink:href=\"#DejaVuSans-56\"/>\n      </g>\n     </g>\n    </g>\n    <g id=\"xtick_6\">\n     <g id=\"line2d_6\">\n      <g>\n       <use style=\"stroke:#000000;stroke-width:0.8;\" x=\"352.872279\" xlink:href=\"#mb9f9677634\" y=\"178.079063\"/>\n      </g>\n     </g>\n     <g id=\"text_6\">\n      <!-- 1.0 -->\n      <g transform=\"translate(343.330404 194.197188)scale(0.12 -0.12)\">\n       <defs>\n        <path d=\"M 12.40625 8.296875 \nL 28.515625 8.296875 \nL 28.515625 63.921875 \nL 10.984375 60.40625 \nL 10.984375 69.390625 \nL 28.421875 72.90625 \nL 38.28125 72.90625 \nL 38.28125 8.296875 \nL 54.390625 8.296875 \nL 54.390625 0 \nL 12.40625 0 \nz\n\" id=\"DejaVuSans-49\"/>\n       </defs>\n       <use xlink:href=\"#DejaVuSans-49\"/>\n       <use x=\"63.623047\" xlink:href=\"#DejaVuSans-46\"/>\n       <use x=\"95.410156\" xlink:href=\"#DejaVuSans-48\"/>\n      </g>\n     </g>\n    </g>\n   </g>\n   <g id=\"matplotlib.axis_2\">\n    <g id=\"ytick_1\">\n     <g id=\"line2d_7\">\n      <defs>\n       <path d=\"M 0 0 \nL -3.5 0 \n\" id=\"m54c3ba3e5d\" style=\"stroke:#000000;stroke-width:0.8;\"/>\n      </defs>\n      <g>\n       <use style=\"stroke:#000000;stroke-width:0.8;\" x=\"33.28375\" xlink:href=\"#m54c3ba3e5d\" y=\"178.079063\"/>\n      </g>\n     </g>\n     <g id=\"text_7\">\n      <!-- 0.0 -->\n      <g transform=\"translate(7.2 182.638125)scale(0.12 -0.12)\">\n       <use xlink:href=\"#DejaVuSans-48\"/>\n       <use x=\"63.623047\" xlink:href=\"#DejaVuSans-46\"/>\n       <use x=\"95.410156\" xlink:href=\"#DejaVuSans-48\"/>\n      </g>\n     </g>\n    </g>\n    <g id=\"ytick_2\">\n     <g id=\"line2d_8\">\n      <g>\n       <use style=\"stroke:#000000;stroke-width:0.8;\" x=\"33.28375\" xlink:href=\"#m54c3ba3e5d\" y=\"144.815063\"/>\n      </g>\n     </g>\n     <g id=\"text_8\">\n      <!-- 0.5 -->\n      <g transform=\"translate(7.2 149.374125)scale(0.12 -0.12)\">\n       <defs>\n        <path d=\"M 10.796875 72.90625 \nL 49.515625 72.90625 \nL 49.515625 64.59375 \nL 19.828125 64.59375 \nL 19.828125 46.734375 \nQ 21.96875 47.46875 24.109375 47.828125 \nQ 26.265625 48.1875 28.421875 48.1875 \nQ 40.625 48.1875 47.75 41.5 \nQ 54.890625 34.8125 54.890625 23.390625 \nQ 54.890625 11.625 47.5625 5.09375 \nQ 40.234375 -1.421875 26.90625 -1.421875 \nQ 22.3125 -1.421875 17.546875 -0.640625 \nQ 12.796875 0.140625 7.71875 1.703125 \nL 7.71875 11.625 \nQ 12.109375 9.234375 16.796875 8.0625 \nQ 21.484375 6.890625 26.703125 6.890625 \nQ 35.15625 6.890625 40.078125 11.328125 \nQ 45.015625 15.765625 45.015625 23.390625 \nQ 45.015625 31 40.078125 35.4375 \nQ 35.15625 39.890625 26.703125 39.890625 \nQ 22.75 39.890625 18.8125 39.015625 \nQ 14.890625 38.140625 10.796875 36.28125 \nz\n\" id=\"DejaVuSans-53\"/>\n       </defs>\n       <use xlink:href=\"#DejaVuSans-48\"/>\n       <use x=\"63.623047\" xlink:href=\"#DejaVuSans-46\"/>\n       <use x=\"95.410156\" xlink:href=\"#DejaVuSans-53\"/>\n      </g>\n     </g>\n    </g>\n    <g id=\"ytick_3\">\n     <g id=\"line2d_9\">\n      <g>\n       <use style=\"stroke:#000000;stroke-width:0.8;\" x=\"33.28375\" xlink:href=\"#m54c3ba3e5d\" y=\"111.551063\"/>\n      </g>\n     </g>\n     <g id=\"text_9\">\n      <!-- 1.0 -->\n      <g transform=\"translate(7.2 116.110125)scale(0.12 -0.12)\">\n       <use xlink:href=\"#DejaVuSans-49\"/>\n       <use x=\"63.623047\" xlink:href=\"#DejaVuSans-46\"/>\n       <use x=\"95.410156\" xlink:href=\"#DejaVuSans-48\"/>\n      </g>\n     </g>\n    </g>\n    <g id=\"ytick_4\">\n     <g id=\"line2d_10\">\n      <g>\n       <use style=\"stroke:#000000;stroke-width:0.8;\" x=\"33.28375\" xlink:href=\"#m54c3ba3e5d\" y=\"78.287063\"/>\n      </g>\n     </g>\n     <g id=\"text_10\">\n      <!-- 1.5 -->\n      <g transform=\"translate(7.2 82.846125)scale(0.12 -0.12)\">\n       <use xlink:href=\"#DejaVuSans-49\"/>\n       <use x=\"63.623047\" xlink:href=\"#DejaVuSans-46\"/>\n       <use x=\"95.410156\" xlink:href=\"#DejaVuSans-53\"/>\n      </g>\n     </g>\n    </g>\n    <g id=\"ytick_5\">\n     <g id=\"line2d_11\">\n      <g>\n       <use style=\"stroke:#000000;stroke-width:0.8;\" x=\"33.28375\" xlink:href=\"#m54c3ba3e5d\" y=\"45.023063\"/>\n      </g>\n     </g>\n     <g id=\"text_11\">\n      <!-- 2.0 -->\n      <g transform=\"translate(7.2 49.582125)scale(0.12 -0.12)\">\n       <use xlink:href=\"#DejaVuSans-50\"/>\n       <use x=\"63.623047\" xlink:href=\"#DejaVuSans-46\"/>\n       <use x=\"95.410156\" xlink:href=\"#DejaVuSans-48\"/>\n      </g>\n     </g>\n    </g>\n    <g id=\"ytick_6\">\n     <g id=\"line2d_12\">\n      <g>\n       <use style=\"stroke:#000000;stroke-width:0.8;\" x=\"33.28375\" xlink:href=\"#m54c3ba3e5d\" y=\"11.759062\"/>\n      </g>\n     </g>\n     <g id=\"text_12\">\n      <!-- 2.5 -->\n      <g transform=\"translate(7.2 16.318125)scale(0.12 -0.12)\">\n       <use xlink:href=\"#DejaVuSans-50\"/>\n       <use x=\"63.623047\" xlink:href=\"#DejaVuSans-46\"/>\n       <use x=\"95.410156\" xlink:href=\"#DejaVuSans-53\"/>\n      </g>\n     </g>\n    </g>\n   </g>\n   <g id=\"patch_3\">\n    <path clip-path=\"url(#pd614d5a24d)\" d=\"M 48.6671 178.079063 \nL 48.6671 131.475097 \nL 51.708569 131.475097 \nL 51.708569 78.213423 \nL 54.750039 78.213423 \nL 54.750039 124.817388 \nL 57.791508 124.817388 \nL 57.791508 118.159679 \nL 60.832977 118.159679 \nL 60.832977 138.132807 \nL 63.874446 138.132807 \nL 63.874446 104.84426 \nL 66.915915 104.84426 \nL 66.915915 71.555714 \nL 69.957384 71.555714 \nL 69.957384 138.132807 \nL 72.998853 138.132807 \nL 72.998853 124.817388 \nL 76.040323 124.817388 \nL 76.040323 78.213423 \nL 79.081792 78.213423 \nL 79.081792 111.501969 \nL 82.123261 111.501969 \nL 82.123261 64.898004 \nL 85.16473 64.898004 \nL 85.16473 158.105935 \nL 88.206199 158.105935 \nL 88.206199 84.871132 \nL 91.247668 84.871132 \nL 91.247668 118.159679 \nL 97.330607 118.159679 \nL 97.330607 111.501969 \nL 100.372076 111.501969 \nL 100.372076 104.84426 \nL 103.413545 104.84426 \nL 103.413545 111.501969 \nL 106.455014 111.501969 \nL 106.455014 138.132807 \nL 109.496483 138.132807 \nL 109.496483 131.475097 \nL 112.537952 131.475097 \nL 112.537952 104.84426 \nL 118.620891 104.84426 \nL 118.620891 111.501969 \nL 121.66236 111.501969 \nL 121.66236 78.213423 \nL 124.703829 78.213423 \nL 124.703829 111.501969 \nL 127.745298 111.501969 \nL 127.745298 118.159679 \nL 130.786767 118.159679 \nL 130.786767 111.501969 \nL 133.828237 111.501969 \nL 133.828237 91.528842 \nL 136.869706 91.528842 \nL 136.869706 98.186551 \nL 139.911175 98.186551 \nL 139.911175 124.817388 \nL 142.952644 124.817388 \nL 142.952644 98.186551 \nL 145.994113 98.186551 \nL 145.994113 124.817388 \nL 149.035582 124.817388 \nL 149.035582 104.84426 \nL 152.077052 104.84426 \nL 152.077052 91.528842 \nL 155.118521 91.528842 \nL 155.118521 111.501969 \nL 158.15999 111.501969 \nL 158.15999 104.84426 \nL 161.201459 104.84426 \nL 161.201459 71.555714 \nL 164.242928 71.555714 \nL 164.242928 144.790516 \nL 167.284397 144.790516 \nL 167.284397 91.528842 \nL 170.325866 91.528842 \nL 170.325866 78.213423 \nL 173.367336 78.213423 \nL 173.367336 131.475097 \nL 176.408805 131.475097 \nL 176.408805 98.186551 \nL 179.450274 98.186551 \nL 179.450274 104.84426 \nL 182.491743 104.84426 \nL 182.491743 111.501969 \nL 185.533212 111.501969 \nL 185.533212 58.240295 \nL 188.574681 58.240295 \nL 188.574681 151.448225 \nL 191.616151 151.448225 \nL 191.616151 124.817388 \nL 197.699089 124.817388 \nL 197.699089 118.159679 \nL 200.740558 118.159679 \nL 200.740558 111.501969 \nL 203.782027 111.501969 \nL 203.782027 104.84426 \nL 206.823496 104.84426 \nL 206.823496 91.528842 \nL 209.864965 91.528842 \nL 209.864965 124.817388 \nL 212.906435 124.817388 \nL 212.906435 131.475097 \nL 218.989373 131.475097 \nL 218.989373 118.159679 \nL 222.030842 118.159679 \nL 222.030842 111.501969 \nL 225.072311 111.501969 \nL 225.072311 104.84426 \nL 228.11378 104.84426 \nL 228.11378 131.475097 \nL 231.15525 131.475097 \nL 231.15525 118.159679 \nL 234.196719 118.159679 \nL 234.196719 98.186551 \nL 237.238188 98.186551 \nL 237.238188 111.501969 \nL 240.279657 111.501969 \nL 240.279657 104.84426 \nL 243.321126 104.84426 \nL 243.321126 151.448225 \nL 246.362595 151.448225 \nL 246.362595 124.817388 \nL 252.445534 124.817388 \nL 252.445534 111.501969 \nL 258.528472 111.501969 \nL 258.528472 64.898004 \nL 261.569941 64.898004 \nL 261.569941 138.132807 \nL 264.61141 138.132807 \nL 264.61141 104.84426 \nL 267.652879 104.84426 \nL 267.652879 84.871132 \nL 273.735818 84.871132 \nL 273.735818 144.790516 \nL 276.777287 144.790516 \nL 276.777287 131.475097 \nL 279.818756 131.475097 \nL 279.818756 158.105935 \nL 282.860225 158.105935 \nL 282.860225 91.528842 \nL 285.901694 91.528842 \nL 285.901694 144.790516 \nL 288.943163 144.790516 \nL 288.943163 111.501969 \nL 291.984633 111.501969 \nL 291.984633 144.790516 \nL 295.026102 144.790516 \nL 295.026102 104.84426 \nL 298.067571 104.84426 \nL 298.067571 118.159679 \nL 301.10904 118.159679 \nL 301.10904 144.790516 \nL 304.150509 144.790516 \nL 304.150509 124.817388 \nL 310.233448 124.817388 \nL 310.233448 91.528842 \nL 316.316386 91.528842 \nL 316.316386 98.186551 \nL 319.357855 98.186551 \nL 319.357855 104.84426 \nL 322.399324 104.84426 \nL 322.399324 111.501969 \nL 325.440793 111.501969 \nL 325.440793 138.132807 \nL 328.482262 138.132807 \nL 328.482262 78.213423 \nL 331.523732 78.213423 \nL 331.523732 124.817388 \nL 334.565201 124.817388 \nL 334.565201 98.186551 \nL 337.60667 98.186551 \nL 337.60667 91.528842 \nL 346.731077 91.528842 \nL 346.731077 118.159679 \nL 352.814016 118.159679 \nL 352.814016 178.079063 \nL 352.814016 178.079063 \n\" style=\"fill:none;opacity:0.5;stroke:#1f77b4;stroke-linejoin:miter;\"/>\n   </g>\n   <g id=\"patch_4\">\n    <path clip-path=\"url(#pd614d5a24d)\" d=\"M 48.522976 178.079063 \nL 48.522976 100.899289 \nL 51.566402 100.899289 \nL 51.566402 106.222032 \nL 54.609828 106.222032 \nL 54.609828 104.226004 \nL 57.653254 104.226004 \nL 57.653254 114.206147 \nL 60.696679 114.206147 \nL 60.696679 110.214089 \nL 63.740105 110.214089 \nL 63.740105 104.226004 \nL 66.783531 104.226004 \nL 66.783531 107.552718 \nL 69.826957 107.552718 \nL 69.826957 114.87149 \nL 72.870383 114.87149 \nL 72.870383 131.505061 \nL 75.913809 131.505061 \nL 75.913809 106.222032 \nL 78.957235 106.222032 \nL 78.957235 108.218061 \nL 82.000661 108.218061 \nL 82.000661 102.895318 \nL 85.044087 102.895318 \nL 85.044087 106.887375 \nL 88.087513 106.887375 \nL 88.087513 122.190261 \nL 91.130939 122.190261 \nL 91.130939 94.911203 \nL 94.174365 94.911203 \nL 94.174365 116.867518 \nL 97.217791 116.867518 \nL 97.217791 102.229975 \nL 100.261216 102.229975 \nL 100.261216 115.536832 \nL 103.304642 115.536832 \nL 103.304642 114.206147 \nL 106.348068 114.206147 \nL 106.348068 102.895318 \nL 109.391494 102.895318 \nL 109.391494 110.214089 \nL 112.43492 110.214089 \nL 112.43492 124.851633 \nL 115.478346 124.851633 \nL 115.478346 107.552718 \nL 118.521772 107.552718 \nL 118.521772 108.883404 \nL 121.565198 108.883404 \nL 121.565198 117.532861 \nL 124.608624 117.532861 \nL 124.608624 122.855604 \nL 127.65205 122.855604 \nL 127.65205 100.899289 \nL 130.695476 100.899289 \nL 130.695476 97.572575 \nL 133.738902 97.572575 \nL 133.738902 112.875461 \nL 136.782328 112.875461 \nL 136.782328 110.214089 \nL 139.825753 110.214089 \nL 139.825753 105.556689 \nL 142.869179 105.556689 \nL 142.869179 108.218061 \nL 145.912605 108.218061 \nL 145.912605 120.194233 \nL 148.956031 120.194233 \nL 148.956031 121.524918 \nL 151.999457 121.524918 \nL 151.999457 114.87149 \nL 155.042883 114.87149 \nL 155.042883 123.520947 \nL 158.086309 123.520947 \nL 158.086309 106.222032 \nL 161.129735 106.222032 \nL 161.129735 111.544775 \nL 164.173161 111.544775 \nL 164.173161 112.210118 \nL 167.216587 112.210118 \nL 167.216587 110.879432 \nL 170.260013 110.879432 \nL 170.260013 105.556689 \nL 173.303439 105.556689 \nL 173.303439 102.895318 \nL 176.346865 102.895318 \nL 176.346865 106.222032 \nL 179.390291 106.222032 \nL 179.390291 114.206147 \nL 182.433716 114.206147 \nL 182.433716 118.863547 \nL 185.477142 118.863547 \nL 185.477142 110.879432 \nL 188.520568 110.879432 \nL 188.520568 116.867518 \nL 191.563994 116.867518 \nL 191.563994 95.576546 \nL 194.60742 95.576546 \nL 194.60742 105.556689 \nL 197.650846 105.556689 \nL 197.650846 114.87149 \nL 200.694272 114.87149 \nL 200.694272 110.214089 \nL 203.737698 110.214089 \nL 203.737698 112.875461 \nL 206.781124 112.875461 \nL 206.781124 118.198204 \nL 209.82455 118.198204 \nL 209.82455 103.560661 \nL 212.867976 103.560661 \nL 212.867976 112.875461 \nL 215.911402 112.875461 \nL 215.911402 115.536832 \nL 218.954828 115.536832 \nL 218.954828 100.233946 \nL 221.998253 100.233946 \nL 221.998253 109.548747 \nL 225.041679 109.548747 \nL 225.041679 115.536832 \nL 228.085105 115.536832 \nL 228.085105 118.198204 \nL 234.171957 118.198204 \nL 234.171957 102.895318 \nL 237.215383 102.895318 \nL 237.215383 110.214089 \nL 240.258809 110.214089 \nL 240.258809 112.210118 \nL 243.302235 112.210118 \nL 243.302235 120.859575 \nL 246.345661 120.859575 \nL 246.345661 124.851633 \nL 249.389087 124.851633 \nL 249.389087 104.891346 \nL 252.432513 104.891346 \nL 252.432513 120.194233 \nL 255.475939 120.194233 \nL 255.475939 114.206147 \nL 258.519365 114.206147 \nL 258.519365 111.544775 \nL 261.56279 111.544775 \nL 261.56279 110.879432 \nL 264.606216 110.879432 \nL 264.606216 113.540804 \nL 267.649642 113.540804 \nL 267.649642 122.855604 \nL 270.693068 122.855604 \nL 270.693068 105.556689 \nL 273.736494 105.556689 \nL 273.736494 111.544775 \nL 276.77992 111.544775 \nL 276.77992 112.210118 \nL 279.823346 112.210118 \nL 279.823346 117.532861 \nL 282.866772 117.532861 \nL 282.866772 100.233946 \nL 285.910198 100.233946 \nL 285.910198 110.214089 \nL 288.953624 110.214089 \nL 288.953624 105.556689 \nL 291.99705 105.556689 \nL 291.99705 106.222032 \nL 295.040476 106.222032 \nL 295.040476 108.883404 \nL 298.083902 108.883404 \nL 298.083902 120.859575 \nL 301.127327 120.859575 \nL 301.127327 115.536832 \nL 304.170753 115.536832 \nL 304.170753 105.556689 \nL 307.214179 105.556689 \nL 307.214179 119.52889 \nL 310.257605 119.52889 \nL 310.257605 114.206147 \nL 313.301031 114.206147 \nL 313.301031 121.524918 \nL 316.344457 121.524918 \nL 316.344457 102.895318 \nL 319.387883 102.895318 \nL 319.387883 118.863547 \nL 322.431309 118.863547 \nL 322.431309 112.875461 \nL 325.474735 112.875461 \nL 325.474735 105.556689 \nL 328.518161 105.556689 \nL 328.518161 102.895318 \nL 331.561587 102.895318 \nL 331.561587 124.18629 \nL 334.605013 124.18629 \nL 334.605013 110.214089 \nL 337.648439 110.214089 \nL 337.648439 114.87149 \nL 340.691864 114.87149 \nL 340.691864 104.226004 \nL 343.73529 104.226004 \nL 343.73529 118.198204 \nL 346.778716 118.198204 \nL 346.778716 120.194233 \nL 349.822142 120.194233 \nL 349.822142 113.540804 \nL 352.865568 113.540804 \nL 352.865568 178.079063 \nL 352.865568 178.079063 \n\" style=\"fill:none;opacity:0.75;stroke:#ff7f0e;stroke-linejoin:miter;\"/>\n   </g>\n   <g id=\"patch_5\">\n    <path clip-path=\"url(#pd614d5a24d)\" d=\"M 48.501932 178.079063 \nL 48.501932 112.812804 \nL 51.545539 112.812804 \nL 51.545539 112.413622 \nL 54.589145 112.413622 \nL 54.589145 113.145456 \nL 57.632752 113.145456 \nL 57.632752 112.147501 \nL 60.676359 112.147501 \nL 60.676359 110.151591 \nL 63.719965 110.151591 \nL 63.719965 109.220166 \nL 66.763572 109.220166 \nL 66.763572 113.078925 \nL 69.807179 113.078925 \nL 69.807179 108.887514 \nL 72.850786 108.887514 \nL 72.850786 108.488332 \nL 75.894392 108.488332 \nL 75.894392 108.687923 \nL 78.937999 108.687923 \nL 78.937999 110.351182 \nL 81.981606 110.351182 \nL 81.981606 110.750364 \nL 85.025213 110.750364 \nL 85.025213 111.681788 \nL 88.068819 111.681788 \nL 88.068819 108.355272 \nL 91.112426 108.355272 \nL 91.112426 113.145456 \nL 94.156033 113.145456 \nL 94.156033 112.812804 \nL 97.19964 112.812804 \nL 97.19964 113.012395 \nL 100.243246 113.012395 \nL 100.243246 110.284651 \nL 103.286853 110.284651 \nL 103.286853 110.883424 \nL 106.33046 110.883424 \nL 106.33046 113.677698 \nL 109.374066 113.677698 \nL 109.374066 109.552818 \nL 112.417673 109.552818 \nL 112.417673 114.143411 \nL 115.46128 114.143411 \nL 115.46128 111.349137 \nL 118.504887 111.349137 \nL 118.504887 114.01035 \nL 121.548493 114.01035 \nL 121.548493 107.357317 \nL 124.5921 107.357317 \nL 124.5921 113.544638 \nL 127.635707 113.544638 \nL 127.635707 114.276471 \nL 130.679314 114.276471 \nL 130.679314 118.467882 \nL 133.72292 118.467882 \nL 133.72292 109.220166 \nL 136.766527 109.220166 \nL 136.766527 112.546683 \nL 139.810134 112.546683 \nL 139.810134 110.218121 \nL 142.853741 110.218121 \nL 142.853741 111.814849 \nL 148.940954 111.814849 \nL 148.940954 109.885469 \nL 151.984561 109.885469 \nL 151.984561 111.748319 \nL 155.028167 111.748319 \nL 155.028167 110.750364 \nL 158.071774 110.750364 \nL 158.071774 113.345047 \nL 161.115381 113.345047 \nL 161.115381 116.738094 \nL 164.158988 116.738094 \nL 164.158988 113.345047 \nL 167.202594 113.345047 \nL 167.202594 112.280561 \nL 170.246201 112.280561 \nL 170.246201 112.08097 \nL 173.289808 112.08097 \nL 173.289808 110.01853 \nL 176.333415 110.01853 \nL 176.333415 112.08097 \nL 179.377021 112.08097 \nL 179.377021 110.484242 \nL 182.420628 110.484242 \nL 182.420628 112.347092 \nL 185.464235 112.347092 \nL 185.464235 111.216076 \nL 188.507841 111.216076 \nL 188.507841 109.685878 \nL 191.551448 109.685878 \nL 191.551448 113.744229 \nL 194.595055 113.744229 \nL 194.595055 113.611168 \nL 197.638662 113.611168 \nL 197.638662 109.353227 \nL 200.682268 109.353227 \nL 200.682268 111.083015 \nL 203.725875 111.083015 \nL 203.725875 114.276471 \nL 206.769482 114.276471 \nL 206.769482 111.349137 \nL 209.813089 111.349137 \nL 209.813089 112.546683 \nL 212.856695 112.546683 \nL 212.856695 110.617303 \nL 215.900302 110.617303 \nL 215.900302 109.885469 \nL 218.943909 109.885469 \nL 218.943909 109.552818 \nL 221.987516 109.552818 \nL 221.987516 111.415667 \nL 225.031122 111.415667 \nL 225.031122 111.149546 \nL 228.074729 111.149546 \nL 228.074729 107.823029 \nL 231.118336 107.823029 \nL 231.118336 112.08097 \nL 234.161942 112.08097 \nL 234.161942 113.078925 \nL 237.205549 113.078925 \nL 237.205549 113.877289 \nL 240.249156 113.877289 \nL 240.249156 110.683833 \nL 243.292763 110.683833 \nL 243.292763 113.677698 \nL 246.336369 113.677698 \nL 246.336369 110.883424 \nL 249.379976 110.883424 \nL 249.379976 114.01035 \nL 252.423583 114.01035 \nL 252.423583 112.347092 \nL 255.46719 112.347092 \nL 255.46719 113.744229 \nL 258.510796 113.744229 \nL 258.510796 108.02262 \nL 261.554403 108.02262 \nL 261.554403 115.607078 \nL 264.59801 115.607078 \nL 264.59801 109.952 \nL 267.641617 109.952 \nL 267.641617 108.355272 \nL 270.685223 108.355272 \nL 270.685223 114.742184 \nL 273.72883 114.742184 \nL 273.72883 108.02262 \nL 276.772437 108.02262 \nL 276.772437 112.413622 \nL 279.816043 112.413622 \nL 279.816043 113.278516 \nL 282.85965 113.278516 \nL 282.85965 109.153636 \nL 285.903257 109.153636 \nL 285.903257 113.544638 \nL 288.946864 113.544638 \nL 288.946864 110.617303 \nL 291.99047 110.617303 \nL 291.99047 114.01035 \nL 295.034077 114.01035 \nL 295.034077 112.413622 \nL 298.077684 112.413622 \nL 298.077684 105.361407 \nL 301.121291 105.361407 \nL 301.121291 106.425892 \nL 304.164897 106.425892 \nL 304.164897 113.145456 \nL 307.208504 113.145456 \nL 307.208504 111.216076 \nL 310.252111 111.216076 \nL 310.252111 113.145456 \nL 313.295717 113.145456 \nL 313.295717 111.881379 \nL 316.339324 111.881379 \nL 316.339324 110.284651 \nL 319.382931 110.284651 \nL 319.382931 113.611168 \nL 322.426538 113.611168 \nL 322.426538 110.484242 \nL 325.470144 110.484242 \nL 325.470144 111.881379 \nL 328.513751 111.881379 \nL 328.513751 109.486287 \nL 331.557358 109.486287 \nL 331.557358 106.825074 \nL 334.600965 106.825074 \nL 334.600965 113.544638 \nL 337.644571 113.544638 \nL 337.644571 114.209941 \nL 340.688178 114.209941 \nL 340.688178 111.482197 \nL 343.731785 111.482197 \nL 343.731785 111.615258 \nL 346.775392 111.615258 \nL 346.775392 110.151591 \nL 349.818998 110.151591 \nL 349.818998 110.883424 \nL 352.862605 110.883424 \nL 352.862605 178.079063 \nL 352.862605 178.079063 \n\" style=\"fill:none;stroke:#2ca02c;stroke-linejoin:miter;\"/>\n   </g>\n   <g id=\"patch_6\">\n    <path d=\"M 33.28375 178.079063 \nL 33.28375 11.759062 \n\" style=\"fill:none;stroke:#000000;stroke-linecap:square;stroke-linejoin:miter;stroke-width:0.8;\"/>\n   </g>\n   <g id=\"patch_7\">\n    <path d=\"M 368.08375 178.079063 \nL 368.08375 11.759062 \n\" style=\"fill:none;stroke:#000000;stroke-linecap:square;stroke-linejoin:miter;stroke-width:0.8;\"/>\n   </g>\n   <g id=\"patch_8\">\n    <path d=\"M 33.28375 178.079063 \nL 368.08375 178.079063 \n\" style=\"fill:none;stroke:#000000;stroke-linecap:square;stroke-linejoin:miter;stroke-width:0.8;\"/>\n   </g>\n   <g id=\"patch_9\">\n    <path d=\"M 33.28375 11.759062 \nL 368.08375 11.759062 \n\" style=\"fill:none;stroke:#000000;stroke-linecap:square;stroke-linejoin:miter;stroke-width:0.8;\"/>\n   </g>\n   <g id=\"legend_1\">\n    <g id=\"patch_10\">\n     <path d=\"M 257.813125 74.200312 \nL 359.68375 74.200312 \nQ 362.08375 74.200312 362.08375 71.800312 \nL 362.08375 20.159062 \nQ 362.08375 17.759062 359.68375 17.759062 \nL 257.813125 17.759062 \nQ 255.413125 17.759062 255.413125 20.159062 \nL 255.413125 71.800312 \nQ 255.413125 74.200312 257.813125 74.200312 \nz\n\" style=\"fill:#ffffff;opacity:0.8;stroke:#cccccc;stroke-linejoin:miter;\"/>\n    </g>\n    <g id=\"patch_11\">\n     <path d=\"M 260.213125 31.677187 \nL 284.213125 31.677187 \nL 284.213125 23.277187 \nL 260.213125 23.277187 \nz\n\" style=\"fill:none;opacity:0.5;stroke:#1f77b4;stroke-linejoin:miter;\"/>\n    </g>\n    <g id=\"text_13\">\n     <!-- n=1000 -->\n     <g transform=\"translate(293.813125 31.677187)scale(0.12 -0.12)\">\n      <defs>\n       <path d=\"M 54.890625 33.015625 \nL 54.890625 0 \nL 45.90625 0 \nL 45.90625 32.71875 \nQ 45.90625 40.484375 42.875 44.328125 \nQ 39.84375 48.1875 33.796875 48.1875 \nQ 26.515625 48.1875 22.3125 43.546875 \nQ 18.109375 38.921875 18.109375 30.90625 \nL 18.109375 0 \nL 9.078125 0 \nL 9.078125 54.6875 \nL 18.109375 54.6875 \nL 18.109375 46.1875 \nQ 21.34375 51.125 25.703125 53.5625 \nQ 30.078125 56 35.796875 56 \nQ 45.21875 56 50.046875 50.171875 \nQ 54.890625 44.34375 54.890625 33.015625 \nz\n\" id=\"DejaVuSans-110\"/>\n       <path d=\"M 10.59375 45.40625 \nL 73.1875 45.40625 \nL 73.1875 37.203125 \nL 10.59375 37.203125 \nz\nM 10.59375 25.484375 \nL 73.1875 25.484375 \nL 73.1875 17.1875 \nL 10.59375 17.1875 \nz\n\" id=\"DejaVuSans-61\"/>\n      </defs>\n      <use xlink:href=\"#DejaVuSans-110\"/>\n      <use x=\"63.378906\" xlink:href=\"#DejaVuSans-61\"/>\n      <use x=\"147.167969\" xlink:href=\"#DejaVuSans-49\"/>\n      <use x=\"210.791016\" xlink:href=\"#DejaVuSans-48\"/>\n      <use x=\"274.414062\" xlink:href=\"#DejaVuSans-48\"/>\n      <use x=\"338.037109\" xlink:href=\"#DejaVuSans-48\"/>\n     </g>\n    </g>\n    <g id=\"patch_12\">\n     <path d=\"M 260.213125 49.290937 \nL 284.213125 49.290937 \nL 284.213125 40.890937 \nL 260.213125 40.890937 \nz\n\" style=\"fill:none;opacity:0.75;stroke:#ff7f0e;stroke-linejoin:miter;\"/>\n    </g>\n    <g id=\"text_14\">\n     <!-- n=10000 -->\n     <g transform=\"translate(293.813125 49.290937)scale(0.12 -0.12)\">\n      <use xlink:href=\"#DejaVuSans-110\"/>\n      <use x=\"63.378906\" xlink:href=\"#DejaVuSans-61\"/>\n      <use x=\"147.167969\" xlink:href=\"#DejaVuSans-49\"/>\n      <use x=\"210.791016\" xlink:href=\"#DejaVuSans-48\"/>\n      <use x=\"274.414062\" xlink:href=\"#DejaVuSans-48\"/>\n      <use x=\"338.037109\" xlink:href=\"#DejaVuSans-48\"/>\n      <use x=\"401.660156\" xlink:href=\"#DejaVuSans-48\"/>\n     </g>\n    </g>\n    <g id=\"patch_13\">\n     <path d=\"M 260.213125 66.904687 \nL 284.213125 66.904687 \nL 284.213125 58.504687 \nL 260.213125 58.504687 \nz\n\" style=\"fill:none;stroke:#2ca02c;stroke-linejoin:miter;\"/>\n    </g>\n    <g id=\"text_15\">\n     <!-- n=100000 -->\n     <g transform=\"translate(293.813125 66.904687)scale(0.12 -0.12)\">\n      <use xlink:href=\"#DejaVuSans-110\"/>\n      <use x=\"63.378906\" xlink:href=\"#DejaVuSans-61\"/>\n      <use x=\"147.167969\" xlink:href=\"#DejaVuSans-49\"/>\n      <use x=\"210.791016\" xlink:href=\"#DejaVuSans-48\"/>\n      <use x=\"274.414062\" xlink:href=\"#DejaVuSans-48\"/>\n      <use x=\"338.037109\" xlink:href=\"#DejaVuSans-48\"/>\n      <use x=\"401.660156\" xlink:href=\"#DejaVuSans-48\"/>\n      <use x=\"465.283203\" xlink:href=\"#DejaVuSans-48\"/>\n     </g>\n    </g>\n   </g>\n  </g>\n </g>\n <defs>\n  <clipPath id=\"pd614d5a24d\">\n   <rect height=\"166.32\" width=\"334.8\" x=\"33.28375\" y=\"11.759062\"/>\n  </clipPath>\n </defs>\n</svg>\n",
      "image/png": "[encoded data removed]"
     },
     "metadata": {}
    }
   ],
   "metadata": {}
  },
  {
   "cell_type": "code",
   "execution_count": 194,
   "source": [
    "np.random.randint(1, 5, size=(2, 3)) # [1, 5) 사이의 정수 추출"
   ],
   "outputs": [
    {
     "output_type": "execute_result",
     "data": {
      "text/plain": [
       "array([[3, 2, 3],\n",
       "       [1, 1, 2]])"
      ]
     },
     "metadata": {},
     "execution_count": 194
    }
   ],
   "metadata": {}
  },
  {
   "cell_type": "code",
   "execution_count": 195,
   "source": [
    "# randn : 표준정규분포(Standard Normal Distribution)에서 샘플링\n",
    "a = np.random.randn(5)\n",
    "print(a)\n",
    "\n",
    "b = np.random.randn(2, 3)\n",
    "print(b)\n",
    "\n",
    "sigma, mu = 1.5, 2.0\n",
    "c = sigma * np.random.randn(5) + mu\n",
    "print(c)"
   ],
   "outputs": [
    {
     "output_type": "stream",
     "name": "stdout",
     "text": [
      "[ 0.22238282 -0.98782003 -1.04340021  0.55680407 -0.32479695]\n",
      "[[ 0.2416887   1.10883649  1.29288417]\n",
      " [ 0.16665616 -0.20078401  0.16781801]]\n",
      "[0.45037304 3.00528257 2.01431628 1.48807084 4.86093422]\n"
     ]
    }
   ],
   "metadata": {}
  },
  {
   "cell_type": "code",
   "execution_count": 209,
   "source": [
    "a = np.random.randn(100000)\n",
    "b = 2 * np.random.randn(100000) - 1\n",
    "c = 4 * np.random.randn(100000) + 2\n",
    "\n",
    "plt.hist(a, bins=150, density=True, alpha=0.5, histtype='step', label='(mean, stddev)=(0, 1)')\n",
    "plt.hist(b, bins=150, density=True, alpha=0.75, histtype='step', label='(mean, stddev)=(-1, 2)')\n",
    "plt.hist(c, bins=150, density=True, alpha=1.0, histtype='step', label='(mean, stddev)=(2, 4)')\n",
    "\n",
    "plt.legend()\n",
    "plt.xlim(-15, 20)\n",
    "plt.show()"
   ],
   "outputs": [
    {
     "output_type": "display_data",
     "data": {
      "text/plain": [
       "<Figure size 600x300 with 1 Axes>"
      ],
      "image/svg+xml": "<?xml version=\"1.0\" encoding=\"utf-8\" standalone=\"no\"?>\n<!DOCTYPE svg PUBLIC \"-//W3C//DTD SVG 1.1//EN\"\n  \"http://www.w3.org/Graphics/SVG/1.1/DTD/svg11.dtd\">\n<!-- Created with matplotlib (https://matplotlib.org/) -->\n<svg height=\"199.33375pt\" version=\"1.1\" viewBox=\"0 0 382.91875 199.33375\" width=\"382.91875pt\" xmlns=\"http://www.w3.org/2000/svg\" xmlns:xlink=\"http://www.w3.org/1999/xlink\">\n <metadata>\n  <rdf:RDF xmlns:cc=\"http://creativecommons.org/ns#\" xmlns:dc=\"http://purl.org/dc/elements/1.1/\" xmlns:rdf=\"http://www.w3.org/1999/02/22-rdf-syntax-ns#\">\n   <cc:Work>\n    <dc:type rdf:resource=\"http://purl.org/dc/dcmitype/StillImage\"/>\n    <dc:date>2021-09-03T12:45:22.314216</dc:date>\n    <dc:format>image/svg+xml</dc:format>\n    <dc:creator>\n     <cc:Agent>\n      <dc:title>Matplotlib v3.3.4, https://matplotlib.org/</dc:title>\n     </cc:Agent>\n    </dc:creator>\n   </cc:Work>\n  </rdf:RDF>\n </metadata>\n <defs>\n  <style type=\"text/css\">*{stroke-linecap:butt;stroke-linejoin:round;}</style>\n </defs>\n <g id=\"figure_1\">\n  <g id=\"patch_1\">\n   <path d=\"M 0 199.33375 \nL 382.91875 199.33375 \nL 382.91875 0 \nL 0 0 \nz\n\" style=\"fill:#ffffff;\"/>\n  </g>\n  <g id=\"axes_1\">\n   <g id=\"patch_2\">\n    <path d=\"M 33.28375 173.52 \nL 368.08375 173.52 \nL 368.08375 7.2 \nL 33.28375 7.2 \nz\n\" style=\"fill:#ffffff;\"/>\n   </g>\n   <g id=\"matplotlib.axis_1\">\n    <g id=\"xtick_1\">\n     <g id=\"line2d_1\">\n      <defs>\n       <path d=\"M 0 0 \nL 0 3.5 \n\" id=\"m50a0774985\" style=\"stroke:#000000;stroke-width:0.8;\"/>\n      </defs>\n      <g>\n       <use style=\"stroke:#000000;stroke-width:0.8;\" x=\"33.28375\" xlink:href=\"#m50a0774985\" y=\"173.52\"/>\n      </g>\n     </g>\n     <g id=\"text_1\">\n      <!-- −15 -->\n      <g transform=\"translate(20.620937 189.638125)scale(0.12 -0.12)\">\n       <defs>\n        <path d=\"M 10.59375 35.5 \nL 73.1875 35.5 \nL 73.1875 27.203125 \nL 10.59375 27.203125 \nz\n\" id=\"DejaVuSans-8722\"/>\n        <path d=\"M 12.40625 8.296875 \nL 28.515625 8.296875 \nL 28.515625 63.921875 \nL 10.984375 60.40625 \nL 10.984375 69.390625 \nL 28.421875 72.90625 \nL 38.28125 72.90625 \nL 38.28125 8.296875 \nL 54.390625 8.296875 \nL 54.390625 0 \nL 12.40625 0 \nz\n\" id=\"DejaVuSans-49\"/>\n        <path d=\"M 10.796875 72.90625 \nL 49.515625 72.90625 \nL 49.515625 64.59375 \nL 19.828125 64.59375 \nL 19.828125 46.734375 \nQ 21.96875 47.46875 24.109375 47.828125 \nQ 26.265625 48.1875 28.421875 48.1875 \nQ 40.625 48.1875 47.75 41.5 \nQ 54.890625 34.8125 54.890625 23.390625 \nQ 54.890625 11.625 47.5625 5.09375 \nQ 40.234375 -1.421875 26.90625 -1.421875 \nQ 22.3125 -1.421875 17.546875 -0.640625 \nQ 12.796875 0.140625 7.71875 1.703125 \nL 7.71875 11.625 \nQ 12.109375 9.234375 16.796875 8.0625 \nQ 21.484375 6.890625 26.703125 6.890625 \nQ 35.15625 6.890625 40.078125 11.328125 \nQ 45.015625 15.765625 45.015625 23.390625 \nQ 45.015625 31 40.078125 35.4375 \nQ 35.15625 39.890625 26.703125 39.890625 \nQ 22.75 39.890625 18.8125 39.015625 \nQ 14.890625 38.140625 10.796875 36.28125 \nz\n\" id=\"DejaVuSans-53\"/>\n       </defs>\n       <use xlink:href=\"#DejaVuSans-8722\"/>\n       <use x=\"83.789062\" xlink:href=\"#DejaVuSans-49\"/>\n       <use x=\"147.412109\" xlink:href=\"#DejaVuSans-53\"/>\n      </g>\n     </g>\n    </g>\n    <g id=\"xtick_2\">\n     <g id=\"line2d_2\">\n      <g>\n       <use style=\"stroke:#000000;stroke-width:0.8;\" x=\"81.112321\" xlink:href=\"#m50a0774985\" y=\"173.52\"/>\n      </g>\n     </g>\n     <g id=\"text_2\">\n      <!-- −10 -->\n      <g transform=\"translate(68.449509 189.638125)scale(0.12 -0.12)\">\n       <defs>\n        <path d=\"M 31.78125 66.40625 \nQ 24.171875 66.40625 20.328125 58.90625 \nQ 16.5 51.421875 16.5 36.375 \nQ 16.5 21.390625 20.328125 13.890625 \nQ 24.171875 6.390625 31.78125 6.390625 \nQ 39.453125 6.390625 43.28125 13.890625 \nQ 47.125 21.390625 47.125 36.375 \nQ 47.125 51.421875 43.28125 58.90625 \nQ 39.453125 66.40625 31.78125 66.40625 \nz\nM 31.78125 74.21875 \nQ 44.046875 74.21875 50.515625 64.515625 \nQ 56.984375 54.828125 56.984375 36.375 \nQ 56.984375 17.96875 50.515625 8.265625 \nQ 44.046875 -1.421875 31.78125 -1.421875 \nQ 19.53125 -1.421875 13.0625 8.265625 \nQ 6.59375 17.96875 6.59375 36.375 \nQ 6.59375 54.828125 13.0625 64.515625 \nQ 19.53125 74.21875 31.78125 74.21875 \nz\n\" id=\"DejaVuSans-48\"/>\n       </defs>\n       <use xlink:href=\"#DejaVuSans-8722\"/>\n       <use x=\"83.789062\" xlink:href=\"#DejaVuSans-49\"/>\n       <use x=\"147.412109\" xlink:href=\"#DejaVuSans-48\"/>\n      </g>\n     </g>\n    </g>\n    <g id=\"xtick_3\">\n     <g id=\"line2d_3\">\n      <g>\n       <use style=\"stroke:#000000;stroke-width:0.8;\" x=\"128.940893\" xlink:href=\"#m50a0774985\" y=\"173.52\"/>\n      </g>\n     </g>\n     <g id=\"text_3\">\n      <!-- −5 -->\n      <g transform=\"translate(120.09558 189.638125)scale(0.12 -0.12)\">\n       <use xlink:href=\"#DejaVuSans-8722\"/>\n       <use x=\"83.789062\" xlink:href=\"#DejaVuSans-53\"/>\n      </g>\n     </g>\n    </g>\n    <g id=\"xtick_4\">\n     <g id=\"line2d_4\">\n      <g>\n       <use style=\"stroke:#000000;stroke-width:0.8;\" x=\"176.769464\" xlink:href=\"#m50a0774985\" y=\"173.52\"/>\n      </g>\n     </g>\n     <g id=\"text_4\">\n      <!-- 0 -->\n      <g transform=\"translate(172.951964 189.638125)scale(0.12 -0.12)\">\n       <use xlink:href=\"#DejaVuSans-48\"/>\n      </g>\n     </g>\n    </g>\n    <g id=\"xtick_5\">\n     <g id=\"line2d_5\">\n      <g>\n       <use style=\"stroke:#000000;stroke-width:0.8;\" x=\"224.598036\" xlink:href=\"#m50a0774985\" y=\"173.52\"/>\n      </g>\n     </g>\n     <g id=\"text_5\">\n      <!-- 5 -->\n      <g transform=\"translate(220.780536 189.638125)scale(0.12 -0.12)\">\n       <use xlink:href=\"#DejaVuSans-53\"/>\n      </g>\n     </g>\n    </g>\n    <g id=\"xtick_6\">\n     <g id=\"line2d_6\">\n      <g>\n       <use style=\"stroke:#000000;stroke-width:0.8;\" x=\"272.426607\" xlink:href=\"#m50a0774985\" y=\"173.52\"/>\n      </g>\n     </g>\n     <g id=\"text_6\">\n      <!-- 10 -->\n      <g transform=\"translate(264.791607 189.638125)scale(0.12 -0.12)\">\n       <use xlink:href=\"#DejaVuSans-49\"/>\n       <use x=\"63.623047\" xlink:href=\"#DejaVuSans-48\"/>\n      </g>\n     </g>\n    </g>\n    <g id=\"xtick_7\">\n     <g id=\"line2d_7\">\n      <g>\n       <use style=\"stroke:#000000;stroke-width:0.8;\" x=\"320.255179\" xlink:href=\"#m50a0774985\" y=\"173.52\"/>\n      </g>\n     </g>\n     <g id=\"text_7\">\n      <!-- 15 -->\n      <g transform=\"translate(312.620179 189.638125)scale(0.12 -0.12)\">\n       <use xlink:href=\"#DejaVuSans-49\"/>\n       <use x=\"63.623047\" xlink:href=\"#DejaVuSans-53\"/>\n      </g>\n     </g>\n    </g>\n    <g id=\"xtick_8\">\n     <g id=\"line2d_8\">\n      <g>\n       <use style=\"stroke:#000000;stroke-width:0.8;\" x=\"368.08375\" xlink:href=\"#m50a0774985\" y=\"173.52\"/>\n      </g>\n     </g>\n     <g id=\"text_8\">\n      <!-- 20 -->\n      <g transform=\"translate(360.44875 189.638125)scale(0.12 -0.12)\">\n       <defs>\n        <path d=\"M 19.1875 8.296875 \nL 53.609375 8.296875 \nL 53.609375 0 \nL 7.328125 0 \nL 7.328125 8.296875 \nQ 12.9375 14.109375 22.625 23.890625 \nQ 32.328125 33.6875 34.8125 36.53125 \nQ 39.546875 41.84375 41.421875 45.53125 \nQ 43.3125 49.21875 43.3125 52.78125 \nQ 43.3125 58.59375 39.234375 62.25 \nQ 35.15625 65.921875 28.609375 65.921875 \nQ 23.96875 65.921875 18.8125 64.3125 \nQ 13.671875 62.703125 7.8125 59.421875 \nL 7.8125 69.390625 \nQ 13.765625 71.78125 18.9375 73 \nQ 24.125 74.21875 28.421875 74.21875 \nQ 39.75 74.21875 46.484375 68.546875 \nQ 53.21875 62.890625 53.21875 53.421875 \nQ 53.21875 48.921875 51.53125 44.890625 \nQ 49.859375 40.875 45.40625 35.40625 \nQ 44.1875 33.984375 37.640625 27.21875 \nQ 31.109375 20.453125 19.1875 8.296875 \nz\n\" id=\"DejaVuSans-50\"/>\n       </defs>\n       <use xlink:href=\"#DejaVuSans-50\"/>\n       <use x=\"63.623047\" xlink:href=\"#DejaVuSans-48\"/>\n      </g>\n     </g>\n    </g>\n   </g>\n   <g id=\"matplotlib.axis_2\">\n    <g id=\"ytick_1\">\n     <g id=\"line2d_9\">\n      <defs>\n       <path d=\"M 0 0 \nL -3.5 0 \n\" id=\"mb3adf221e6\" style=\"stroke:#000000;stroke-width:0.8;\"/>\n      </defs>\n      <g>\n       <use style=\"stroke:#000000;stroke-width:0.8;\" x=\"33.28375\" xlink:href=\"#mb3adf221e6\" y=\"173.52\"/>\n      </g>\n     </g>\n     <g id=\"text_9\">\n      <!-- 0.0 -->\n      <g transform=\"translate(7.2 178.079063)scale(0.12 -0.12)\">\n       <defs>\n        <path d=\"M 10.6875 12.40625 \nL 21 12.40625 \nL 21 0 \nL 10.6875 0 \nz\n\" id=\"DejaVuSans-46\"/>\n       </defs>\n       <use xlink:href=\"#DejaVuSans-48\"/>\n       <use x=\"63.623047\" xlink:href=\"#DejaVuSans-46\"/>\n       <use x=\"95.410156\" xlink:href=\"#DejaVuSans-48\"/>\n      </g>\n     </g>\n    </g>\n    <g id=\"ytick_2\">\n     <g id=\"line2d_10\">\n      <g>\n       <use style=\"stroke:#000000;stroke-width:0.8;\" x=\"33.28375\" xlink:href=\"#mb3adf221e6\" y=\"134.202523\"/>\n      </g>\n     </g>\n     <g id=\"text_10\">\n      <!-- 0.1 -->\n      <g transform=\"translate(7.2 138.761586)scale(0.12 -0.12)\">\n       <use xlink:href=\"#DejaVuSans-48\"/>\n       <use x=\"63.623047\" xlink:href=\"#DejaVuSans-46\"/>\n       <use x=\"95.410156\" xlink:href=\"#DejaVuSans-49\"/>\n      </g>\n     </g>\n    </g>\n    <g id=\"ytick_3\">\n     <g id=\"line2d_11\">\n      <g>\n       <use style=\"stroke:#000000;stroke-width:0.8;\" x=\"33.28375\" xlink:href=\"#mb3adf221e6\" y=\"94.885047\"/>\n      </g>\n     </g>\n     <g id=\"text_11\">\n      <!-- 0.2 -->\n      <g transform=\"translate(7.2 99.444109)scale(0.12 -0.12)\">\n       <use xlink:href=\"#DejaVuSans-48\"/>\n       <use x=\"63.623047\" xlink:href=\"#DejaVuSans-46\"/>\n       <use x=\"95.410156\" xlink:href=\"#DejaVuSans-50\"/>\n      </g>\n     </g>\n    </g>\n    <g id=\"ytick_4\">\n     <g id=\"line2d_12\">\n      <g>\n       <use style=\"stroke:#000000;stroke-width:0.8;\" x=\"33.28375\" xlink:href=\"#mb3adf221e6\" y=\"55.56757\"/>\n      </g>\n     </g>\n     <g id=\"text_12\">\n      <!-- 0.3 -->\n      <g transform=\"translate(7.2 60.126632)scale(0.12 -0.12)\">\n       <defs>\n        <path d=\"M 40.578125 39.3125 \nQ 47.65625 37.796875 51.625 33 \nQ 55.609375 28.21875 55.609375 21.1875 \nQ 55.609375 10.40625 48.1875 4.484375 \nQ 40.765625 -1.421875 27.09375 -1.421875 \nQ 22.515625 -1.421875 17.65625 -0.515625 \nQ 12.796875 0.390625 7.625 2.203125 \nL 7.625 11.71875 \nQ 11.71875 9.328125 16.59375 8.109375 \nQ 21.484375 6.890625 26.8125 6.890625 \nQ 36.078125 6.890625 40.9375 10.546875 \nQ 45.796875 14.203125 45.796875 21.1875 \nQ 45.796875 27.640625 41.28125 31.265625 \nQ 36.765625 34.90625 28.71875 34.90625 \nL 20.21875 34.90625 \nL 20.21875 43.015625 \nL 29.109375 43.015625 \nQ 36.375 43.015625 40.234375 45.921875 \nQ 44.09375 48.828125 44.09375 54.296875 \nQ 44.09375 59.90625 40.109375 62.90625 \nQ 36.140625 65.921875 28.71875 65.921875 \nQ 24.65625 65.921875 20.015625 65.03125 \nQ 15.375 64.15625 9.8125 62.3125 \nL 9.8125 71.09375 \nQ 15.4375 72.65625 20.34375 73.4375 \nQ 25.25 74.21875 29.59375 74.21875 \nQ 40.828125 74.21875 47.359375 69.109375 \nQ 53.90625 64.015625 53.90625 55.328125 \nQ 53.90625 49.265625 50.4375 45.09375 \nQ 46.96875 40.921875 40.578125 39.3125 \nz\n\" id=\"DejaVuSans-51\"/>\n       </defs>\n       <use xlink:href=\"#DejaVuSans-48\"/>\n       <use x=\"63.623047\" xlink:href=\"#DejaVuSans-46\"/>\n       <use x=\"95.410156\" xlink:href=\"#DejaVuSans-51\"/>\n      </g>\n     </g>\n    </g>\n    <g id=\"ytick_5\">\n     <g id=\"line2d_13\">\n      <g>\n       <use style=\"stroke:#000000;stroke-width:0.8;\" x=\"33.28375\" xlink:href=\"#mb3adf221e6\" y=\"16.250093\"/>\n      </g>\n     </g>\n     <g id=\"text_13\">\n      <!-- 0.4 -->\n      <g transform=\"translate(7.2 20.809156)scale(0.12 -0.12)\">\n       <defs>\n        <path d=\"M 37.796875 64.3125 \nL 12.890625 25.390625 \nL 37.796875 25.390625 \nz\nM 35.203125 72.90625 \nL 47.609375 72.90625 \nL 47.609375 25.390625 \nL 58.015625 25.390625 \nL 58.015625 17.1875 \nL 47.609375 17.1875 \nL 47.609375 0 \nL 37.796875 0 \nL 37.796875 17.1875 \nL 4.890625 17.1875 \nL 4.890625 26.703125 \nz\n\" id=\"DejaVuSans-52\"/>\n       </defs>\n       <use xlink:href=\"#DejaVuSans-48\"/>\n       <use x=\"63.623047\" xlink:href=\"#DejaVuSans-46\"/>\n       <use x=\"95.410156\" xlink:href=\"#DejaVuSans-52\"/>\n      </g>\n     </g>\n    </g>\n   </g>\n   <g id=\"patch_3\">\n    <path clip-path=\"url(#pae6ef1d42c)\" d=\"M 136.3412 173.52 \nL 136.3412 173.37272 \nL 136.851926 173.37272 \nL 136.851926 173.52 \nL 139.916285 173.52 \nL 139.916285 173.37272 \nL 142.469916 173.299079 \nL 142.469916 173.151799 \nL 144.512822 173.078159 \nL 144.512822 173.004519 \nL 145.023548 173.004519 \nL 145.023548 172.489038 \nL 145.534275 172.489038 \nL 145.534275 172.268117 \nL 146.045001 172.268117 \nL 146.045001 172.709958 \nL 146.555727 172.709958 \nL 146.555727 172.562678 \nL 147.066454 172.562678 \nL 147.066454 172.268117 \nL 147.57718 172.268117 \nL 147.57718 171.973556 \nL 148.087906 171.973556 \nL 148.087906 172.194477 \nL 148.598633 172.194477 \nL 148.598633 171.973556 \nL 149.109359 171.973556 \nL 149.109359 171.237155 \nL 149.620085 171.237155 \nL 149.620085 170.206192 \nL 150.130812 170.206192 \nL 150.130812 169.543431 \nL 150.641538 169.543431 \nL 150.641538 169.32251 \nL 151.152265 169.32251 \nL 151.152265 168.365188 \nL 151.662991 168.365188 \nL 151.662991 169.32251 \nL 152.173717 169.32251 \nL 152.173717 167.039665 \nL 152.684444 167.039665 \nL 152.684444 166.303264 \nL 153.19517 166.303264 \nL 153.19517 165.345941 \nL 153.705896 165.345941 \nL 153.705896 165.125021 \nL 154.216623 165.125021 \nL 154.216623 163.946778 \nL 154.727349 163.946778 \nL 154.727349 162.400335 \nL 155.238075 162.400335 \nL 155.238075 159.749289 \nL 155.748802 159.749289 \nL 155.748802 156.803682 \nL 156.259528 156.803682 \nL 156.259528 157.687364 \nL 156.770255 157.687364 \nL 156.770255 152.900753 \nL 157.280981 152.900753 \nL 157.280981 150.838828 \nL 157.791707 150.838828 \nL 157.791707 150.544268 \nL 158.302434 150.544268 \nL 158.302434 145.610377 \nL 159.323886 145.610377 \nL 159.323886 141.191967 \nL 159.834613 141.191967 \nL 159.834613 141.781088 \nL 160.345339 141.781088 \nL 160.345339 140.308285 \nL 160.856065 140.308285 \nL 160.856065 134.564351 \nL 161.366792 134.564351 \nL 161.366792 130.293222 \nL 161.877518 130.293222 \nL 161.877518 124.107448 \nL 162.388245 124.107448 \nL 162.388245 120.64636 \nL 162.898971 120.64636 \nL 162.898971 114.976067 \nL 163.409697 114.976067 \nL 163.409697 107.31749 \nL 163.920424 107.31749 \nL 163.920424 109.158494 \nL 164.43115 109.158494 \nL 164.43115 103.12 \nL 164.941876 103.12 \nL 164.941876 96.786946 \nL 165.452603 96.786946 \nL 165.452603 90.601172 \nL 165.963329 90.601172 \nL 165.963329 87.655565 \nL 166.474055 87.655565 \nL 166.474055 83.237155 \nL 166.984782 83.237155 \nL 166.984782 80.365188 \nL 167.495508 80.365188 \nL 167.495508 77.345941 \nL 168.006235 77.345941 \nL 168.006235 71.528368 \nL 168.516961 71.528368 \nL 168.516961 58.9359 \nL 169.538414 59.00954 \nL 169.538414 59.377741 \nL 170.04914 59.377741 \nL 170.04914 46.637992 \nL 170.559866 46.637992 \nL 170.559866 42.882343 \nL 171.070593 42.882343 \nL 171.070593 38.390293 \nL 171.581319 38.390293 \nL 171.581319 37.432971 \nL 172.092045 37.432971 \nL 172.092045 34.045523 \nL 172.602772 34.045523 \nL 172.602772 28.44887 \nL 173.113498 28.44887 \nL 173.113498 31.836318 \nL 173.624225 31.836318 \nL 173.624225 24.987782 \nL 174.134951 24.987782 \nL 174.134951 18.507448 \nL 174.645677 18.507448 \nL 174.645677 21.821255 \nL 175.156404 21.821255 \nL 175.156404 16.666444 \nL 175.66713 16.666444 \nL 175.66713 15.340921 \nL 176.177856 15.340921 \nL 176.177856 15.12 \nL 176.688583 15.12 \nL 176.688583 16.224603 \nL 177.199309 16.224603 \nL 177.199309 16.887364 \nL 177.710035 16.887364 \nL 177.710035 17.181925 \nL 178.220762 17.181925 \nL 178.220762 18.065607 \nL 178.731488 18.065607 \nL 178.731488 15.856402 \nL 179.242215 15.856402 \nL 179.242215 15.709121 \nL 179.752941 15.709121 \nL 179.752941 26.239665 \nL 180.263667 26.239665 \nL 180.263667 31.173556 \nL 180.774394 31.173556 \nL 180.774394 28.964351 \nL 181.28512 28.964351 \nL 181.28512 31.689038 \nL 181.795846 31.689038 \nL 181.795846 39.642176 \nL 182.306573 39.642176 \nL 182.306573 41.777741 \nL 182.817299 41.777741 \nL 182.817299 47.300753 \nL 183.328025 47.300753 \nL 183.328025 55.106611 \nL 183.838752 55.106611 \nL 183.838752 57.610377 \nL 184.349478 57.610377 \nL 184.349478 64.753473 \nL 184.860205 64.753473 \nL 184.860205 63.57523 \nL 185.370931 63.57523 \nL 185.370931 69.319163 \nL 185.881657 69.319163 \nL 185.881657 75.946778 \nL 186.392384 75.946778 \nL 186.392384 84.341757 \nL 186.90311 84.341757 \nL 186.90311 86.771883 \nL 187.413836 86.771883 \nL 187.413836 93.620418 \nL 187.924563 93.620418 \nL 187.924563 99.953473 \nL 188.435289 99.953473 \nL 188.435289 102.604519 \nL 188.946015 102.604519 \nL 188.946015 108.716653 \nL 189.456742 108.716653 \nL 189.456742 110.557657 \nL 189.967468 110.557657 \nL 189.967468 113.650544 \nL 190.478194 113.650544 \nL 190.478194 118.289874 \nL 190.988921 118.289874 \nL 190.988921 120.351799 \nL 191.499647 120.351799 \nL 191.499647 126.169372 \nL 192.010374 126.169372 \nL 192.010374 134.196151 \nL 192.5211 134.196151 \nL 192.5211 134.417071 \nL 193.031826 134.417071 \nL 193.031826 136.110795 \nL 193.542553 136.110795 \nL 193.542553 138.688201 \nL 194.053279 138.688201 \nL 194.053279 145.978577 \nL 194.564005 145.978577 \nL 194.564005 147.377741 \nL 195.074732 147.377741 \nL 195.074732 149.881506 \nL 195.585458 149.881506 \nL 195.585458 151.64887 \nL 196.096184 151.64887 \nL 196.096184 152.753473 \nL 196.606911 152.753473 \nL 196.606911 157.392803 \nL 197.117637 157.392803 \nL 197.117637 159.454728 \nL 197.628364 159.454728 \nL 197.628364 159.675649 \nL 198.13909 159.675649 \nL 198.13909 161.516653 \nL 198.649816 161.516653 \nL 198.649816 163.210377 \nL 199.160543 163.210377 \nL 199.160543 165.861423 \nL 200.692722 165.935063 \nL 200.692722 167.702427 \nL 201.714174 167.628787 \nL 201.714174 168.438828 \nL 202.224901 168.438828 \nL 202.224901 168.217908 \nL 202.735627 168.217908 \nL 202.735627 170.206192 \nL 203.246354 170.206192 \nL 203.246354 170.868954 \nL 203.75708 170.868954 \nL 203.75708 170.648033 \nL 204.267806 170.648033 \nL 204.267806 171.016234 \nL 204.778533 171.016234 \nL 204.778533 170.868954 \nL 205.289259 170.868954 \nL 205.289259 171.678996 \nL 205.799985 171.678996 \nL 205.799985 172.341757 \nL 206.310712 172.341757 \nL 206.310712 172.194477 \nL 207.332164 172.120837 \nL 207.332164 172.857238 \nL 207.842891 172.857238 \nL 207.842891 173.151799 \nL 208.353617 173.151799 \nL 208.353617 172.783598 \nL 209.37507 172.857238 \nL 209.37507 173.004519 \nL 209.885796 173.004519 \nL 209.885796 173.225439 \nL 210.396523 173.225439 \nL 210.396523 173.37272 \nL 212.950154 173.37272 \nL 212.950154 173.52 \nL 212.950154 173.52 \n\" style=\"fill:none;opacity:0.5;stroke:#1f77b4;stroke-linejoin:miter;\"/>\n   </g>\n   <g id=\"patch_4\">\n    <path clip-path=\"url(#pae6ef1d42c)\" d=\"M 76.17946 173.52 \nL 76.17946 173.486318 \nL 97.395365 173.418955 \nL 97.395365 173.351591 \nL 100.745245 173.418955 \nL 100.745245 173.183182 \nL 105.211751 173.216864 \nL 105.211751 173.385273 \nL 106.328378 173.385273 \nL 106.328378 172.779001 \nL 107.445005 172.779001 \nL 107.445005 172.475865 \nL 108.561631 172.475865 \nL 108.561631 172.846364 \nL 109.678258 172.846364 \nL 109.678258 172.57691 \nL 110.794884 172.57691 \nL 110.794884 172.442183 \nL 111.911511 172.442183 \nL 111.911511 171.936956 \nL 113.028138 171.936956 \nL 113.028138 172.139047 \nL 114.144764 172.139047 \nL 114.144764 171.734865 \nL 115.261391 171.734865 \nL 115.261391 171.330684 \nL 116.378017 171.330684 \nL 116.378017 171.195957 \nL 117.494644 171.195957 \nL 117.494644 170.48864 \nL 118.611271 170.48864 \nL 118.611271 170.084458 \nL 119.727897 170.084458 \nL 119.727897 169.646595 \nL 121.96115 169.579231 \nL 121.96115 168.535096 \nL 123.077777 168.535096 \nL 123.077777 167.490961 \nL 124.194404 167.490961 \nL 124.194404 166.581553 \nL 125.31103 166.581553 \nL 125.31103 165.470054 \nL 126.427657 165.470054 \nL 126.427657 164.863782 \nL 127.544283 164.863782 \nL 127.544283 164.493282 \nL 128.66091 164.493282 \nL 128.66091 162.270284 \nL 129.777536 162.270284 \nL 129.777536 161.697694 \nL 130.894163 161.697694 \nL 130.894163 160.047287 \nL 132.01079 160.047287 \nL 132.01079 157.28538 \nL 133.127416 157.28538 \nL 133.127416 156.072836 \nL 134.244043 156.072836 \nL 134.244043 154.792929 \nL 135.360669 154.792929 \nL 135.360669 153.984566 \nL 136.477296 153.984566 \nL 136.477296 152.132068 \nL 137.593923 152.132068 \nL 137.593923 148.191299 \nL 138.710549 148.191299 \nL 138.710549 145.463075 \nL 139.827176 145.463075 \nL 139.827176 144.25053 \nL 140.943802 144.25053 \nL 140.943802 141.151806 \nL 142.060429 141.151806 \nL 142.060429 139.602444 \nL 143.177056 139.602444 \nL 143.177056 137.177356 \nL 144.293682 137.177356 \nL 144.293682 133.943905 \nL 145.410309 133.943905 \nL 145.410309 131.249362 \nL 146.526935 131.249362 \nL 146.526935 128.38641 \nL 147.643562 128.38641 \nL 147.643562 126.29814 \nL 148.760189 126.29814 \nL 148.760189 123.233098 \nL 149.876815 123.233098 \nL 149.876815 117.945058 \nL 150.993442 117.945058 \nL 150.993442 117.540876 \nL 152.110068 117.540876 \nL 152.110068 114.442152 \nL 153.226695 114.442152 \nL 153.226695 113.431699 \nL 154.343321 113.431699 \nL 154.343321 109.659339 \nL 155.459948 109.659339 \nL 155.459948 106.493251 \nL 156.576575 106.493251 \nL 156.576575 104.135527 \nL 157.693201 104.135527 \nL 157.693201 103.05771 \nL 158.809828 103.05771 \nL 158.809828 102.31671 \nL 159.926454 102.31671 \nL 159.926454 99.790577 \nL 161.043081 99.790577 \nL 161.043081 94.064673 \nL 162.159708 94.064673 \nL 162.159708 97.365488 \nL 163.276334 97.365488 \nL 163.276334 98.039124 \nL 164.392961 98.039124 \nL 164.392961 97.837033 \nL 165.509587 97.837033 \nL 165.509587 93.188947 \nL 166.626214 93.188947 \nL 166.626214 94.906718 \nL 167.742841 94.906718 \nL 167.742841 94.435173 \nL 168.859467 94.435173 \nL 168.859467 97.298125 \nL 169.976094 97.298125 \nL 169.976094 96.658171 \nL 171.09272 96.658171 \nL 171.09272 99.723213 \nL 172.209347 99.723213 \nL 172.209347 98.476987 \nL 173.325974 98.476987 \nL 173.325974 101.238893 \nL 174.4426 101.238893 \nL 174.4426 98.274896 \nL 175.559227 98.274896 \nL 175.559227 104.506026 \nL 176.675853 104.506026 \nL 176.675853 107.099523 \nL 177.79248 107.099523 \nL 177.79248 108.446795 \nL 178.909107 108.446795 \nL 178.909107 110.06352 \nL 180.025733 110.06352 \nL 180.025733 111.00661 \nL 181.14236 111.00661 \nL 181.14236 113.061199 \nL 182.258986 113.061199 \nL 182.258986 117.103013 \nL 183.375613 117.103013 \nL 183.375613 117.945058 \nL 184.492239 117.945058 \nL 184.492239 122.155281 \nL 185.608866 122.155281 \nL 185.608866 125.961322 \nL 186.725493 125.961322 \nL 186.725493 129.3295 \nL 187.842119 129.3295 \nL 187.842119 131.01359 \nL 188.958746 131.01359 \nL 188.958746 132.259816 \nL 190.075372 132.259816 \nL 190.075372 137.177356 \nL 191.191999 137.177356 \nL 191.191999 138.0194 \nL 192.308626 138.0194 \nL 192.308626 142.027533 \nL 193.425252 142.027533 \nL 193.425252 143.778985 \nL 194.541879 143.778985 \nL 194.541879 146.305119 \nL 195.658505 146.305119 \nL 195.658505 147.820799 \nL 196.775132 147.820799 \nL 196.775132 150.751115 \nL 197.891759 150.751115 \nL 197.891759 153.715111 \nL 199.008385 153.715111 \nL 199.008385 155.904427 \nL 201.241638 155.938109 \nL 201.241638 157.790607 \nL 202.358265 157.790607 \nL 202.358265 159.474696 \nL 203.474892 159.474696 \nL 203.474892 162.337648 \nL 205.708145 162.303966 \nL 205.708145 163.684919 \nL 206.824771 163.684919 \nL 206.824771 165.301645 \nL 207.941398 165.301645 \nL 207.941398 166.952052 \nL 210.174651 166.851007 \nL 210.174651 167.389915 \nL 211.291278 167.389915 \nL 211.291278 167.928824 \nL 212.407904 167.928824 \nL 212.407904 169.343459 \nL 213.524531 169.343459 \nL 213.524531 169.511868 \nL 214.641157 169.511868 \nL 214.641157 170.421276 \nL 216.874411 170.522321 \nL 216.874411 171.499093 \nL 219.107664 171.499093 \nL 219.107664 171.903274 \nL 220.22429 171.903274 \nL 220.22429 172.071683 \nL 221.340917 172.071683 \nL 221.340917 172.408501 \nL 223.57417 172.341138 \nL 223.57417 172.644274 \nL 224.690797 172.644274 \nL 224.690797 172.307456 \nL 225.807423 172.307456 \nL 225.807423 172.913728 \nL 226.92405 172.913728 \nL 226.92405 173.115819 \nL 229.157303 173.048455 \nL 229.157303 172.981091 \nL 230.27393 172.981091 \nL 230.27393 173.216864 \nL 233.62381 173.250546 \nL 233.62381 173.452636 \nL 243.673449 173.385273 \nL 243.673449 173.52 \n\" style=\"fill:none;opacity:0.75;stroke:#ff7f0e;stroke-linejoin:miter;\"/>\n   </g>\n   <g id=\"patch_5\">\n    <path clip-path=\"url(#pae6ef1d42c)\" d=\"M 20.738527 173.52 \nL 20.738527 173.503722 \nL 66.947078 173.42233 \nL 66.947078 173.357216 \nL 76.188788 173.340938 \nL 76.188788 173.226989 \nL 78.499216 173.226989 \nL 78.499216 173.080484 \nL 85.430499 172.982814 \nL 85.430499 172.933979 \nL 87.740926 172.933979 \nL 87.740926 172.657247 \nL 90.051354 172.657247 \nL 90.051354 172.445628 \nL 94.672209 172.494463 \nL 94.672209 172.071226 \nL 96.982636 172.071226 \nL 96.982636 171.924721 \nL 101.603491 171.892164 \nL 101.603491 171.452648 \nL 103.913919 171.452648 \nL 103.913919 171.241029 \nL 106.224347 171.241029 \nL 106.224347 170.980576 \nL 108.534774 170.980576 \nL 108.534774 170.264328 \nL 110.845202 170.264328 \nL 110.845202 170.101544 \nL 113.155629 170.101544 \nL 113.155629 169.64575 \nL 115.466057 169.64575 \nL 115.466057 169.466688 \nL 117.776484 169.466688 \nL 117.776484 168.115584 \nL 120.086912 168.115584 \nL 120.086912 167.969079 \nL 122.397339 167.969079 \nL 122.397339 167.008655 \nL 124.707767 167.008655 \nL 124.707767 166.145902 \nL 127.018194 166.145902 \nL 127.018194 164.957582 \nL 129.328622 164.957582 \nL 129.328622 163.68787 \nL 131.63905 163.68787 \nL 131.63905 163.411137 \nL 133.949477 163.411137 \nL 133.949477 162.157704 \nL 136.259905 162.157704 \nL 136.259905 161.604239 \nL 138.570332 161.604239 \nL 138.570332 159.650836 \nL 140.88076 159.650836 \nL 140.88076 159.195042 \nL 143.191187 159.195042 \nL 143.191187 157.518371 \nL 145.501615 157.518371 \nL 145.501615 156.867236 \nL 147.812042 156.867236 \nL 147.812042 154.881276 \nL 152.432897 154.978946 \nL 152.432897 152.732532 \nL 154.743325 152.732532 \nL 154.743325 151.593047 \nL 157.053753 151.593047 \nL 157.053753 149.004788 \nL 159.36418 149.004788 \nL 159.36418 147.100219 \nL 161.674608 147.100219 \nL 161.674608 145.684002 \nL 163.985035 145.684002 \nL 163.985035 145.211929 \nL 166.295463 145.211929 \nL 166.295463 143.51898 \nL 168.60589 143.51898 \nL 168.60589 142.216711 \nL 170.916318 142.216711 \nL 170.916318 141.012112 \nL 173.226745 141.012112 \nL 173.226745 140.865607 \nL 175.537173 140.865607 \nL 175.537173 138.84709 \nL 177.8476 138.84709 \nL 177.8476 136.975078 \nL 180.158028 136.975078 \nL 180.158028 137.105305 \nL 184.778883 137.186697 \nL 184.778883 136.356501 \nL 187.089311 136.356501 \nL 187.089311 134.354262 \nL 189.399738 134.354262 \nL 189.399738 134.533324 \nL 191.710166 134.533324 \nL 191.710166 132.254354 \nL 194.020593 132.254354 \nL 194.020593 134.87517 \nL 196.331021 134.87517 \nL 196.331021 133.947303 \nL 198.641448 133.947303 \nL 198.641448 134.354262 \nL 200.951876 134.354262 \nL 200.951876 134.7775 \nL 203.262303 134.7775 \nL 203.262303 136.242552 \nL 205.572731 136.242552 \nL 205.572731 136.356501 \nL 207.883158 136.356501 \nL 207.883158 137.251811 \nL 210.193586 137.251811 \nL 210.193586 136.209995 \nL 212.504014 136.209995 \nL 212.504014 138.554079 \nL 214.814441 138.554079 \nL 214.814441 139.188936 \nL 217.124869 139.188936 \nL 217.124869 140.263307 \nL 219.435296 140.263307 \nL 219.435296 142.395773 \nL 221.745724 142.395773 \nL 221.745724 142.086484 \nL 224.056151 142.086484 \nL 224.056151 145.097981 \nL 226.366579 145.097981 \nL 226.366579 146.270023 \nL 228.677006 146.270023 \nL 228.677006 146.986271 \nL 230.987434 146.986271 \nL 230.987434 148.190869 \nL 233.297861 148.190869 \nL 233.297861 150.388448 \nL 235.608289 150.388448 \nL 235.608289 151.593047 \nL 237.918717 151.593047 \nL 237.918717 151.983728 \nL 240.229144 151.983728 \nL 240.229144 153.823183 \nL 242.539572 153.823183 \nL 242.539572 155.385905 \nL 244.849999 155.385905 \nL 244.849999 156.883515 \nL 247.160427 156.883515 \nL 247.160427 159.30899 \nL 249.470854 159.30899 \nL 249.470854 158.902031 \nL 251.781282 158.902031 \nL 251.781282 160.985662 \nL 254.091709 160.985662 \nL 254.091709 162.09259 \nL 256.402137 162.09259 \nL 256.402137 162.548384 \nL 258.712564 162.548384 \nL 258.712564 163.557643 \nL 261.022992 163.557643 \nL 261.022992 164.518066 \nL 263.33342 164.518066 \nL 263.33342 166.438913 \nL 265.643847 166.438913 \nL 265.643847 165.820335 \nL 267.954275 165.820335 \nL 267.954275 167.155161 \nL 270.264702 167.155161 \nL 270.264702 167.936522 \nL 272.57513 167.936522 \nL 272.57513 168.5551 \nL 274.885557 168.5551 \nL 274.885557 168.978337 \nL 277.195985 168.978337 \nL 277.195985 169.482966 \nL 279.506412 169.482966 \nL 279.506412 170.508503 \nL 284.127267 170.54106 \nL 284.127267 170.703843 \nL 286.437695 170.703843 \nL 286.437695 171.550318 \nL 288.748123 171.550318 \nL 288.748123 171.696824 \nL 291.05855 171.696824 \nL 291.05855 171.908442 \nL 293.368978 171.908442 \nL 293.368978 172.282845 \nL 297.989833 172.380515 \nL 297.989833 172.494463 \nL 300.30026 172.494463 \nL 300.30026 172.608412 \nL 302.610688 172.608412 \nL 302.610688 172.803752 \nL 304.921115 172.803752 \nL 304.921115 172.966536 \nL 311.852398 172.982814 \nL 311.852398 173.113041 \nL 316.473253 173.194433 \nL 316.473253 173.259546 \nL 321.094108 173.357216 \nL 321.094108 173.438608 \nL 367.302659 173.503722 \nL 367.302659 173.52 \n\" style=\"fill:none;stroke:#2ca02c;stroke-linejoin:miter;\"/>\n   </g>\n   <g id=\"patch_6\">\n    <path d=\"M 33.28375 173.52 \nL 33.28375 7.2 \n\" style=\"fill:none;stroke:#000000;stroke-linecap:square;stroke-linejoin:miter;stroke-width:0.8;\"/>\n   </g>\n   <g id=\"patch_7\">\n    <path d=\"M 368.08375 173.52 \nL 368.08375 7.2 \n\" style=\"fill:none;stroke:#000000;stroke-linecap:square;stroke-linejoin:miter;stroke-width:0.8;\"/>\n   </g>\n   <g id=\"patch_8\">\n    <path d=\"M 33.28375 173.52 \nL 368.08375 173.52 \n\" style=\"fill:none;stroke:#000000;stroke-linecap:square;stroke-linejoin:miter;stroke-width:0.8;\"/>\n   </g>\n   <g id=\"patch_9\">\n    <path d=\"M 33.28375 7.2 \nL 368.08375 7.2 \n\" style=\"fill:none;stroke:#000000;stroke-linecap:square;stroke-linejoin:miter;stroke-width:0.8;\"/>\n   </g>\n   <g id=\"legend_1\">\n    <g id=\"patch_10\">\n     <path d=\"M 182.936875 69.64125 \nL 359.68375 69.64125 \nQ 362.08375 69.64125 362.08375 67.24125 \nL 362.08375 15.6 \nQ 362.08375 13.2 359.68375 13.2 \nL 182.936875 13.2 \nQ 180.536875 13.2 180.536875 15.6 \nL 180.536875 67.24125 \nQ 180.536875 69.64125 182.936875 69.64125 \nz\n\" style=\"fill:#ffffff;opacity:0.8;stroke:#cccccc;stroke-linejoin:miter;\"/>\n    </g>\n    <g id=\"patch_11\">\n     <path d=\"M 185.336875 27.118125 \nL 209.336875 27.118125 \nL 209.336875 18.718125 \nL 185.336875 18.718125 \nz\n\" style=\"fill:none;opacity:0.5;stroke:#1f77b4;stroke-linejoin:miter;\"/>\n    </g>\n    <g id=\"text_14\">\n     <!-- (mean, stddev)=(0, 1) -->\n     <g transform=\"translate(218.936875 27.118125)scale(0.12 -0.12)\">\n      <defs>\n       <path d=\"M 31 75.875 \nQ 24.46875 64.65625 21.28125 53.65625 \nQ 18.109375 42.671875 18.109375 31.390625 \nQ 18.109375 20.125 21.3125 9.0625 \nQ 24.515625 -2 31 -13.1875 \nL 23.1875 -13.1875 \nQ 15.875 -1.703125 12.234375 9.375 \nQ 8.59375 20.453125 8.59375 31.390625 \nQ 8.59375 42.28125 12.203125 53.3125 \nQ 15.828125 64.359375 23.1875 75.875 \nz\n\" id=\"DejaVuSans-40\"/>\n       <path d=\"M 52 44.1875 \nQ 55.375 50.25 60.0625 53.125 \nQ 64.75 56 71.09375 56 \nQ 79.640625 56 84.28125 50.015625 \nQ 88.921875 44.046875 88.921875 33.015625 \nL 88.921875 0 \nL 79.890625 0 \nL 79.890625 32.71875 \nQ 79.890625 40.578125 77.09375 44.375 \nQ 74.3125 48.1875 68.609375 48.1875 \nQ 61.625 48.1875 57.5625 43.546875 \nQ 53.515625 38.921875 53.515625 30.90625 \nL 53.515625 0 \nL 44.484375 0 \nL 44.484375 32.71875 \nQ 44.484375 40.625 41.703125 44.40625 \nQ 38.921875 48.1875 33.109375 48.1875 \nQ 26.21875 48.1875 22.15625 43.53125 \nQ 18.109375 38.875 18.109375 30.90625 \nL 18.109375 0 \nL 9.078125 0 \nL 9.078125 54.6875 \nL 18.109375 54.6875 \nL 18.109375 46.1875 \nQ 21.1875 51.21875 25.484375 53.609375 \nQ 29.78125 56 35.6875 56 \nQ 41.65625 56 45.828125 52.96875 \nQ 50 49.953125 52 44.1875 \nz\n\" id=\"DejaVuSans-109\"/>\n       <path d=\"M 56.203125 29.59375 \nL 56.203125 25.203125 \nL 14.890625 25.203125 \nQ 15.484375 15.921875 20.484375 11.0625 \nQ 25.484375 6.203125 34.421875 6.203125 \nQ 39.59375 6.203125 44.453125 7.46875 \nQ 49.3125 8.734375 54.109375 11.28125 \nL 54.109375 2.78125 \nQ 49.265625 0.734375 44.1875 -0.34375 \nQ 39.109375 -1.421875 33.890625 -1.421875 \nQ 20.796875 -1.421875 13.15625 6.1875 \nQ 5.515625 13.8125 5.515625 26.8125 \nQ 5.515625 40.234375 12.765625 48.109375 \nQ 20.015625 56 32.328125 56 \nQ 43.359375 56 49.78125 48.890625 \nQ 56.203125 41.796875 56.203125 29.59375 \nz\nM 47.21875 32.234375 \nQ 47.125 39.59375 43.09375 43.984375 \nQ 39.0625 48.390625 32.421875 48.390625 \nQ 24.90625 48.390625 20.390625 44.140625 \nQ 15.875 39.890625 15.1875 32.171875 \nz\n\" id=\"DejaVuSans-101\"/>\n       <path d=\"M 34.28125 27.484375 \nQ 23.390625 27.484375 19.1875 25 \nQ 14.984375 22.515625 14.984375 16.5 \nQ 14.984375 11.71875 18.140625 8.90625 \nQ 21.296875 6.109375 26.703125 6.109375 \nQ 34.1875 6.109375 38.703125 11.40625 \nQ 43.21875 16.703125 43.21875 25.484375 \nL 43.21875 27.484375 \nz\nM 52.203125 31.203125 \nL 52.203125 0 \nL 43.21875 0 \nL 43.21875 8.296875 \nQ 40.140625 3.328125 35.546875 0.953125 \nQ 30.953125 -1.421875 24.3125 -1.421875 \nQ 15.921875 -1.421875 10.953125 3.296875 \nQ 6 8.015625 6 15.921875 \nQ 6 25.140625 12.171875 29.828125 \nQ 18.359375 34.515625 30.609375 34.515625 \nL 43.21875 34.515625 \nL 43.21875 35.40625 \nQ 43.21875 41.609375 39.140625 45 \nQ 35.0625 48.390625 27.6875 48.390625 \nQ 23 48.390625 18.546875 47.265625 \nQ 14.109375 46.140625 10.015625 43.890625 \nL 10.015625 52.203125 \nQ 14.9375 54.109375 19.578125 55.046875 \nQ 24.21875 56 28.609375 56 \nQ 40.484375 56 46.34375 49.84375 \nQ 52.203125 43.703125 52.203125 31.203125 \nz\n\" id=\"DejaVuSans-97\"/>\n       <path d=\"M 54.890625 33.015625 \nL 54.890625 0 \nL 45.90625 0 \nL 45.90625 32.71875 \nQ 45.90625 40.484375 42.875 44.328125 \nQ 39.84375 48.1875 33.796875 48.1875 \nQ 26.515625 48.1875 22.3125 43.546875 \nQ 18.109375 38.921875 18.109375 30.90625 \nL 18.109375 0 \nL 9.078125 0 \nL 9.078125 54.6875 \nL 18.109375 54.6875 \nL 18.109375 46.1875 \nQ 21.34375 51.125 25.703125 53.5625 \nQ 30.078125 56 35.796875 56 \nQ 45.21875 56 50.046875 50.171875 \nQ 54.890625 44.34375 54.890625 33.015625 \nz\n\" id=\"DejaVuSans-110\"/>\n       <path d=\"M 11.71875 12.40625 \nL 22.015625 12.40625 \nL 22.015625 4 \nL 14.015625 -11.625 \nL 7.71875 -11.625 \nL 11.71875 4 \nz\n\" id=\"DejaVuSans-44\"/>\n       <path id=\"DejaVuSans-32\"/>\n       <path d=\"M 44.28125 53.078125 \nL 44.28125 44.578125 \nQ 40.484375 46.53125 36.375 47.5 \nQ 32.28125 48.484375 27.875 48.484375 \nQ 21.1875 48.484375 17.84375 46.4375 \nQ 14.5 44.390625 14.5 40.28125 \nQ 14.5 37.15625 16.890625 35.375 \nQ 19.28125 33.59375 26.515625 31.984375 \nL 29.59375 31.296875 \nQ 39.15625 29.25 43.1875 25.515625 \nQ 47.21875 21.78125 47.21875 15.09375 \nQ 47.21875 7.46875 41.1875 3.015625 \nQ 35.15625 -1.421875 24.609375 -1.421875 \nQ 20.21875 -1.421875 15.453125 -0.5625 \nQ 10.6875 0.296875 5.421875 2 \nL 5.421875 11.28125 \nQ 10.40625 8.6875 15.234375 7.390625 \nQ 20.0625 6.109375 24.8125 6.109375 \nQ 31.15625 6.109375 34.5625 8.28125 \nQ 37.984375 10.453125 37.984375 14.40625 \nQ 37.984375 18.0625 35.515625 20.015625 \nQ 33.0625 21.96875 24.703125 23.78125 \nL 21.578125 24.515625 \nQ 13.234375 26.265625 9.515625 29.90625 \nQ 5.8125 33.546875 5.8125 39.890625 \nQ 5.8125 47.609375 11.28125 51.796875 \nQ 16.75 56 26.8125 56 \nQ 31.78125 56 36.171875 55.265625 \nQ 40.578125 54.546875 44.28125 53.078125 \nz\n\" id=\"DejaVuSans-115\"/>\n       <path d=\"M 18.3125 70.21875 \nL 18.3125 54.6875 \nL 36.8125 54.6875 \nL 36.8125 47.703125 \nL 18.3125 47.703125 \nL 18.3125 18.015625 \nQ 18.3125 11.328125 20.140625 9.421875 \nQ 21.96875 7.515625 27.59375 7.515625 \nL 36.8125 7.515625 \nL 36.8125 0 \nL 27.59375 0 \nQ 17.1875 0 13.234375 3.875 \nQ 9.28125 7.765625 9.28125 18.015625 \nL 9.28125 47.703125 \nL 2.6875 47.703125 \nL 2.6875 54.6875 \nL 9.28125 54.6875 \nL 9.28125 70.21875 \nz\n\" id=\"DejaVuSans-116\"/>\n       <path d=\"M 45.40625 46.390625 \nL 45.40625 75.984375 \nL 54.390625 75.984375 \nL 54.390625 0 \nL 45.40625 0 \nL 45.40625 8.203125 \nQ 42.578125 3.328125 38.25 0.953125 \nQ 33.9375 -1.421875 27.875 -1.421875 \nQ 17.96875 -1.421875 11.734375 6.484375 \nQ 5.515625 14.40625 5.515625 27.296875 \nQ 5.515625 40.1875 11.734375 48.09375 \nQ 17.96875 56 27.875 56 \nQ 33.9375 56 38.25 53.625 \nQ 42.578125 51.265625 45.40625 46.390625 \nz\nM 14.796875 27.296875 \nQ 14.796875 17.390625 18.875 11.75 \nQ 22.953125 6.109375 30.078125 6.109375 \nQ 37.203125 6.109375 41.296875 11.75 \nQ 45.40625 17.390625 45.40625 27.296875 \nQ 45.40625 37.203125 41.296875 42.84375 \nQ 37.203125 48.484375 30.078125 48.484375 \nQ 22.953125 48.484375 18.875 42.84375 \nQ 14.796875 37.203125 14.796875 27.296875 \nz\n\" id=\"DejaVuSans-100\"/>\n       <path d=\"M 2.984375 54.6875 \nL 12.5 54.6875 \nL 29.59375 8.796875 \nL 46.6875 54.6875 \nL 56.203125 54.6875 \nL 35.6875 0 \nL 23.484375 0 \nz\n\" id=\"DejaVuSans-118\"/>\n       <path d=\"M 8.015625 75.875 \nL 15.828125 75.875 \nQ 23.140625 64.359375 26.78125 53.3125 \nQ 30.421875 42.28125 30.421875 31.390625 \nQ 30.421875 20.453125 26.78125 9.375 \nQ 23.140625 -1.703125 15.828125 -13.1875 \nL 8.015625 -13.1875 \nQ 14.5 -2 17.703125 9.0625 \nQ 20.90625 20.125 20.90625 31.390625 \nQ 20.90625 42.671875 17.703125 53.65625 \nQ 14.5 64.65625 8.015625 75.875 \nz\n\" id=\"DejaVuSans-41\"/>\n       <path d=\"M 10.59375 45.40625 \nL 73.1875 45.40625 \nL 73.1875 37.203125 \nL 10.59375 37.203125 \nz\nM 10.59375 25.484375 \nL 73.1875 25.484375 \nL 73.1875 17.1875 \nL 10.59375 17.1875 \nz\n\" id=\"DejaVuSans-61\"/>\n      </defs>\n      <use xlink:href=\"#DejaVuSans-40\"/>\n      <use x=\"39.013672\" xlink:href=\"#DejaVuSans-109\"/>\n      <use x=\"136.425781\" xlink:href=\"#DejaVuSans-101\"/>\n      <use x=\"197.949219\" xlink:href=\"#DejaVuSans-97\"/>\n      <use x=\"259.228516\" xlink:href=\"#DejaVuSans-110\"/>\n      <use x=\"322.607422\" xlink:href=\"#DejaVuSans-44\"/>\n      <use x=\"354.394531\" xlink:href=\"#DejaVuSans-32\"/>\n      <use x=\"386.181641\" xlink:href=\"#DejaVuSans-115\"/>\n      <use x=\"438.28125\" xlink:href=\"#DejaVuSans-116\"/>\n      <use x=\"477.490234\" xlink:href=\"#DejaVuSans-100\"/>\n      <use x=\"540.966797\" xlink:href=\"#DejaVuSans-100\"/>\n      <use x=\"604.443359\" xlink:href=\"#DejaVuSans-101\"/>\n      <use x=\"665.966797\" xlink:href=\"#DejaVuSans-118\"/>\n      <use x=\"725.146484\" xlink:href=\"#DejaVuSans-41\"/>\n      <use x=\"764.160156\" xlink:href=\"#DejaVuSans-61\"/>\n      <use x=\"847.949219\" xlink:href=\"#DejaVuSans-40\"/>\n      <use x=\"886.962891\" xlink:href=\"#DejaVuSans-48\"/>\n      <use x=\"950.585938\" xlink:href=\"#DejaVuSans-44\"/>\n      <use x=\"982.373047\" xlink:href=\"#DejaVuSans-32\"/>\n      <use x=\"1014.160156\" xlink:href=\"#DejaVuSans-49\"/>\n      <use x=\"1077.783203\" xlink:href=\"#DejaVuSans-41\"/>\n     </g>\n    </g>\n    <g id=\"patch_12\">\n     <path d=\"M 185.336875 44.731875 \nL 209.336875 44.731875 \nL 209.336875 36.331875 \nL 185.336875 36.331875 \nz\n\" style=\"fill:none;opacity:0.75;stroke:#ff7f0e;stroke-linejoin:miter;\"/>\n    </g>\n    <g id=\"text_15\">\n     <!-- (mean, stddev)=(-1, 2) -->\n     <g transform=\"translate(218.936875 44.731875)scale(0.12 -0.12)\">\n      <defs>\n       <path d=\"M 4.890625 31.390625 \nL 31.203125 31.390625 \nL 31.203125 23.390625 \nL 4.890625 23.390625 \nz\n\" id=\"DejaVuSans-45\"/>\n      </defs>\n      <use xlink:href=\"#DejaVuSans-40\"/>\n      <use x=\"39.013672\" xlink:href=\"#DejaVuSans-109\"/>\n      <use x=\"136.425781\" xlink:href=\"#DejaVuSans-101\"/>\n      <use x=\"197.949219\" xlink:href=\"#DejaVuSans-97\"/>\n      <use x=\"259.228516\" xlink:href=\"#DejaVuSans-110\"/>\n      <use x=\"322.607422\" xlink:href=\"#DejaVuSans-44\"/>\n      <use x=\"354.394531\" xlink:href=\"#DejaVuSans-32\"/>\n      <use x=\"386.181641\" xlink:href=\"#DejaVuSans-115\"/>\n      <use x=\"438.28125\" xlink:href=\"#DejaVuSans-116\"/>\n      <use x=\"477.490234\" xlink:href=\"#DejaVuSans-100\"/>\n      <use x=\"540.966797\" xlink:href=\"#DejaVuSans-100\"/>\n      <use x=\"604.443359\" xlink:href=\"#DejaVuSans-101\"/>\n      <use x=\"665.966797\" xlink:href=\"#DejaVuSans-118\"/>\n      <use x=\"725.146484\" xlink:href=\"#DejaVuSans-41\"/>\n      <use x=\"764.160156\" xlink:href=\"#DejaVuSans-61\"/>\n      <use x=\"847.949219\" xlink:href=\"#DejaVuSans-40\"/>\n      <use x=\"886.962891\" xlink:href=\"#DejaVuSans-45\"/>\n      <use x=\"923.046875\" xlink:href=\"#DejaVuSans-49\"/>\n      <use x=\"986.669922\" xlink:href=\"#DejaVuSans-44\"/>\n      <use x=\"1018.457031\" xlink:href=\"#DejaVuSans-32\"/>\n      <use x=\"1050.244141\" xlink:href=\"#DejaVuSans-50\"/>\n      <use x=\"1113.867188\" xlink:href=\"#DejaVuSans-41\"/>\n     </g>\n    </g>\n    <g id=\"patch_13\">\n     <path d=\"M 185.336875 62.345625 \nL 209.336875 62.345625 \nL 209.336875 53.945625 \nL 185.336875 53.945625 \nz\n\" style=\"fill:none;stroke:#2ca02c;stroke-linejoin:miter;\"/>\n    </g>\n    <g id=\"text_16\">\n     <!-- (mean, stddev)=(2, 4) -->\n     <g transform=\"translate(218.936875 62.345625)scale(0.12 -0.12)\">\n      <use xlink:href=\"#DejaVuSans-40\"/>\n      <use x=\"39.013672\" xlink:href=\"#DejaVuSans-109\"/>\n      <use x=\"136.425781\" xlink:href=\"#DejaVuSans-101\"/>\n      <use x=\"197.949219\" xlink:href=\"#DejaVuSans-97\"/>\n      <use x=\"259.228516\" xlink:href=\"#DejaVuSans-110\"/>\n      <use x=\"322.607422\" xlink:href=\"#DejaVuSans-44\"/>\n      <use x=\"354.394531\" xlink:href=\"#DejaVuSans-32\"/>\n      <use x=\"386.181641\" xlink:href=\"#DejaVuSans-115\"/>\n      <use x=\"438.28125\" xlink:href=\"#DejaVuSans-116\"/>\n      <use x=\"477.490234\" xlink:href=\"#DejaVuSans-100\"/>\n      <use x=\"540.966797\" xlink:href=\"#DejaVuSans-100\"/>\n      <use x=\"604.443359\" xlink:href=\"#DejaVuSans-101\"/>\n      <use x=\"665.966797\" xlink:href=\"#DejaVuSans-118\"/>\n      <use x=\"725.146484\" xlink:href=\"#DejaVuSans-41\"/>\n      <use x=\"764.160156\" xlink:href=\"#DejaVuSans-61\"/>\n      <use x=\"847.949219\" xlink:href=\"#DejaVuSans-40\"/>\n      <use x=\"886.962891\" xlink:href=\"#DejaVuSans-50\"/>\n      <use x=\"950.585938\" xlink:href=\"#DejaVuSans-44\"/>\n      <use x=\"982.373047\" xlink:href=\"#DejaVuSans-32\"/>\n      <use x=\"1014.160156\" xlink:href=\"#DejaVuSans-52\"/>\n      <use x=\"1077.783203\" xlink:href=\"#DejaVuSans-41\"/>\n     </g>\n    </g>\n   </g>\n  </g>\n </g>\n <defs>\n  <clipPath id=\"pae6ef1d42c\">\n   <rect height=\"166.32\" width=\"334.8\" x=\"33.28375\" y=\"7.2\"/>\n  </clipPath>\n </defs>\n</svg>\n",
      "image/png": "[encoded data removed]"
     },
     "metadata": {}
    }
   ],
   "metadata": {}
  },
  {
   "cell_type": "markdown",
   "source": [
    "---\n",
    "### `arange`"
   ],
   "metadata": {}
  },
  {
   "cell_type": "code",
   "execution_count": 210,
   "source": [
    "np.arange(10)"
   ],
   "outputs": [
    {
     "output_type": "execute_result",
     "data": {
      "text/plain": [
       "array([0, 1, 2, 3, 4, 5, 6, 7, 8, 9])"
      ]
     },
     "metadata": {},
     "execution_count": 210
    }
   ],
   "metadata": {}
  },
  {
   "cell_type": "code",
   "execution_count": 211,
   "source": [
    "np.arange(5, 10)"
   ],
   "outputs": [
    {
     "output_type": "execute_result",
     "data": {
      "text/plain": [
       "array([5, 6, 7, 8, 9])"
      ]
     },
     "metadata": {},
     "execution_count": 211
    }
   ],
   "metadata": {}
  },
  {
   "cell_type": "code",
   "execution_count": 212,
   "source": [
    "np.arange(0, 1, .1)"
   ],
   "outputs": [
    {
     "output_type": "execute_result",
     "data": {
      "text/plain": [
       "array([0. , 0.1, 0.2, 0.3, 0.4, 0.5, 0.6, 0.7, 0.8, 0.9])"
      ]
     },
     "metadata": {},
     "execution_count": 212
    }
   ],
   "metadata": {}
  },
  {
   "cell_type": "markdown",
   "source": [
    "---\n",
    "### `reshape`"
   ],
   "metadata": {}
  },
  {
   "cell_type": "code",
   "execution_count": 213,
   "source": [
    "np.arange(10).reshape(2, 5)"
   ],
   "outputs": [
    {
     "output_type": "execute_result",
     "data": {
      "text/plain": [
       "array([[0, 1, 2, 3, 4],\n",
       "       [5, 6, 7, 8, 9]])"
      ]
     },
     "metadata": {},
     "execution_count": 213
    }
   ],
   "metadata": {}
  },
  {
   "cell_type": "code",
   "execution_count": 214,
   "source": [
    "np.arange(10).reshape(5, 2)"
   ],
   "outputs": [
    {
     "output_type": "execute_result",
     "data": {
      "text/plain": [
       "array([[0, 1],\n",
       "       [2, 3],\n",
       "       [4, 5],\n",
       "       [6, 7],\n",
       "       [8, 9]])"
      ]
     },
     "metadata": {},
     "execution_count": 214
    }
   ],
   "metadata": {}
  },
  {
   "cell_type": "markdown",
   "source": [
    "---\n",
    "### `linspace`"
   ],
   "metadata": {}
  },
  {
   "cell_type": "code",
   "execution_count": 215,
   "source": [
    "np.linspace(0, 1, 5)"
   ],
   "outputs": [
    {
     "output_type": "execute_result",
     "data": {
      "text/plain": [
       "array([0.  , 0.25, 0.5 , 0.75, 1.  ])"
      ]
     },
     "metadata": {},
     "execution_count": 215
    }
   ],
   "metadata": {}
  },
  {
   "cell_type": "code",
   "execution_count": 216,
   "source": [
    "np.linspace(0, 1, 20) # endpoint=True"
   ],
   "outputs": [
    {
     "output_type": "execute_result",
     "data": {
      "text/plain": [
       "array([0.        , 0.05263158, 0.10526316, 0.15789474, 0.21052632,\n",
       "       0.26315789, 0.31578947, 0.36842105, 0.42105263, 0.47368421,\n",
       "       0.52631579, 0.57894737, 0.63157895, 0.68421053, 0.73684211,\n",
       "       0.78947368, 0.84210526, 0.89473684, 0.94736842, 1.        ])"
      ]
     },
     "metadata": {},
     "execution_count": 216
    }
   ],
   "metadata": {}
  },
  {
   "cell_type": "code",
   "execution_count": 217,
   "source": [
    "np.linspace(0, 1, 20, False) # endpoint=False"
   ],
   "outputs": [
    {
     "output_type": "execute_result",
     "data": {
      "text/plain": [
       "array([0.  , 0.05, 0.1 , 0.15, 0.2 , 0.25, 0.3 , 0.35, 0.4 , 0.45, 0.5 ,\n",
       "       0.55, 0.6 , 0.65, 0.7 , 0.75, 0.8 , 0.85, 0.9 , 0.95])"
      ]
     },
     "metadata": {},
     "execution_count": 217
    }
   ],
   "metadata": {
    "scrolled": true
   }
  },
  {
   "cell_type": "markdown",
   "source": [
    "---\n",
    "### `zeros`, `ones`, `empty`"
   ],
   "metadata": {}
  },
  {
   "cell_type": "code",
   "execution_count": 218,
   "source": [
    "np.zeros(5)"
   ],
   "outputs": [
    {
     "output_type": "execute_result",
     "data": {
      "text/plain": [
       "array([0., 0., 0., 0., 0.])"
      ]
     },
     "metadata": {},
     "execution_count": 218
    }
   ],
   "metadata": {}
  },
  {
   "cell_type": "code",
   "execution_count": 219,
   "source": [
    "np.zeros((3, 3))"
   ],
   "outputs": [
    {
     "output_type": "execute_result",
     "data": {
      "text/plain": [
       "array([[0., 0., 0.],\n",
       "       [0., 0., 0.],\n",
       "       [0., 0., 0.]])"
      ]
     },
     "metadata": {},
     "execution_count": 219
    }
   ],
   "metadata": {
    "scrolled": true
   }
  },
  {
   "cell_type": "code",
   "execution_count": 222,
   "source": [
    "np.zeros((3, 3), dtype=np.int8).itemsize"
   ],
   "outputs": [
    {
     "output_type": "execute_result",
     "data": {
      "text/plain": [
       "1"
      ]
     },
     "metadata": {},
     "execution_count": 222
    }
   ],
   "metadata": {
    "scrolled": true
   }
  },
  {
   "cell_type": "code",
   "execution_count": 223,
   "source": [
    "np.ones(5)"
   ],
   "outputs": [
    {
     "output_type": "execute_result",
     "data": {
      "text/plain": [
       "array([1., 1., 1., 1., 1.])"
      ]
     },
     "metadata": {},
     "execution_count": 223
    }
   ],
   "metadata": {}
  },
  {
   "cell_type": "code",
   "execution_count": 226,
   "source": [
    "np.ones((3, 3))"
   ],
   "outputs": [
    {
     "output_type": "execute_result",
     "data": {
      "text/plain": [
       "array([[1., 1., 1.],\n",
       "       [1., 1., 1.],\n",
       "       [1., 1., 1.]])"
      ]
     },
     "metadata": {},
     "execution_count": 226
    }
   ],
   "metadata": {}
  },
  {
   "cell_type": "code",
   "execution_count": 227,
   "source": [
    "np.empty(5)"
   ],
   "outputs": [
    {
     "output_type": "execute_result",
     "data": {
      "text/plain": [
       "array([1., 1., 1., 1., 1.])"
      ]
     },
     "metadata": {},
     "execution_count": 227
    }
   ],
   "metadata": {}
  },
  {
   "cell_type": "code",
   "execution_count": 228,
   "source": [
    "np.empty((2, 2))"
   ],
   "outputs": [
    {
     "output_type": "execute_result",
     "data": {
      "text/plain": [
       "array([[0.25, 0.5 ],\n",
       "       [0.75, 1.  ]])"
      ]
     },
     "metadata": {},
     "execution_count": 228
    }
   ],
   "metadata": {
    "scrolled": true
   }
  },
  {
   "cell_type": "markdown",
   "source": [
    "---\n",
    "### `identity` and `eye`"
   ],
   "metadata": {}
  },
  {
   "cell_type": "code",
   "execution_count": 229,
   "source": [
    "np.identity(3)"
   ],
   "outputs": [
    {
     "output_type": "execute_result",
     "data": {
      "text/plain": [
       "array([[1., 0., 0.],\n",
       "       [0., 1., 0.],\n",
       "       [0., 0., 1.]])"
      ]
     },
     "metadata": {},
     "execution_count": 229
    }
   ],
   "metadata": {}
  },
  {
   "cell_type": "code",
   "execution_count": 230,
   "source": [
    "np.eye(3, 3)"
   ],
   "outputs": [
    {
     "output_type": "execute_result",
     "data": {
      "text/plain": [
       "array([[1., 0., 0.],\n",
       "       [0., 1., 0.],\n",
       "       [0., 0., 1.]])"
      ]
     },
     "metadata": {},
     "execution_count": 230
    }
   ],
   "metadata": {}
  },
  {
   "cell_type": "code",
   "execution_count": 231,
   "source": [
    "np.eye(8, 4)"
   ],
   "outputs": [
    {
     "output_type": "execute_result",
     "data": {
      "text/plain": [
       "array([[1., 0., 0., 0.],\n",
       "       [0., 1., 0., 0.],\n",
       "       [0., 0., 1., 0.],\n",
       "       [0., 0., 0., 1.],\n",
       "       [0., 0., 0., 0.],\n",
       "       [0., 0., 0., 0.],\n",
       "       [0., 0., 0., 0.],\n",
       "       [0., 0., 0., 0.]])"
      ]
     },
     "metadata": {},
     "execution_count": 231
    }
   ],
   "metadata": {}
  },
  {
   "cell_type": "code",
   "execution_count": 232,
   "source": [
    "np.eye(8, 4, k=1)"
   ],
   "outputs": [
    {
     "output_type": "execute_result",
     "data": {
      "text/plain": [
       "array([[0., 1., 0., 0.],\n",
       "       [0., 0., 1., 0.],\n",
       "       [0., 0., 0., 1.],\n",
       "       [0., 0., 0., 0.],\n",
       "       [0., 0., 0., 0.],\n",
       "       [0., 0., 0., 0.],\n",
       "       [0., 0., 0., 0.],\n",
       "       [0., 0., 0., 0.]])"
      ]
     },
     "metadata": {},
     "execution_count": 232
    }
   ],
   "metadata": {
    "scrolled": true
   }
  },
  {
   "cell_type": "code",
   "execution_count": 233,
   "source": [
    "np.eye(8, 4, k=-3)"
   ],
   "outputs": [
    {
     "output_type": "execute_result",
     "data": {
      "text/plain": [
       "array([[0., 0., 0., 0.],\n",
       "       [0., 0., 0., 0.],\n",
       "       [0., 0., 0., 0.],\n",
       "       [1., 0., 0., 0.],\n",
       "       [0., 1., 0., 0.],\n",
       "       [0., 0., 1., 0.],\n",
       "       [0., 0., 0., 1.],\n",
       "       [0., 0., 0., 0.]])"
      ]
     },
     "metadata": {},
     "execution_count": 233
    }
   ],
   "metadata": {}
  },
  {
   "cell_type": "code",
   "execution_count": 234,
   "source": [
    "\"Hello World\"[6]"
   ],
   "outputs": [
    {
     "output_type": "execute_result",
     "data": {
      "text/plain": [
       "'W'"
      ]
     },
     "metadata": {},
     "execution_count": 234
    }
   ],
   "metadata": {
    "scrolled": true
   }
  },
  {
   "cell_type": "markdown",
   "source": [
    "![purple-divider](https://user-images.githubusercontent.com/7065401/52071927-c1cd7100-2562-11e9-908a-dde91ba14e59.png)"
   ],
   "metadata": {}
  }
 ],
 "metadata": {
  "kernelspec": {
   "name": "python3",
   "display_name": "Python 3.6.9 64-bit ('udacity_ml': venv)"
  },
  "language_info": {
   "codemirror_mode": {
    "name": "ipython",
    "version": 3
   },
   "file_extension": ".py",
   "mimetype": "text/x-python",
   "name": "python",
   "nbconvert_exporter": "python",
   "pygments_lexer": "ipython3",
   "version": "3.6.9"
  },
  "interpreter": {
   "hash": "a14c8b56d5eece52e19a167c087b3472da437c9ced85b63f60e4cf748c6dee14"
  }
 },
 "nbformat": 4,
 "nbformat_minor": 4
}