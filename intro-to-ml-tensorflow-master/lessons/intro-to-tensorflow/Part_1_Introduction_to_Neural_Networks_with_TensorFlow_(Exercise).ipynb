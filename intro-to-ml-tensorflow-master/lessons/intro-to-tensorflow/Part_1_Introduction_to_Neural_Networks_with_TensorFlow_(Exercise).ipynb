{
 "cells": [
  {
   "cell_type": "markdown",
   "source": [
    "# Introduction to Neural Networks with TensorFlow\n",
    "\n",
    "In this notebook, you'll get introduced to [TensorFlow](https://www.tensorflow.org/), an open source library to help you develop and train machine learning models.\n",
    "\n",
    "TensorFlow in a lot of ways behaves like the arrays you love from NumPy. NumPy arrays, after all, are just tensors. TensorFlow takes these tensors and makes it simple to move them to GPUs for the faster processing needed when training neural networks. TensorFlow can also calculate gradients automatically, which is perfect for backpropagation, and has  intuitive high-level APIs specifically for building neural networks. "
   ],
   "metadata": {
    "colab_type": "text",
    "id": "q9aaxiSJg60h"
   }
  },
  {
   "cell_type": "markdown",
   "source": [
    "## Neural Networks\n",
    "\n",
    "Deep Learning is based on artificial neural networks which have been around in some form since the late 1950s. The networks are built from individual parts approximating neurons, typically called units or simply \"neurons.\" Each unit has some number of weighted inputs. These weighted inputs are summed together (a linear combination) then passed through an activation function to get the unit's output.\n",
    "\n",
    "<img src=\"assets/simple_neuron.png\" width=400px>\n",
    "\n",
    "Mathematically, the above looks like: \n",
    "\n",
    "$$\n",
    "y = f(h)\n",
    "$$\n",
    "\n",
    "where,\n",
    "\n",
    "$$\n",
    "h = w_1 x_1 + w_2 x_2 + b = \\sum_{i=1}^2 w_i x_i + b\n",
    "$$\n",
    "\n",
    "If we let $b = w_0x_0$, then we can express $h$ as the dot/inner product of two vectors:\n",
    "\n",
    "$$\n",
    "h = \\begin{bmatrix}\n",
    "x_0 \\, x_1 \\, x_2\n",
    "\\end{bmatrix}\n",
    "\\cdot \n",
    "\\begin{bmatrix}\n",
    "           w_0 \\\\\n",
    "           w_1 \\\\\n",
    "           w_2\n",
    "\\end{bmatrix} = w_0 x_0 + w_1 x_1 + w_2 x_2\n",
    "$$"
   ],
   "metadata": {
    "colab_type": "text",
    "id": "Q6WXEV-OiFY7"
   }
  },
  {
   "cell_type": "markdown",
   "source": [
    "## Tensors\n",
    "\n",
    "It turns out neural network computations are just a bunch of linear algebra operations on *tensors*, a generalization of matrices. A vector is a 1-dimensional tensor, a matrix is a 2-dimensional tensor, an array with three indices is a 3-dimensional tensor (RGB color images for example). The fundamental data structure for neural networks are tensors and TensorFlow is built around tensors.\n",
    "\n",
    "<img src=\"assets/tensor_examples.svg\" width=600px>\n",
    "\n",
    "With the basics covered, it's time to explore how we can use TensorFlow to build a simple neural network."
   ],
   "metadata": {
    "colab_type": "text",
    "id": "AcBD-UAaiaUc"
   }
  },
  {
   "cell_type": "markdown",
   "source": [
    "## Import Resources"
   ],
   "metadata": {
    "colab_type": "text",
    "id": "pt6qo5hiesm7"
   }
  },
  {
   "cell_type": "code",
   "execution_count": 1,
   "source": [
    "import warnings\n",
    "warnings.filterwarnings('ignore')\n",
    "\n",
    "import numpy as np\n",
    "import tensorflow as tf"
   ],
   "outputs": [],
   "metadata": {
    "colab": {},
    "colab_type": "code",
    "id": "adTiqrSxkPvL"
   }
  },
  {
   "cell_type": "code",
   "execution_count": 2,
   "source": [
    "import logging\n",
    "logger = tf.get_logger()\n",
    "logger.setLevel(logging.ERROR)"
   ],
   "outputs": [],
   "metadata": {}
  },
  {
   "cell_type": "code",
   "execution_count": 3,
   "source": [
    "print('Using:')\n",
    "print('\\t\\u2022 TensorFlow version:', tf.__version__)"
   ],
   "outputs": [
    {
     "output_type": "stream",
     "name": "stdout",
     "text": [
      "Using:\n",
      "\t• TensorFlow version: 2.6.0\n"
     ]
    }
   ],
   "metadata": {
    "colab": {
     "base_uri": "https://localhost:8080/",
     "height": 51
    },
    "colab_type": "code",
    "id": "jyZjjOb-V4eo",
    "outputId": "0bb960f6-e973-46af-eccb-a923475310e3"
   }
  },
  {
   "cell_type": "markdown",
   "source": [
    "## Single Layer Neural Network"
   ],
   "metadata": {
    "colab_type": "text",
    "id": "IVTYgypBfx2a"
   }
  },
  {
   "cell_type": "code",
   "execution_count": 4,
   "source": [
    "# Set the random seed so things are reproducible\n",
    "tf.random.set_seed(7) \n",
    "\n",
    "# Create 5 random input features\n",
    "features = tf.random.normal((1, 5)) # normal ditribtion: mean 0, std deviation:1\n",
    "\n",
    "# Create random weights for our neural network\n",
    "weights = tf.random.normal((1, 5))\n",
    "\n",
    "# Create a random bias term for our neural network\n",
    "bias = tf.random.normal((1, 1))\n",
    "\n",
    "print('Features:\\n', features)\n",
    "print('\\nWeights:\\n', weights)\n",
    "print('\\nBias:\\n', bias)"
   ],
   "outputs": [
    {
     "output_type": "stream",
     "name": "stdout",
     "text": [
      "Features:\n",
      " tf.Tensor([[ 0.5983449   0.06276207  0.14631742  0.48481876 -0.23572342]], shape=(1, 5), dtype=float32)\n",
      "\n",
      "Weights:\n",
      " tf.Tensor([[-2.2733312  -1.6592104  -0.2633568  -0.80923414  1.0294315 ]], shape=(1, 5), dtype=float32)\n",
      "\n",
      "Bias:\n",
      " tf.Tensor([[1.5749502]], shape=(1, 1), dtype=float32)\n"
     ]
    }
   ],
   "metadata": {
    "colab": {
     "base_uri": "https://localhost:8080/",
     "height": 153
    },
    "colab_type": "code",
    "id": "UDJArguZkLPJ",
    "outputId": "8f187357-5089-49ab-8112-2819fa3ec786"
   }
  },
  {
   "cell_type": "markdown",
   "source": [
    "Above we generated data we can use to get the output of our simple network. This is all just random for now, going forward we'll start using real data. \n",
    "\n",
    "As we can see above, in TensorFlow, tensors are `tf.Tensor` objects that have a data type and a shape. Now let's go through each relevant line:\n",
    "\n",
    "* `features = tf.random.normal((1, 5))` creates a tensor with shape `(1, 5)`, one row and five columns, that contains random values from a normal distribution with a mean of zero and standard deviation of one.\n",
    "\n",
    "* `weights = tf.random.normal((1, 5))` creates a tensor with shape `(1, 5)`, one row and five columns, again containing random values from a normal distribution with a mean of zero and standard deviation of one.\n",
    "\n",
    "* `bias = tf.random.normal((1, 1))` creates a single random value from a normal distribution.\n",
    "\n",
    "TensorFlow's tensors can be added, multiplied, subtracted, etc., just like NumPy arrays. In general, you'll use TensorFlow's tensors pretty much the same way you'd use NumPy arrays. They come with some nice benefits though such as GPU acceleration which we'll get to later. For now, we will use the generated random data to calculate the output of this simple single layer network.\n",
    "\n",
    "Now we create the activation function we are going to use:"
   ],
   "metadata": {
    "colab_type": "text",
    "id": "7o-2IomPkZx6"
   }
  },
  {
   "cell_type": "code",
   "execution_count": 5,
   "source": [
    "def sigmoid_activation(x):\n",
    "    \"\"\" Sigmoid activation function\n",
    "    \n",
    "        Arguments\n",
    "        ---------\n",
    "        x: tf.Tensor. Must be one of the following types: bfloat16, half, float32, float64, complex64, complex128.\n",
    "    \"\"\"\n",
    "    return 1 / (1 + tf.exp(-x))"
   ],
   "outputs": [],
   "metadata": {
    "colab": {},
    "colab_type": "code",
    "id": "wmOi7zjFgsMM"
   }
  },
  {
   "cell_type": "markdown",
   "source": [
    "Now, let's calculate the output of our single layer neural network.\n",
    "\n",
    "> **Exercise**: Calculate the output of the network with input features `features`, weights `weights`, and bias `bias`. Similar to NumPy, TensorFlow has a `tf.multiply(a, b)` that multiplies tensors `a` and `b` element-wise. It also has `tf.reduce_sum(x)` that computes the sum of the elements of tensor `x`. Use the `sigmoid_activation` function defined above as the activation function."
   ],
   "metadata": {
    "colab_type": "text",
    "id": "57QrwP-0gny1"
   }
  },
  {
   "cell_type": "code",
   "execution_count": 12,
   "source": [
    "## Solution\n",
    "y = sigmoid_activation(tf.matmul(features, tf.transpose(weights)) + bias)\n",
    "\n",
    "print('label:\\n', y)"
   ],
   "outputs": [
    {
     "output_type": "stream",
     "name": "stdout",
     "text": [
      "label:\n",
      " tf.Tensor([[0.3628656]], shape=(1, 1), dtype=float32)\n"
     ]
    }
   ],
   "metadata": {
    "colab": {
     "base_uri": "https://localhost:8080/",
     "height": 51
    },
    "colab_type": "code",
    "id": "qujbYK1nkaW-",
    "outputId": "d69a6561-5414-49e3-e8f3-419892991533"
   }
  },
  {
   "cell_type": "markdown",
   "source": [
    "You can do the multiplication and sum in the same operation using a matrix multiplication. In general, you'll want to use matrix multiplications since they are more efficient and accelerated using modern libraries and high-performance computing on GPUs.\n",
    "\n",
    "Here, we want to do a matrix multiplication of the features and the weights. For this we can use `tf.matmul()`. If we try to do it with `features` and `weights` as they are, we'll get an error\n",
    "\n",
    "```python\n",
    ">> tf.matmul(features, weights)\n",
    "\n",
    "---------------------------------------------------------------------------\n",
    "InvalidArgumentError                      Traceback (most recent call last)\n",
    "<ipython-input-7-66a4fe44f20b> in <module>()\n",
    "      1 \n",
    "----> 2 y = sigmoid_activation(tf.matmul(features, weights) + bias)\n",
    "\n",
    "2 frames\n",
    "/usr/local/lib/python3.6/dist-packages/six.py in raise_from(value, from_value)\n",
    "\n",
    "InvalidArgumentError: Matrix size-incompatible: In[0]: [1,5], In[1]: [1,5] [Op:MatMul] name: MatMul/\n",
    "```\n",
    "\n",
    "As you're building neural networks in any framework, you'll see this often. Really often. What's happening here is our tensors aren't the correct shapes to perform a matrix multiplication. Remember that for matrix multiplications, the number of columns in the first tensor must equal to the number of rows in the second tensor. Both `features` and `weights` have the same shape, `(1, 5)`. This means we need to change the shape of `weights` to get the matrix multiplication to work.\n",
    "\n",
    "**Note:** To see the shape of a tensor called `tensor`, use `tensor.shape`. If you're building neural networks, you'll be using this method often."
   ],
   "metadata": {
    "colab_type": "text",
    "id": "gx6LpDRakgOD"
   }
  },
  {
   "cell_type": "code",
   "execution_count": 8,
   "source": [
    "print('Features Shape:', features.shape)\n",
    "print('Weights Shape:', weights.shape)\n",
    "print('Bias Shape:', bias.shape)"
   ],
   "outputs": [
    {
     "output_type": "stream",
     "name": "stdout",
     "text": [
      "Features Shape: (1, 5)\n",
      "Weights Shape: (1, 5)\n",
      "Bias Shape: (1, 1)\n"
     ]
    }
   ],
   "metadata": {
    "colab": {
     "base_uri": "https://localhost:8080/",
     "height": 68
    },
    "colab_type": "code",
    "id": "5flC0NB5uSlk",
    "outputId": "2aa713f0-3563-4845-bdd9-5331e07e694d"
   }
  },
  {
   "cell_type": "markdown",
   "source": [
    "Now, we need to change the shape of the `weights` tensor to get the matrix multiplication to work. However, if we use the `tf.matmul(a,b)` function, this will not be necessary because the `tf.matmul(a,b)` function has the `transpose_a` and `transpose_b` arguments that allows us to transpose the `a` or `b` tensors for the multiplication without actually changing the shape of the tensor permanently. Therefore, in this case we can use the argument `transpose_b = True` to transpose the `weights` tensor from `(1,5)` to `(5,1)` just for the multiplication.\n",
    "\n",
    "> **Exercise**: Calculate the output of our little network using matrix multiplication."
   ],
   "metadata": {
    "colab_type": "text",
    "id": "lC0vZqQWvBon"
   }
  },
  {
   "cell_type": "code",
   "execution_count": 13,
   "source": [
    "## Solution\n",
    "y = sigmoid_activation(tf.matmul(features, weights, transpose_b=True) + bias)\n",
    "\n",
    "print('label:\\n', y)"
   ],
   "outputs": [
    {
     "output_type": "stream",
     "name": "stdout",
     "text": [
      "label:\n",
      " tf.Tensor([[0.3628656]], shape=(1, 1), dtype=float32)\n"
     ]
    }
   ],
   "metadata": {
    "colab": {
     "base_uri": "https://localhost:8080/",
     "height": 51
    },
    "colab_type": "code",
    "id": "iIQOahT4kg4H",
    "outputId": "273d8dcb-ade7-46ad-f720-6c439e837d4d"
   }
  },
  {
   "cell_type": "markdown",
   "source": [
    "We can see that we get the same value as before. Now let's check that the shape of the `weights` tensor has not been permanently changed by the `transpose_b = True` argument. "
   ],
   "metadata": {
    "colab_type": "text",
    "id": "pxzezexmkpzs"
   }
  },
  {
   "cell_type": "code",
   "execution_count": 11,
   "source": [
    "print('Weights Shape:', weights.shape)"
   ],
   "outputs": [
    {
     "output_type": "stream",
     "name": "stdout",
     "text": [
      "Weights Shape: (1, 5)\n"
     ]
    }
   ],
   "metadata": {
    "colab": {
     "base_uri": "https://localhost:8080/",
     "height": 34
    },
    "colab_type": "code",
    "id": "XoESCJcLkrI5",
    "outputId": "d771c85d-ba0b-4a17-cff1-812edf3aa61b"
   }
  },
  {
   "cell_type": "markdown",
   "source": [
    "As we can see, the shape of the `weights` tensor remains unchanged."
   ],
   "metadata": {
    "colab_type": "text",
    "id": "hYAyS685kv4e"
   }
  },
  {
   "cell_type": "markdown",
   "source": [
    "## Multi-Layer Neural Network\n",
    "\n",
    "That's how you can calculate the output for a single neuron. The real power of this algorithm happens when you start stacking these individual units into layers and stacks of layers, into a network of neurons. The output of one layer of neurons becomes the input for the next layer. With multiple input units and output units, we now need to express the weights as a matrix.\n",
    "\n",
    "<img src='assets/multilayer_diagram_weights.png' width=450px>\n",
    "\n",
    "In the diagram above, the first layer shown on the bottom are the inputs, understandably called the **input layer**. The middle layer is called the **hidden layer**, and the final layer (on the top) is the **output layer**. We can express this network mathematically with matrices and use matrix multiplication to get linear combinations for each unit in one operation. For example, the hidden layer (comprised of units $h_1$ and $h_2$) can be calculated as follows:\n",
    "\n",
    "$$\n",
    "\\vec{h} = [h_1 \\, h_2] = \n",
    "\\begin{bmatrix}\n",
    "x_1 \\, x_2 \\cdots \\, x_n\n",
    "\\end{bmatrix}\n",
    "\\cdot \n",
    "\\begin{bmatrix}\n",
    "           w_{11} & w_{12} \\\\\n",
    "           w_{21} &w_{22} \\\\\n",
    "           \\vdots &\\vdots \\\\\n",
    "           w_{n1} &w_{n2}\n",
    "\\end{bmatrix}\n",
    "$$\n",
    "\n",
    "The output for this small network is found by treating the hidden layer as inputs for the output unit. The network output is expressed simply as:\n",
    "\n",
    "$$\n",
    "y =  f_2 \\! \\left(\\, f_1 \\! \\left(\\vec{x} \\, \\mathbf{W_1}\\right) \\mathbf{W_2} \\right)\n",
    "$$"
   ],
   "metadata": {
    "colab_type": "text",
    "id": "ktu4Jfq3kzWx"
   }
  },
  {
   "cell_type": "code",
   "execution_count": 26,
   "source": [
    "tf.random.set_seed(7)\n",
    "\n",
    "n_inputs = 3\n",
    "n_hidden_layer1 = 2\n",
    "n_outputs = 1\n",
    "\n",
    "X = tf.random.normal((1, n_inputs))\n",
    "\n",
    "W1 = tf.random.normal((n_inputs, n_hidden_layer1))\n",
    "b1 = tf.random.normal((1, n_hidden_layer1))\n",
    "\n",
    "W2= tf.random.normal((n_hidden_layer1, n_outputs))\n",
    "b2 = tf.random.normal((1, n_outputs))"
   ],
   "outputs": [],
   "metadata": {}
  },
  {
   "cell_type": "markdown",
   "source": [
    "> **Exercise:** Calculate the output for this multi-layer network using the weights `W1` & `W2`, and the biases, `B1` & `B2`. "
   ],
   "metadata": {
    "colab_type": "text",
    "id": "cCRRqGFik5N8"
   }
  },
  {
   "cell_type": "code",
   "execution_count": 28,
   "source": [
    "## Solution\n",
    "h = sigmoid_activation(tf.matmul(X, W1) + b1)\n",
    "print(h)\n",
    "\n",
    "output = sigmoid_activation(tf.matmul(h, W2) + b2)\n",
    "print(output)"
   ],
   "outputs": [
    {
     "output_type": "stream",
     "name": "stdout",
     "text": [
      "tf.Tensor([[0.58632874 0.17224461]], shape=(1, 2), dtype=float32)\n",
      "tf.Tensor([[0.04314229]], shape=(1, 1), dtype=float32)\n"
     ]
    }
   ],
   "metadata": {
    "colab": {
     "base_uri": "https://localhost:8080/",
     "height": 34
    },
    "colab_type": "code",
    "id": "eKKfk_jyk5_n",
    "outputId": "fc2f418d-21f7-458f-8905-36dd9bdc183e"
   }
  },
  {
   "cell_type": "markdown",
   "source": [
    "If you did this correctly, you should see the output: `tf.Tensor([[0.10678572]], shape=(1, 1), dtype=float32)`\n",
    "\n",
    "The number of hidden units is a parameter of the network, often called a **hyperparameter** to differentiate it from the weights and biases parameters. As you'll see later when we discuss training a neural network, the more hidden layers and units a network has, the better able it will be able to learn from data and make accurate predictions."
   ],
   "metadata": {
    "colab_type": "text",
    "id": "9Q1QzBpFlAFj"
   }
  },
  {
   "cell_type": "markdown",
   "source": [
    "## NumPy to TensorFlow and Back\n",
    "\n",
    "This is a special bonus section! TensorFlow has a great feature for converting between NumPy's `ndarrays` and its `tf.Tensors`. To create a tensor from a NumPy ndarray, use `tf.convert_to_tensor()`. To convert a tensor to a NumPy array, use the `.numpy()` method. Below are some examples:"
   ],
   "metadata": {
    "colab_type": "text",
    "id": "qASlsncVlDRi"
   }
  },
  {
   "cell_type": "code",
   "execution_count": 33,
   "source": [
    "# Set the random seed so things are reproducible\n",
    "tf.random.set_seed(7) \n",
    "\n",
    "a = np.random.rand(4,3)\n",
    "\n",
    "print(type(a))\n",
    "print(a)"
   ],
   "outputs": [
    {
     "output_type": "stream",
     "name": "stdout",
     "text": [
      "<class 'numpy.ndarray'>\n",
      "[[0.950614   0.42135302 0.65094094]\n",
      " [0.78607754 0.2491789  0.65501197]\n",
      " [0.84403187 0.20486032 0.45833865]\n",
      " [0.28012608 0.1373257  0.94727136]]\n"
     ]
    }
   ],
   "metadata": {
    "colab": {
     "base_uri": "https://localhost:8080/",
     "height": 102
    },
    "colab_type": "code",
    "id": "5MHSE0uqlAsS",
    "outputId": "22d3e319-e6c3-4bce-8f92-5414558df10c"
   }
  },
  {
   "cell_type": "code",
   "execution_count": 34,
   "source": [
    "b = tf.convert_to_tensor(a)\n",
    "\n",
    "print(b)"
   ],
   "outputs": [
    {
     "output_type": "stream",
     "name": "stdout",
     "text": [
      "tf.Tensor(\n",
      "[[0.950614   0.42135302 0.65094094]\n",
      " [0.78607754 0.2491789  0.65501197]\n",
      " [0.84403187 0.20486032 0.45833865]\n",
      " [0.28012608 0.1373257  0.94727136]], shape=(4, 3), dtype=float64)\n"
     ]
    }
   ],
   "metadata": {
    "colab": {
     "base_uri": "https://localhost:8080/",
     "height": 102
    },
    "colab_type": "code",
    "id": "VceuFk3GlKKL",
    "outputId": "8691f3b8-8b74-403c-cf5a-f7274aef0c9c"
   }
  },
  {
   "cell_type": "code",
   "execution_count": 35,
   "source": [
    "c = b.numpy()\n",
    "\n",
    "print(type(c))\n",
    "print(c)"
   ],
   "outputs": [
    {
     "output_type": "stream",
     "name": "stdout",
     "text": [
      "<class 'numpy.ndarray'>\n",
      "[[0.950614   0.42135302 0.65094094]\n",
      " [0.78607754 0.2491789  0.65501197]\n",
      " [0.84403187 0.20486032 0.45833865]\n",
      " [0.28012608 0.1373257  0.94727136]]\n"
     ]
    }
   ],
   "metadata": {
    "colab": {
     "base_uri": "https://localhost:8080/",
     "height": 102
    },
    "colab_type": "code",
    "id": "QOh6E9SBlMzj",
    "outputId": "40de0a13-be50-4c94-cd9b-fc20e1396646"
   }
  },
  {
   "cell_type": "markdown",
   "source": [
    "If you change the values of the Tensor, the values of the ndarray will not change, and vice-versa."
   ],
   "metadata": {
    "colab_type": "text",
    "id": "Ua9iXmXBlP4M"
   }
  },
  {
   "cell_type": "code",
   "execution_count": 36,
   "source": [
    "# Multiply TensorFlow Tensor by 40\n",
    "b = b * 40\n",
    "\n",
    "print(b)"
   ],
   "outputs": [
    {
     "output_type": "stream",
     "name": "stdout",
     "text": [
      "tf.Tensor(\n",
      "[[38.02455988 16.85412065 26.03763757]\n",
      " [31.44310165  9.9671558  26.20047897]\n",
      " [33.76127494  8.19441296 18.33354608]\n",
      " [11.20504307  5.49302791 37.89085438]], shape=(4, 3), dtype=float64)\n"
     ]
    }
   ],
   "metadata": {
    "colab": {
     "base_uri": "https://localhost:8080/",
     "height": 102
    },
    "colab_type": "code",
    "id": "BC_O_BcOlTHa",
    "outputId": "c49af615-b311-4c6c-c66d-636f32dd654b"
   }
  },
  {
   "cell_type": "code",
   "execution_count": 37,
   "source": [
    "# NumPy array stays the same\n",
    "a"
   ],
   "outputs": [
    {
     "output_type": "execute_result",
     "data": {
      "text/plain": [
       "array([[0.950614  , 0.42135302, 0.65094094],\n",
       "       [0.78607754, 0.2491789 , 0.65501197],\n",
       "       [0.84403187, 0.20486032, 0.45833865],\n",
       "       [0.28012608, 0.1373257 , 0.94727136]])"
      ]
     },
     "metadata": {},
     "execution_count": 37
    }
   ],
   "metadata": {
    "colab": {
     "base_uri": "https://localhost:8080/",
     "height": 85
    },
    "colab_type": "code",
    "id": "R1gxSglFlV2R",
    "outputId": "3944e74f-62c4-4222-d505-b647ea24f4e1"
   }
  },
  {
   "cell_type": "code",
   "execution_count": 38,
   "source": [
    "# NumPy array stays the same\n",
    "c"
   ],
   "outputs": [
    {
     "output_type": "execute_result",
     "data": {
      "text/plain": [
       "array([[0.950614  , 0.42135302, 0.65094094],\n",
       "       [0.78607754, 0.2491789 , 0.65501197],\n",
       "       [0.84403187, 0.20486032, 0.45833865],\n",
       "       [0.28012608, 0.1373257 , 0.94727136]])"
      ]
     },
     "metadata": {},
     "execution_count": 38
    }
   ],
   "metadata": {
    "colab": {
     "base_uri": "https://localhost:8080/",
     "height": 85
    },
    "colab_type": "code",
    "id": "4tkHnTSbNKdE",
    "outputId": "85afcc3d-cfdd-4db0-e246-3e05ff76a04e"
   }
  },
  {
   "cell_type": "code",
   "execution_count": 39,
   "source": [
    "# Add 1 to NumPy ndarray\n",
    "a = a + 1\n",
    "\n",
    "print(a)"
   ],
   "outputs": [
    {
     "output_type": "stream",
     "name": "stdout",
     "text": [
      "[[1.950614   1.42135302 1.65094094]\n",
      " [1.78607754 1.2491789  1.65501197]\n",
      " [1.84403187 1.20486032 1.45833865]\n",
      " [1.28012608 1.1373257  1.94727136]]\n"
     ]
    }
   ],
   "metadata": {
    "colab": {
     "base_uri": "https://localhost:8080/",
     "height": 85
    },
    "colab_type": "code",
    "id": "z_vdtpxnlYUN",
    "outputId": "2788ac27-bb7f-4738-9d23-c96d09f0326a"
   }
  },
  {
   "cell_type": "code",
   "execution_count": 40,
   "source": [
    "# Tensor stays the same\n",
    "print(b)"
   ],
   "outputs": [
    {
     "output_type": "stream",
     "name": "stdout",
     "text": [
      "tf.Tensor(\n",
      "[[38.02455988 16.85412065 26.03763757]\n",
      " [31.44310165  9.9671558  26.20047897]\n",
      " [33.76127494  8.19441296 18.33354608]\n",
      " [11.20504307  5.49302791 37.89085438]], shape=(4, 3), dtype=float64)\n"
     ]
    }
   ],
   "metadata": {
    "colab": {
     "base_uri": "https://localhost:8080/",
     "height": 102
    },
    "colab_type": "code",
    "id": "sdtiRFFDlblU",
    "outputId": "67e8adc1-55e0-498a-de20-f4f2512ce961"
   }
  },
  {
   "cell_type": "code",
   "execution_count": 41,
   "source": [
    "# NumPy array stays the same\n",
    "c"
   ],
   "outputs": [
    {
     "output_type": "execute_result",
     "data": {
      "text/plain": [
       "array([[0.950614  , 0.42135302, 0.65094094],\n",
       "       [0.78607754, 0.2491789 , 0.65501197],\n",
       "       [0.84403187, 0.20486032, 0.45833865],\n",
       "       [0.28012608, 0.1373257 , 0.94727136]])"
      ]
     },
     "metadata": {},
     "execution_count": 41
    }
   ],
   "metadata": {}
  },
  {
   "cell_type": "code",
   "execution_count": 44,
   "source": [
    "tensor_my = tf.convert_to_tensor([\n",
    "    [1, 2, 3],\n",
    "    [4, 5, 6]\n",
    "])"
   ],
   "outputs": [],
   "metadata": {}
  },
  {
   "cell_type": "code",
   "execution_count": 45,
   "source": [
    "tensor_my.numpy()"
   ],
   "outputs": [
    {
     "output_type": "execute_result",
     "data": {
      "text/plain": [
       "array([[1, 2, 3],\n",
       "       [4, 5, 6]], dtype=int32)"
      ]
     },
     "metadata": {},
     "execution_count": 45
    }
   ],
   "metadata": {}
  },
  {
   "cell_type": "code",
   "execution_count": null,
   "source": [],
   "outputs": [],
   "metadata": {}
  }
 ],
 "metadata": {
  "colab": {
   "collapsed_sections": [],
   "name": "Part 1 - Introduction to Neural Networks with TensorFlow (Solution).ipynb",
   "provenance": [],
   "version": "0.3.2"
  },
  "kernelspec": {
   "name": "python3",
   "display_name": "Python 3.6.9 64-bit ('udacity_ml': venv)"
  },
  "language_info": {
   "codemirror_mode": {
    "name": "ipython",
    "version": 3
   },
   "file_extension": ".py",
   "mimetype": "text/x-python",
   "name": "python",
   "nbconvert_exporter": "python",
   "pygments_lexer": "ipython3",
   "version": "3.6.9"
  },
  "interpreter": {
   "hash": "a14c8b56d5eece52e19a167c087b3472da437c9ced85b63f60e4cf748c6dee14"
  }
 },
 "nbformat": 4,
 "nbformat_minor": 1
}